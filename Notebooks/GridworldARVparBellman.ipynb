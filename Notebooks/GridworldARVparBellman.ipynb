{
 "cells": [
  {
   "cell_type": "code",
   "execution_count": 5,
   "metadata": {},
   "outputs": [
    {
     "name": "stdout",
     "output_type": "stream",
     "text": [
      "[[  0.         -13.89528403 -19.84482978 -21.82635535]\n",
      " [-13.89528403 -17.86330422 -19.84586777 -19.84482978]\n",
      " [-19.84482978 -19.84586777 -17.86330422 -13.89528403]\n",
      " [-21.82635535 -19.84482978 -13.89528403   0.        ]]\n"
     ]
    }
   ],
   "source": [
    "import numpy as np\n",
    "import random\n",
    "\n",
    "gamma = 1 # taux d'escompte\n",
    "taille_grille = 4\n",
    "recompense = -1\n",
    "etats_terminaux = [[0,0], [taille_grille-1, taille_grille-1]]\n",
    "actions = [[-1, 0], [1, 0], [0, 1], [0, -1]]\n",
    "nombre_iterations = 1000\n",
    "\n",
    "def p(s,a):\n",
    "    \"\"\" Retourne l'état suivant s_prime et la récompense r\"\"\"\n",
    "    if s in etats_terminaux:\n",
    "        return s, 0\n",
    "    s_prime = np.array(s) + np.array(a)\n",
    "    r = recompense\n",
    "    # si débordement de grille retour à l'état s\n",
    "    if -1 in s_prime or taille_grille in s_prime:\n",
    "        s_prime = s\n",
    "    return s_prime, r\n",
    "\n",
    "# Initialize valueMap and valueMap1\n",
    "v = np.zeros((taille_grille, taille_grille))\n",
    "etats = [[i, j] for i in range(taille_grille) for j in range(taille_grille)]\n",
    "\n",
    "def calculer_v_par_iteration(etats,actions,nombre_iterations,gamma,v):\n",
    "    for i in range(nombre_iterations):\n",
    "        copie_v=np.copy(v)\n",
    "        delta = 0\n",
    "        for etat in etats :\n",
    "            moyenne_v=0\n",
    "            for action in actions:\n",
    "                s_prime,r = p(etat,action)\n",
    "                moyenne_v += 1/len(actions)* (r + gamma * v[s_prime[0],s_prime[1]])\n",
    "            copie_v[etat[0],etat[1]]=moyenne_v\n",
    "            delta =max(delta,abs(moyenne_v-v[etat[0],etat[1]]))\n",
    "        v = np.copy(copie_v)\n",
    "        if(delta < 0.01):                                                \n",
    "            print(v)\n",
    "            break\n",
    "            \n",
    "calculer_v_par_iteration(etats,actions,1000,1,v)"
   ]
  },
  {
   "cell_type": "code",
   "execution_count": null,
   "metadata": {},
   "outputs": [],
   "source": []
  }
 ],
 "metadata": {
  "kernelspec": {
   "display_name": "Python 3",
   "language": "python",
   "name": "python3"
  },
  "language_info": {
   "codemirror_mode": {
    "name": "ipython",
    "version": 3
   },
   "file_extension": ".py",
   "mimetype": "text/x-python",
   "name": "python",
   "nbconvert_exporter": "python",
   "pygments_lexer": "ipython3",
   "version": "3.7.6"
  }
 },
 "nbformat": 4,
 "nbformat_minor": 4
}
