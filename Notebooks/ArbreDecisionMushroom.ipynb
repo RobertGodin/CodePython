{
 "cells": [
  {
   "cell_type": "code",
   "execution_count": 1,
   "id": "ca3b9d99-e2e7-4f09-b0ce-cda2b4154746",
   "metadata": {},
   "outputs": [
    {
     "name": "stdout",
     "output_type": "stream",
     "text": [
      "{'uci_id': 73, 'name': 'Mushroom', 'repository_url': 'https://archive.ics.uci.edu/dataset/73/mushroom', 'data_url': 'https://archive.ics.uci.edu/static/public/73/data.csv', 'abstract': 'From Audobon Society Field Guide; mushrooms described in terms of physical characteristics; classification: poisonous or edible', 'area': 'Biology', 'tasks': ['Classification'], 'characteristics': ['Multivariate'], 'num_instances': 8124, 'num_features': 22, 'feature_types': ['Categorical'], 'demographics': [], 'target_col': ['poisonous'], 'index_col': None, 'has_missing_values': 'yes', 'missing_values_symbol': 'NaN', 'year_of_dataset_creation': 1981, 'last_updated': 'Thu Aug 10 2023', 'dataset_doi': '10.24432/C5959T', 'creators': [], 'intro_paper': None, 'additional_info': {'summary': \"This data set includes descriptions of hypothetical samples corresponding to 23 species of gilled mushrooms in the Agaricus and Lepiota Family (pp. 500-525).  Each species is identified as definitely edible, definitely poisonous, or of unknown edibility and not recommended.  This latter class was combined with the poisonous one.  The Guide clearly states that there is no simple rule for determining the edibility of a mushroom; no rule like ``leaflets three, let it be'' for Poisonous Oak and Ivy.\", 'purpose': None, 'funded_by': None, 'instances_represent': None, 'recommended_data_splits': None, 'sensitive_data': None, 'preprocessing_description': None, 'variable_info': '     1. cap-shape:                bell=b,conical=c,convex=x,flat=f, knobbed=k,sunken=s\\r\\n     2. cap-surface:              fibrous=f,grooves=g,scaly=y,smooth=s\\r\\n     3. cap-color:                brown=n,buff=b,cinnamon=c,gray=g,green=r, pink=p,purple=u,red=e,white=w,yellow=y\\r\\n     4. bruises?:                 bruises=t,no=f\\r\\n     5. odor:                     almond=a,anise=l,creosote=c,fishy=y,foul=f, musty=m,none=n,pungent=p,spicy=s\\r\\n     6. gill-attachment:          attached=a,descending=d,free=f,notched=n\\r\\n     7. gill-spacing:             close=c,crowded=w,distant=d\\r\\n     8. gill-size:                broad=b,narrow=n\\r\\n     9. gill-color:               black=k,brown=n,buff=b,chocolate=h,gray=g, green=r,orange=o,pink=p,purple=u,red=e, white=w,yellow=y\\r\\n    10. stalk-shape:              enlarging=e,tapering=t\\r\\n    11. stalk-root:               bulbous=b,club=c,cup=u,equal=e, rhizomorphs=z,rooted=r,missing=?\\r\\n    12. stalk-surface-above-ring: fibrous=f,scaly=y,silky=k,smooth=s\\r\\n    13. stalk-surface-below-ring: fibrous=f,scaly=y,silky=k,smooth=s\\r\\n    14. stalk-color-above-ring:   brown=n,buff=b,cinnamon=c,gray=g,orange=o, pink=p,red=e,white=w,yellow=y\\r\\n    15. stalk-color-below-ring:   brown=n,buff=b,cinnamon=c,gray=g,orange=o, pink=p,red=e,white=w,yellow=y\\r\\n    16. veil-type:                partial=p,universal=u\\r\\n    17. veil-color:               brown=n,orange=o,white=w,yellow=y\\r\\n    18. ring-number:              none=n,one=o,two=t\\r\\n    19. ring-type:                cobwebby=c,evanescent=e,flaring=f,large=l, none=n,pendant=p,sheathing=s,zone=z\\r\\n    20. spore-print-color:        black=k,brown=n,buff=b,chocolate=h,green=r, orange=o,purple=u,white=w,yellow=y\\r\\n    21. population:               abundant=a,clustered=c,numerous=n, scattered=s,several=v,solitary=y\\r\\n    22. habitat:                  grasses=g,leaves=l,meadows=m,paths=p, urban=u,waste=w,woods=d', 'citation': None}}\n"
     ]
    }
   ],
   "source": [
    "# Exemple d'arbre de décision avec Mushroom\n",
    "# Importation des bibliothèques nécessaires\n",
    "from ucimlrepo import fetch_ucirepo \n",
    "from sklearn.model_selection import train_test_split\n",
    "from sklearn.naive_bayes import CategoricalNB\n",
    "from sklearn.preprocessing import LabelEncoder\n",
    "from sklearn.metrics import accuracy_score\n",
    "import numpy as np\n",
    "\n",
    "# Importation des données Mushroom du répertoire UCI\n",
    "mushroom = fetch_ucirepo(id=73) \n",
    "# metadata \n",
    "print(mushroom.metadata)\n",
    "# Extraction des variables prédictives et cible sous forme de Dataframe\n",
    "X_dataframe = mushroom.data.features \n",
    "y_dataframe = mushroom.data.targets "
   ]
  },
  {
   "cell_type": "code",
   "execution_count": 2,
   "id": "218e012f-7443-4490-9217-f9c467abb4a4",
   "metadata": {},
   "outputs": [
    {
     "name": "stdout",
     "output_type": "stream",
     "text": [
      "X:\n",
      "[['x' 's' 'n' 't' 'p' 'f' 'c' 'n' 'k' 'e' 'e' 's' 's' 'w' 'w' 'p' 'w' 'o'\n",
      "  'p' 'k' 's' 'u']\n",
      " ['x' 's' 'y' 't' 'a' 'f' 'c' 'b' 'k' 'e' 'c' 's' 's' 'w' 'w' 'p' 'w' 'o'\n",
      "  'p' 'n' 'n' 'g']\n",
      " ['b' 's' 'w' 't' 'l' 'f' 'c' 'b' 'n' 'e' 'c' 's' 's' 'w' 'w' 'p' 'w' 'o'\n",
      "  'p' 'n' 'n' 'm']\n",
      " ['x' 'y' 'w' 't' 'p' 'f' 'c' 'n' 'n' 'e' 'e' 's' 's' 'w' 'w' 'p' 'w' 'o'\n",
      "  'p' 'k' 's' 'u']]\n",
      "X encodé:\n",
      "[[5 2 4 1 6 1 0 1 4 0 2 2 2 7 7 0 2 1 4 2 3 5]\n",
      " [5 2 9 1 0 1 0 0 4 0 1 2 2 7 7 0 2 1 4 3 2 1]\n",
      " [0 2 8 1 3 1 0 0 5 0 1 2 2 7 7 0 2 1 4 3 2 3]\n",
      " [5 3 8 1 6 1 0 1 5 0 2 2 2 7 7 0 2 1 4 2 3 5]]\n",
      "y:\n",
      "['p' 'e' 'e' 'p']\n",
      "y encodé:\n",
      "[1 0 0 1]\n"
     ]
    }
   ],
   "source": [
    "# Encodage des variables textuelles en entiers pour categoricalNB()\n",
    "encodeur_X = LabelEncoder()\n",
    "X=X_dataframe.to_numpy()\n",
    "X_encode = np.array([encodeur_X.fit_transform(v) for v in X.T]).T\n",
    "print(\"X:\")\n",
    "print(X[0:4])\n",
    "print(\"X encodé:\")\n",
    "print(X_encode[0:4])\n",
    "\n",
    "# Encodage des étiquettes textuelles en entiers\n",
    "encodeur_y = LabelEncoder()\n",
    "y=y_dataframe.iloc[:, 0].to_numpy()\n",
    "y_encode = encodeur_y.fit_transform(y)\n",
    "print(\"y:\")\n",
    "print(y[0:4])\n",
    "print(\"y encodé:\")\n",
    "print(y_encode[0:4])"
   ]
  },
  {
   "cell_type": "code",
   "execution_count": 3,
   "id": "0592d73a-1d33-43df-b33b-8762af3b5d27",
   "metadata": {},
   "outputs": [
    {
     "name": "stdout",
     "output_type": "stream",
     "text": [
      "Taux de bonnes réponses: 1.0\n"
     ]
    }
   ],
   "source": [
    "from sklearn.tree import DecisionTreeClassifier\n",
    "from sklearn.metrics import accuracy_score, classification_report\n",
    "classifieur = DecisionTreeClassifier()\n",
    "classifieur.fit(X_encode, y_encode)\n",
    "y_pred = classifieur.predict(X_encode)\n",
    "accuracy = accuracy_score(y_encode, y_pred)\n",
    "print(\"Taux de bonnes réponses:\", accuracy)"
   ]
  },
  {
   "cell_type": "code",
   "execution_count": null,
   "id": "298fa2f2-fb47-44b9-b021-76cde523e958",
   "metadata": {},
   "outputs": [],
   "source": []
  }
 ],
 "metadata": {
  "kernelspec": {
   "display_name": "Python 3 (ipykernel)",
   "language": "python",
   "name": "python3"
  },
  "language_info": {
   "codemirror_mode": {
    "name": "ipython",
    "version": 3
   },
   "file_extension": ".py",
   "mimetype": "text/x-python",
   "name": "python",
   "nbconvert_exporter": "python",
   "pygments_lexer": "ipython3",
   "version": "3.12.4"
  }
 },
 "nbformat": 4,
 "nbformat_minor": 5
}
