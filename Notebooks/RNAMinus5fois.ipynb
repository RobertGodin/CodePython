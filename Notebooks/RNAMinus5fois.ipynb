{
 "cells": [
  {
   "cell_type": "code",
   "execution_count": 1,
   "metadata": {},
   "outputs": [
    {
     "data": {
      "image/png": "[encoded data removed]",
      "text/plain": [
       "<matplotlib.figure.Figure at 0x29e4d0c0828>"
      ]
     },
     "metadata": {
      "needs_background": "light"
     },
     "output_type": "display_data"
    }
   ],
   "source": [
    "%matplotlib inline\n",
    "# Réseau Minus, propagation avant avec stockage des activations et rétropropagation\n",
    "import numpy as np\n",
    "import matplotlib.pyplot as plt\n",
    "\n",
    "liste_nc =[2,2,2]\n",
    "nombre_couches = len(liste_nc)\n",
    "# NB w[c] correspond a la couche c+1\n",
    "w=np.array([[[0.2,0.7],[0.5,0.1],[0.3,-0.3]],[[-0.2,0.5],[0.7,-0.1],[0,0.2]]])\n",
    "taux = 0.1\n",
    "nb_iterations = 5\n",
    "\n",
    "liste_eq = []\n",
    "x = [[1],[1]]\n",
    "y = [[1],[0]]\n",
    "\n",
    "for i in range(nb_iterations):\n",
    "    # propagation_avant avec stockage des activations pour la rétropropagation\n",
    "    activation = np.vstack((np.ones(1),x)) # activation de la couche 0\n",
    "    activation_par_couche = [np.vstack((np.ones(1),x))] # liste des activations couche par couche\n",
    "    # Itérer pour produire les activations de la couche 1 a la couche nombre_couches-1\n",
    "    for c in range(nombre_couches-1): # NB c part a 0\n",
    "        z = np.dot(w[c].transpose(),activation)\n",
    "        activation = np.vstack((np.ones(1),z))\n",
    "        activation_par_couche.append(activation)\n",
    "    erreur_quadratique = sum((activation[1:]-y)**2)\n",
    "    liste_eq.append(erreur_quadratique)\n",
    "\n",
    "    # retropropagation\n",
    "    dJ_dw = [np.zeros(une_matrice.shape) for une_matrice in w]\n",
    "    dJ_da = 2*(activation_par_couche[nombre_couches-1][1:]-y) # Pour la couche de sortie\n",
    "    dJ_dw[nombre_couches-2] = np.dot(activation_par_couche[nombre_couches-2],dJ_da.transpose())\n",
    "    # itérer de la couche nombre_couches-2 à la couche 1\n",
    "    for c in range(nombre_couches-2,0,-1):\n",
    "        dJ_da = np.dot(w[c][1:], dJ_da) # dérivée pour a pour la couche c\n",
    "        dJ_dw[c-1] = np.dot(activation_par_couche[c-1], dJ_da.transpose()) # dJ_dw[c-1] correspond a c\n",
    "    w = [un_w-taux*dw  for (un_w, dw) in zip(w, dJ_dw)]\n",
    "    \n",
    "# Affichage du graphique d'évolution de l'erreur quadratique\n",
    "plt.plot(np.arange(0,nb_iterations),liste_eq)\n",
    "plt.title(\"Evolution de l'erreur quadratique\")\n",
    "plt.xlabel('iteration')\n",
    "plt.ylabel('erreur')\n",
    "plt.legend(loc='upper center')\n",
    "plt.show()"
   ]
  },
  {
   "cell_type": "code",
   "execution_count": null,
   "metadata": {
    "collapsed": true
   },
   "outputs": [],
   "source": []
  }
 ],
 "metadata": {
  "kernelspec": {
   "display_name": "Python 3",
   "language": "python",
   "name": "python3"
  },
  "language_info": {
   "codemirror_mode": {
    "name": "ipython",
    "version": 3
   },
   "file_extension": ".py",
   "mimetype": "text/x-python",
   "name": "python",
   "nbconvert_exporter": "python",
   "pygments_lexer": "ipython3",
   "version": "3.7.6"
  }
 },
 "nbformat": 4,
 "nbformat_minor": 2
}
