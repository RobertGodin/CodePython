{
 "cells": [
  {
   "cell_type": "code",
   "execution_count": 2,
   "metadata": {},
   "outputs": [
    {
     "name": "stdout",
     "output_type": "stream",
     "text": [
      "W couche 1: [[ 0.5  0.1]\n",
      " [ 0.3 -0.3]]\n",
      "(2, 2) float64\n"
     ]
    }
   ],
   "source": [
    "import numpy as np\n",
    "W1=np.array([[0.5,0.1],[0.3,-0.3]])\n",
    "print(\"W couche 1:\",W1)\n",
    "print(W1.shape, W1.dtype)"
   ]
  },
  {
   "cell_type": "code",
   "execution_count": 3,
   "metadata": {},
   "outputs": [],
   "source": [
    "B1=np.array([[0.2,0.7]])\n",
    "W2=np.array([[0.7,-0.1],[0,0.2]])\n",
    "B2=np.array([[-0.2,0.5]])"
   ]
  },
  {
   "cell_type": "code",
   "execution_count": 4,
   "metadata": {},
   "outputs": [],
   "source": [
    "X =np.array([1.0,1.0])\n",
    "Y =np.array([1.0,0.0])"
   ]
  },
  {
   "cell_type": "code",
   "execution_count": 5,
   "metadata": {},
   "outputs": [
    {
     "name": "stdout",
     "output_type": "stream",
     "text": [
      "Sortie Y de la couche 1: [[1.  0.5]]\n"
     ]
    }
   ],
   "source": [
    "Y1 = B1+np.dot(X,W1)\n",
    "print(\"Sortie Y de la couche 1:\",Y1)"
   ]
  },
  {
   "cell_type": "code",
   "execution_count": 6,
   "metadata": {},
   "outputs": [
    {
     "name": "stdout",
     "output_type": "stream",
     "text": [
      "Sortie Y de la couche 2: [[0.5 0.5]]\n"
     ]
    }
   ],
   "source": [
    "Y2 = B2+np.dot(Y1,W2)\n",
    "print(\"Sortie Y de la couche 2:\",Y2)"
   ]
  },
  {
   "cell_type": "code",
   "execution_count": 7,
   "metadata": {},
   "outputs": [
    {
     "name": "stdout",
     "output_type": "stream",
     "text": [
      "Erreur quadratique : 0.5\n"
     ]
    }
   ],
   "source": [
    "cout_J = np.sum(np.power(Y2-Y,2))\n",
    "print(\"Erreur quadratique :\", cout_J)"
   ]
  },
  {
   "cell_type": "code",
   "execution_count": 8,
   "metadata": {},
   "outputs": [
    {
     "name": "stdout",
     "output_type": "stream",
     "text": [
      "dJ_dY2: [[-1.  1.]]\n"
     ]
    }
   ],
   "source": [
    "dJ_dY2 = 2*(Y2-Y)\n",
    "print(\"dJ_dY2:\", dJ_dY2)"
   ]
  },
  {
   "cell_type": "code",
   "execution_count": 14,
   "metadata": {},
   "outputs": [
    {
     "name": "stdout",
     "output_type": "stream",
     "text": [
      "dJ_dW de la couche 2: [[-1.   1. ]\n",
      " [-0.5  0.5]]\n"
     ]
    }
   ],
   "source": [
    "dJ_dW2 = np.dot(Y1.T,dJ_dY2) \n",
    "print(\"dJ_dW de la couche 2:\",dJ_dW2)"
   ]
  },
  {
   "cell_type": "code",
   "execution_count": 15,
   "metadata": {},
   "outputs": [
    {
     "name": "stdout",
     "output_type": "stream",
     "text": [
      "dJ_dB de la couche 2: [[-1.  1.]]\n"
     ]
    }
   ],
   "source": [
    "dJ_dB2 = dJ_dY2\n",
    "print(\"dJ_dB de la couche 2:\",dJ_dB2)"
   ]
  },
  {
   "cell_type": "code",
   "execution_count": 18,
   "metadata": {},
   "outputs": [
    {
     "name": "stdout",
     "output_type": "stream",
     "text": [
      "dJ_dX de la couche 2: [[-0.8  0.2]]\n"
     ]
    }
   ],
   "source": [
    "dJ_dX2 = np.dot(dJ_dY2,W2.T)\n",
    "print(\"dJ_dX de la couche 2:\",dJ_dX2)"
   ]
  },
  {
   "cell_type": "code",
   "execution_count": null,
   "metadata": {},
   "outputs": [],
   "source": []
  },
  {
   "cell_type": "code",
   "execution_count": null,
   "metadata": {},
   "outputs": [],
   "source": []
  },
  {
   "cell_type": "code",
   "execution_count": null,
   "metadata": {},
   "outputs": [],
   "source": []
  },
  {
   "cell_type": "code",
   "execution_count": null,
   "metadata": {},
   "outputs": [],
   "source": []
  },
  {
   "cell_type": "code",
   "execution_count": 47,
   "metadata": {},
   "outputs": [
    {
     "name": "stdout",
     "output_type": "stream",
     "text": [
      "Gradiant de W2 avant la rétropropagation: None\n"
     ]
    }
   ],
   "source": [
    "print(\"Gradiant de W2 avant la rétropropagation:\",W2.grad)"
   ]
  },
  {
   "cell_type": "code",
   "execution_count": 48,
   "metadata": {},
   "outputs": [],
   "source": [
    "cout_J.backward()"
   ]
  },
  {
   "cell_type": "code",
   "execution_count": 49,
   "metadata": {},
   "outputs": [
    {
     "name": "stdout",
     "output_type": "stream",
     "text": [
      "Gradiant de W2 après la rétropropagation: tensor([[-1.0000,  1.0000],\n",
      "        [-0.5000,  0.5000]])\n"
     ]
    }
   ],
   "source": [
    "print(\"Gradiant de W2 après la rétropropagation:\",W2.grad)"
   ]
  },
  {
   "cell_type": "code",
   "execution_count": 50,
   "metadata": {},
   "outputs": [
    {
     "name": "stdout",
     "output_type": "stream",
     "text": [
      "Gradiant de B2: tensor([[-1.,  1.]])\n"
     ]
    }
   ],
   "source": [
    "print(\"Gradiant de B2:\",B2.grad)"
   ]
  },
  {
   "cell_type": "code",
   "execution_count": 51,
   "metadata": {},
   "outputs": [
    {
     "name": "stdout",
     "output_type": "stream",
     "text": [
      "Gradiant de W1: tensor([[-0.8000,  0.2000],\n",
      "        [-0.8000,  0.2000]])\n"
     ]
    }
   ],
   "source": [
    "print(\"Gradiant de W1:\",W1.grad)"
   ]
  },
  {
   "cell_type": "code",
   "execution_count": 52,
   "metadata": {},
   "outputs": [
    {
     "name": "stdout",
     "output_type": "stream",
     "text": [
      "Gradiant de B1: tensor([[-0.8000,  0.2000]])\n"
     ]
    }
   ],
   "source": [
    "print(\"Gradiant de B1:\",B1.grad)"
   ]
  },
  {
   "cell_type": "code",
   "execution_count": 53,
   "metadata": {},
   "outputs": [],
   "source": [
    "with torch.no_grad():\n",
    "    B2 -= 0.1 * B2.grad\n",
    "    W2 -= 0.1 * W2.grad\n",
    "    B1 -= 0.1 * B1.grad\n",
    "    W1 -= 0.1 * W1.grad"
   ]
  },
  {
   "cell_type": "code",
   "execution_count": 54,
   "metadata": {},
   "outputs": [
    {
     "name": "stdout",
     "output_type": "stream",
     "text": [
      "B2 après rétropropagation: tensor([[-0.1000,  0.4000]], requires_grad=True)\n"
     ]
    }
   ],
   "source": [
    "print(\"B2 après rétropropagation:\",B2)"
   ]
  },
  {
   "cell_type": "code",
   "execution_count": 55,
   "metadata": {},
   "outputs": [
    {
     "name": "stdout",
     "output_type": "stream",
     "text": [
      "W2 après rétropropagation: tensor([[ 0.8000, -0.2000],\n",
      "        [ 0.0500,  0.1500]], requires_grad=True)\n"
     ]
    }
   ],
   "source": [
    "print(\"W2 après rétropropagation:\",W2)"
   ]
  },
  {
   "cell_type": "code",
   "execution_count": 56,
   "metadata": {},
   "outputs": [
    {
     "name": "stdout",
     "output_type": "stream",
     "text": [
      "B1 après rétropropagation: tensor([[0.2800, 0.6800]], requires_grad=True)\n"
     ]
    }
   ],
   "source": [
    "print(\"B1 après rétropropagation:\",B1)"
   ]
  },
  {
   "cell_type": "code",
   "execution_count": 57,
   "metadata": {},
   "outputs": [
    {
     "name": "stdout",
     "output_type": "stream",
     "text": [
      "W1 après rétropropagation: tensor([[ 0.5800,  0.0800],\n",
      "        [ 0.3800, -0.3200]], requires_grad=True)\n"
     ]
    }
   ],
   "source": [
    "print(\"W1 après rétropropagation:\",W1)"
   ]
  },
  {
   "cell_type": "code",
   "execution_count": 58,
   "metadata": {},
   "outputs": [
    {
     "data": {
      "text/plain": [
       "tensor([[0., 0.],\n",
       "        [0., 0.]])"
      ]
     },
     "execution_count": 58,
     "metadata": {},
     "output_type": "execute_result"
    }
   ],
   "source": [
    "W1.grad.zero_()\n",
    "W2.grad.zero_()"
   ]
  },
  {
   "cell_type": "code",
   "execution_count": 59,
   "metadata": {},
   "outputs": [
    {
     "name": "stdout",
     "output_type": "stream",
     "text": [
      "Nouvelle sortie Y de la couche 1 après mise à jour des paramètres W1 et B1: tensor([[1.2400, 0.4400]], grad_fn=<AddBackward0>)\n",
      "Nouvelle sortie Y de la couche 2: tensor([[0.9140, 0.2180]], grad_fn=<AddBackward0>)\n",
      "Nouvelle valeur de l'erreur quadratique : tensor(0.0549, grad_fn=<SumBackward0>)\n"
     ]
    }
   ],
   "source": [
    "Y1 = B1+np.dot(X,W1)\n",
    "print(\"Nouvelle sortie Y de la couche 1 après mise à jour des paramètres W1 et B1:\",Y1)\n",
    "Y2 = B2+np.dot(Y1,W2)\n",
    "print(\"Nouvelle sortie Y de la couche 2:\",Y2)\n",
    "cout_J = np.sum(np.power(Y2-Y,2))\n",
    "print(\"Nouvelle valeur de l'erreur quadratique :\", cout_J)"
   ]
  },
  {
   "cell_type": "code",
   "execution_count": null,
   "metadata": {},
   "outputs": [],
   "source": []
  },
  {
   "cell_type": "code",
   "execution_count": null,
   "metadata": {},
   "outputs": [],
   "source": []
  }
 ],
 "metadata": {
  "kernelspec": {
   "display_name": "Python 3",
   "language": "python",
   "name": "python3"
  },
  "language_info": {
   "codemirror_mode": {
    "name": "ipython",
    "version": 3
   },
   "file_extension": ".py",
   "mimetype": "text/x-python",
   "name": "python",
   "nbconvert_exporter": "python",
   "pygments_lexer": "ipython3",
   "version": "3.7.6"
  }
 },
 "nbformat": 4,
 "nbformat_minor": 4
}
