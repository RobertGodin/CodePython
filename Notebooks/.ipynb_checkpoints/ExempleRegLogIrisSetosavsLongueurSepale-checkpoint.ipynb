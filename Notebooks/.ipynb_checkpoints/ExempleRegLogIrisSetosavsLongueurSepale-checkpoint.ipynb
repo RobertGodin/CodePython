{
 "cells": [
  {
   "cell_type": "code",
   "execution_count": 3,
   "id": "0a5fdd9a-02d3-4f14-b3cb-22ed47422846",
   "metadata": {},
   "outputs": [],
   "source": [
    "# Régression logistique à partir de la collection Iris\n",
    "# X: longueur sépale, y: setosa ou non\n",
    "# 25% des données pour test\n",
    "\n",
    "%matplotlib inline\n",
    "import matplotlib.pyplot as plt\n",
    "import numpy as np\n",
    "from sklearn import datasets, linear_model\n",
    "from sklearn.linear_model import LogisticRegression\n",
    "from sklearn.metrics import accuracy_score, confusion_matrix, ConfusionMatrixDisplay, classification_report\n",
    "\n",
    "# Charger les données\n",
    "iris = datasets.load_iris()\n",
    "iris_X = iris.data[:,:1] # Colonne longueur de sépale\n",
    "iris_y = iris.target\n",
    "iris_y_setosa = (iris_y==0).astype(int) # setosa ou non\n",
    "\n",
    "# Séparation des données en ensembles d'entraînement et de test\n",
    "from sklearn.model_selection import train_test_split\n",
    "X_ent, X_test, y_ent, y_test = train_test_split(iris_X, iris_y_setosa, test_size=0.25, random_state=0)\n",
    "\n",
    "# Création du classifieur par régression logistique\n",
    "classifieur = LogisticRegression()\n",
    "\n",
    "# Entraînement du modèle sur les données d'entraînement\n",
    "classifieur.fit(X_ent, y_ent)\n",
    "\n",
    "# Prédiction des étiquettes pour les données de test\n",
    "y_pred = classifieur.predict(X_test)"
   ]
  },
  {
   "cell_type": "code",
   "execution_count": 5,
   "id": "2be7741e-68c5-4cc0-bf26-34524a7f88ea",
   "metadata": {},
   "outputs": [
    {
     "name": "stdout",
     "output_type": "stream",
     "text": [
      "Taux de bonnes réponses pour test : 0.868421052631579\n"
     ]
    }
   ],
   "source": [
    "# Évaluation du modèle avec les données de test\n",
    "print(\"Taux de bonnes réponses pour test :\", accuracy_score(y_test, y_pred))"
   ]
  },
  {
   "cell_type": "code",
   "execution_count": 7,
   "id": "ce25e052-78a1-4c7c-bb90-e8cd68119fca",
   "metadata": {},
   "outputs": [
    {
     "name": "stdout",
     "output_type": "stream",
     "text": [
      "Matrice de confusion:\n",
      "[[23  2]\n",
      " [ 3 10]]\n"
     ]
    }
   ],
   "source": [
    "print(\"Matrice de confusion:\")\n",
    "matrice_confusion = confusion_matrix(y_test, y_pred, labels=classifieur.classes_)\n",
    "print(matrice_confusion)"
   ]
  },
  {
   "cell_type": "code",
   "execution_count": 9,
   "id": "416ae02f-79d2-4d49-9f6a-e4d992ae4ceb",
   "metadata": {},
   "outputs": [
    {
     "data": {
      "image/png": "[encoded data removed]",
      "text/plain": [
       "<Figure size 640x480 with 2 Axes>"
      ]
     },
     "metadata": {},
     "output_type": "display_data"
    }
   ],
   "source": [
    "affichage_matrice = ConfusionMatrixDisplay(confusion_matrix=matrice_confusion,\n",
    "                              display_labels=classifieur.classes_)\n",
    "affichage_matrice.plot()\n",
    "plt.show()"
   ]
  },
  {
   "cell_type": "code",
   "execution_count": 11,
   "id": "0484574b-52d3-4f75-9cb2-1de066357142",
   "metadata": {},
   "outputs": [
    {
     "name": "stdout",
     "output_type": "stream",
     "text": [
      "Rapport de classification:\n",
      "              precision    recall  f1-score   support\n",
      "\n",
      "           0       0.88      0.92      0.90        25\n",
      "           1       0.83      0.77      0.80        13\n",
      "\n",
      "    accuracy                           0.87        38\n",
      "   macro avg       0.86      0.84      0.85        38\n",
      "weighted avg       0.87      0.87      0.87        38\n",
      "\n"
     ]
    }
   ],
   "source": [
    "print(\"Rapport de classification:\")\n",
    "print(classification_report(y_test,y_pred))"
   ]
  },
  {
   "cell_type": "code",
   "execution_count": null,
   "id": "edac470a-ca85-4e31-aead-0d7823942a2c",
   "metadata": {},
   "outputs": [],
   "source": []
  }
 ],
 "metadata": {
  "kernelspec": {
   "display_name": "Python 3 (ipykernel)",
   "language": "python",
   "name": "python3"
  },
  "language_info": {
   "codemirror_mode": {
    "name": "ipython",
    "version": 3
   },
   "file_extension": ".py",
   "mimetype": "text/x-python",
   "name": "python",
   "nbconvert_exporter": "python",
   "pygments_lexer": "ipython3",
   "version": "3.12.4"
  }
 },
 "nbformat": 4,
 "nbformat_minor": 5
}
