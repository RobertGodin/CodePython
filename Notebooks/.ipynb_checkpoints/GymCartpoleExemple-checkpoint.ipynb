{
 "cells": [
  {
   "cell_type": "code",
   "execution_count": null,
   "metadata": {},
   "outputs": [],
   "source": [
    "# -*- coding: utf-8 -*-\n",
    "\"\"\"\n",
    "Exemple d'utilisation de CartPole dans l'environnement gym\n",
    "\"\"\"\n",
    "\n",
    "import gym\n",
    "env = gym.make('CartPole-v0')\n",
    "for i_episode in range(5):\n",
    "    observation = env.reset()\n",
    "    for t in range(100):\n",
    "        env.render()\n",
    "        print(observation)\n",
    "        action = env.action_space.sample()\n",
    "        observation, reward, done, info = env.step(action)\n",
    "        if done:\n",
    "            print(\"Épisode terminé après {} étapes\".format(t+1))\n",
    "            break\n",
    "env.close()"
   ]
  },
  {
   "cell_type": "code",
   "execution_count": 4,
   "metadata": {},
   "outputs": [
    {
     "name": "stdout",
     "output_type": "stream",
     "text": [
      "Action intération  0 : 0\n",
      "[-0.04683899 -0.16636955 -0.02969999  0.276976  ] 1.0 False {}\n",
      "Action intération  1 : 0\n",
      "[-0.05016638 -0.36105547 -0.02416047  0.56014558] 1.0 False {}\n",
      "Action intération  2 : 0\n",
      "[-0.05738749 -0.55583014 -0.01295756  0.84511982] 1.0 False {}\n",
      "Action intération  3 : 1\n",
      "[-0.06850409 -0.36053381  0.00394483  0.5483905 ] 1.0 False {}\n",
      "Action intération  4 : 1\n",
      "[-0.07571477 -0.1654675   0.01491264  0.25695308] 1.0 False {}\n",
      "Action intération  5 : 0\n",
      "[-0.07902412 -0.36079914  0.02005171  0.55430214] 1.0 False {}\n",
      "Action intération  6 : 1\n",
      "[-0.0862401  -0.16596441  0.03113775  0.26800359] 1.0 False {}\n",
      "Action intération  7 : 0\n",
      "[-0.08955939 -0.36151658  0.03649782  0.57034268] 1.0 False {}\n",
      "Action intération  8 : 1\n",
      "[-0.09678972 -0.16692498  0.04790467  0.28937764] 1.0 False {}\n",
      "Action intération  9 : 0\n",
      "[-0.10012822 -0.36269614  0.05369223  0.59677608] 1.0 False {}\n"
     ]
    }
   ],
   "source": [
    "import gym\n",
    "env = gym.make(\"CartPole-v0\")\n",
    "observation = env.reset()\n",
    "for i in range(10):\n",
    "    action = env.action_space.sample() # your agent here (this takes random actions)\n",
    "    print(\"Action intération \",i,\":\", action)\n",
    "    observation, reward, done, info = env.step(action)\n",
    "    print(observation, reward, done, info)\n",
    "\n",
    "    if done:\n",
    "        observation = env.reset()\n",
    "env.close()"
   ]
  },
  {
   "cell_type": "code",
   "execution_count": null,
   "metadata": {},
   "outputs": [],
   "source": []
  }
 ],
 "metadata": {
  "kernelspec": {
   "display_name": "Python 3",
   "language": "python",
   "name": "python3"
  },
  "language_info": {
   "codemirror_mode": {
    "name": "ipython",
    "version": 3
   },
   "file_extension": ".py",
   "mimetype": "text/x-python",
   "name": "python",
   "nbconvert_exporter": "python",
   "pygments_lexer": "ipython3",
   "version": "3.7.6"
  }
 },
 "nbformat": 4,
 "nbformat_minor": 4
}
