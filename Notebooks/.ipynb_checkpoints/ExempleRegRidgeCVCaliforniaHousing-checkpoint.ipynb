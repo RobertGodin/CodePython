{
 "cells": [
  {
   "cell_type": "code",
   "execution_count": 3,
   "metadata": {},
   "outputs": [
    {
     "name": "stdout",
     "output_type": "stream",
     "text": [
      "Erreur quadratique moyenne : 34.56705853924068\n",
      "Meilleure valeur de alpha : 0.1\n"
     ]
    }
   ],
   "source": [
    "# Régression Ridge avec sklearn\n",
    "# Recherche du meilleur alpha avec RidgeCV\n",
    "# Données Boston Housing\n",
    "\n",
    "import numpy as np\n",
    "from sklearn import datasets, linear_model\n",
    "\n",
    "maisons_boston = datasets.load_boston()\n",
    "maisons_X = maisons_boston.data\n",
    "maisons_y = maisons_boston.target\n",
    "\n",
    "# Estimation des paramètres avec le modèle de régression linéaire\n",
    "modele = linear_model.RidgeCV()\n",
    "modele.fit(maisons_X,maisons_y)\n",
    "scores = cross_val_score(modele,maisons_X,maisons_y,scoring=\"neg_mean_squared_error\",cv=10)\n",
    "eqm_moyenne = -scores.mean()\n",
    "\n",
    "print(\"Erreur quadratique moyenne :\", eqm_moyenne)\n",
    "print(\"Meilleure valeur de alpha :\", modele.alpha_)"
   ]
  },
  {
   "cell_type": "code",
   "execution_count": null,
   "metadata": {
    "collapsed": true
   },
   "outputs": [],
   "source": []
  }
 ],
 "metadata": {
  "kernelspec": {
   "display_name": "Python 3",
   "language": "python",
   "name": "python3"
  },
  "language_info": {
   "codemirror_mode": {
    "name": "ipython",
    "version": 3
   },
   "file_extension": ".py",
   "mimetype": "text/x-python",
   "name": "python",
   "nbconvert_exporter": "python",
   "pygments_lexer": "ipython3",
   "version": "3.8.8"
  }
 },
 "nbformat": 4,
 "nbformat_minor": 2
}
