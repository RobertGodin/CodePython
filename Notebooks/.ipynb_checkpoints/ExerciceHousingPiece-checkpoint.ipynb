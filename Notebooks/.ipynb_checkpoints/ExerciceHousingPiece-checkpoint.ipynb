{
 "cells": [
  {
   "cell_type": "code",
   "execution_count": null,
   "metadata": {
    "collapsed": true
   },
   "outputs": [],
   "source": [
    "# Régression linéaire univariée avec sklearn\n",
    "# Données Boston Housing \n",
    "# x : nombre de pieces y : prix \n",
    "\n",
    "%matplotlib inline\n",
    "import matplotlib.pyplot as plt\n",
    "import numpy as np\n",
    "from sklearn import datasets, linear_model\n",
    "from sklearn.metrics import mean_squared_error, r2_score\n",
    "\n",
    "maisons_boston = datasets.load_boston()\n",
    "maisons_X = maisons_boston.data[:, np.newaxis, 5] # X est la colonne nombre de pieces\n",
    "maisons_y = maisons_boston.target\n",
    "\n",
    "modele = linear_model.LinearRegression()\n",
    "modele.fit(maisons_X, maisons_y)\n",
    "\n",
    "# Prédictions sur les données\n",
    "maisons_y_estime = modele.predict(maisons_X)\n",
    "\n",
    "print(\"Theta0:\", modele.intercept_)\n",
    "print(\"Theta1:\", modele.coef_[0])\n",
    "plt.scatter(maisons_X,maisons_y)\n",
    "plt.plot(maisons_X,maisons_y_estime,label='Droite estimée')\n",
    "\n",
    "plt.title('Régression linéaire Boston Housing')\n",
    "plt.xlabel('pieces')\n",
    "plt.ylabel('prix')\n",
    "plt.legend(loc='lower right')\n",
    "plt.show()"
   ]
  }
 ],
 "metadata": {
  "kernelspec": {
   "display_name": "Python 3",
   "language": "python",
   "name": "python3"
  },
  "language_info": {
   "codemirror_mode": {
    "name": "ipython",
    "version": 3
   },
   "file_extension": ".py",
   "mimetype": "text/x-python",
   "name": "python",
   "nbconvert_exporter": "python",
   "pygments_lexer": "ipython3",
   "version": "3.6.3"
  }
 },
 "nbformat": 4,
 "nbformat_minor": 2
}
