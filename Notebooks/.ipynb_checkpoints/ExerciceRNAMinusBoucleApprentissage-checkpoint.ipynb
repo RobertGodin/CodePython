{
 "cells": [
  {
   "cell_type": "code",
   "execution_count": 28,
   "metadata": {
    "scrolled": false
   },
   "outputs": [
    {
     "name": "stdout",
     "output_type": "stream",
     "text": [
      "W couche 1: [[ 0.5  0.1]\n",
      " [ 0.3 -0.3]]\n",
      "(2, 2) float64\n"
     ]
    }
   ],
   "source": [
    "import numpy as np\n",
    "W1=np.array([[0.5,0.1],[0.3,-0.3]])\n",
    "print(\"W couche 1:\",W1)\n",
    "print(W1.shape, W1.dtype)"
   ]
  },
  {
   "cell_type": "code",
   "execution_count": 29,
   "metadata": {},
   "outputs": [],
   "source": [
    "B1=np.array([[0.2,0.7]])\n",
    "W2=np.array([[0.7,-0.1],[0,0.2]])\n",
    "B2=np.array([[-0.2,0.5]])"
   ]
  },
  {
   "cell_type": "code",
   "execution_count": 30,
   "metadata": {},
   "outputs": [],
   "source": [
    "X =np.array([[1.0,1.0]])\n",
    "Y =np.array([[1.0,0.0]])"
   ]
  },
  {
   "cell_type": "code",
   "execution_count": 31,
   "metadata": {},
   "outputs": [
    {
     "name": "stdout",
     "output_type": "stream",
     "text": [
      "Sortie Y de la couche 1: [[1.  0.5]]\n"
     ]
    }
   ],
   "source": [
    "X1=X\n",
    "Y1 = B1+np.dot(X1,W1)\n",
    "print(\"Sortie Y de la couche 1:\",Y1)"
   ]
  },
  {
   "cell_type": "code",
   "execution_count": 32,
   "metadata": {},
   "outputs": [
    {
     "name": "stdout",
     "output_type": "stream",
     "text": [
      "Sortie Y de la couche 2: [[0.5 0.5]]\n"
     ]
    }
   ],
   "source": [
    "X2=Y1\n",
    "Y2 = B2+np.dot(X2,W2)\n",
    "print(\"Sortie Y de la couche 2:\",Y2)"
   ]
  },
  {
   "cell_type": "code",
   "execution_count": 33,
   "metadata": {},
   "outputs": [
    {
     "name": "stdout",
     "output_type": "stream",
     "text": [
      "Erreur quadratique : 0.5\n"
     ]
    }
   ],
   "source": [
    "Y_chapeau = Y2\n",
    "cout_J = np.sum(np.power(Y_chapeau-Y,2))\n",
    "print(\"Erreur quadratique :\", cout_J)"
   ]
  },
  {
   "cell_type": "code",
   "execution_count": 34,
   "metadata": {},
   "outputs": [
    {
     "data": {
      "text/plain": [
       "array([[0.5, 0.5]])"
      ]
     },
     "execution_count": 34,
     "metadata": {},
     "output_type": "execute_result"
    }
   ],
   "source": [
    "Y2"
   ]
  },
  {
   "cell_type": "code",
   "execution_count": 35,
   "metadata": {},
   "outputs": [
    {
     "name": "stdout",
     "output_type": "stream",
     "text": [
      "dJ_dY2: [[-1.  1.]]\n"
     ]
    }
   ],
   "source": [
    "dJ_dY2 = 2*(Y2-Y)\n",
    "print(\"dJ_dY2:\", dJ_dY2)"
   ]
  },
  {
   "cell_type": "code",
   "execution_count": 36,
   "metadata": {},
   "outputs": [
    {
     "name": "stdout",
     "output_type": "stream",
     "text": [
      "dJ_dW de la couche 2: [[-1.   1. ]\n",
      " [-0.5  0.5]]\n",
      "dJ_dB de la couche 2: [[-1.  1.]]\n",
      "dJ_dX de la couche 2: [[-0.8  0.2]]\n"
     ]
    }
   ],
   "source": [
    "dJ_dW2 = np.dot(X2.T,dJ_dY2) \n",
    "print(\"dJ_dW de la couche 2:\",dJ_dW2)\n",
    "dJ_dB2 = dJ_dY2\n",
    "print(\"dJ_dB de la couche 2:\",dJ_dB2)\n",
    "dJ_dX2 = np.dot(dJ_dY2,W2.T)\n",
    "print(\"dJ_dX de la couche 2:\",dJ_dX2)"
   ]
  },
  {
   "cell_type": "code",
   "execution_count": 37,
   "metadata": {},
   "outputs": [
    {
     "name": "stdout",
     "output_type": "stream",
     "text": [
      "W de la couche 2 après modification : [[ 0.8  -0.2 ]\n",
      " [ 0.05  0.15]]\n",
      "B de la couche 2 après modification : [[-0.1  0.4]]\n"
     ]
    }
   ],
   "source": [
    "W2-=0.1*dJ_dW2\n",
    "B2-=0.1*dJ_dB2\n",
    "print(\"W de la couche 2 après modification :\", W2)\n",
    "print(\"B de la couche 2 après modification :\", B2)"
   ]
  },
  {
   "cell_type": "code",
   "execution_count": 38,
   "metadata": {},
   "outputs": [
    {
     "name": "stdout",
     "output_type": "stream",
     "text": [
      "dJ_dW de la couche 1: [[-0.8  0.2]\n",
      " [-0.8  0.2]]\n",
      "dJ_dB de la couche 1: [[-0.8  0.2]]\n",
      "dJ_dX de la couche 1: [[-0.38 -0.3 ]]\n"
     ]
    }
   ],
   "source": [
    "dJ_dY1=dJ_dX2\n",
    "dJ_dW1 = np.dot(X1.T,dJ_dY1) \n",
    "print(\"dJ_dW de la couche 1:\",dJ_dW1)\n",
    "dJ_dB1 = dJ_dY1\n",
    "print(\"dJ_dB de la couche 1:\",dJ_dB1)\n",
    "dJ_dX1 = np.dot(dJ_dY1,W1.T)\n",
    "print(\"dJ_dX de la couche 1:\",dJ_dX1)"
   ]
  },
  {
   "cell_type": "code",
   "execution_count": 39,
   "metadata": {},
   "outputs": [
    {
     "name": "stdout",
     "output_type": "stream",
     "text": [
      "W de la couche 1 après modification : [[ 0.58  0.08]\n",
      " [ 0.38 -0.32]]\n",
      "B de la couche 1 après modification : [[0.28 0.68]]\n"
     ]
    }
   ],
   "source": [
    "W1-=0.1*dJ_dW1\n",
    "B1-=0.1*dJ_dB1\n",
    "print(\"W de la couche 1 après modification :\", W1)\n",
    "print(\"B de la couche 1 après modification :\", B1)"
   ]
  },
  {
   "cell_type": "code",
   "execution_count": 40,
   "metadata": {},
   "outputs": [
    {
     "name": "stdout",
     "output_type": "stream",
     "text": [
      "Sortie Y de la couche 1: [[1.24 0.44]]\n",
      "Sortie Y de la couche 2: [[0.914 0.218]]\n",
      "Erreur quadratique : 0.054920000000000045\n"
     ]
    }
   ],
   "source": [
    "X1=X\n",
    "Y1 = B1+np.dot(X1,W1)\n",
    "print(\"Sortie Y de la couche 1:\",Y1)\n",
    "X2=Y1\n",
    "Y2 = B2+np.dot(X2,W2)\n",
    "print(\"Sortie Y de la couche 2:\",Y2)\n",
    "Y_chapeau = Y2\n",
    "cout_J = np.sum(np.power(Y_chapeau-Y,2))\n",
    "print(\"Erreur quadratique :\", cout_J)"
   ]
  },
  {
   "cell_type": "code",
   "execution_count": null,
   "metadata": {},
   "outputs": [],
   "source": []
  }
 ],
 "metadata": {
  "kernelspec": {
   "display_name": "Python 3",
   "language": "python",
   "name": "python3"
  },
  "language_info": {
   "codemirror_mode": {
    "name": "ipython",
    "version": 3
   },
   "file_extension": ".py",
   "mimetype": "text/x-python",
   "name": "python",
   "nbconvert_exporter": "python",
   "pygments_lexer": "ipython3",
   "version": "3.7.6"
  }
 },
 "nbformat": 4,
 "nbformat_minor": 4
}
