{
 "cells": [
  {
   "cell_type": "code",
   "execution_count": 1,
   "metadata": {},
   "outputs": [
    {
     "name": "stdout",
     "output_type": "stream",
     "text": [
      "Activation par couche: [array([[1.],\n",
      "       [1.],\n",
      "       [1.]]), array([[1. ],\n",
      "       [1. ],\n",
      "       [0.5]]), array([[1. ],\n",
      "       [0.5],\n",
      "       [0.5]])]\n",
      "Erreur quadratique: [0.5]\n",
      "dJ_dw: [array([[-0.8,  0.2],\n",
      "       [-0.8,  0.2],\n",
      "       [-0.8,  0.2]]), array([[-1. ,  1. ],\n",
      "       [-1. ,  1. ],\n",
      "       [-0.5,  0.5]])]\n",
      "w après rétropropagation: [array([[ 0.28,  0.68],\n",
      "       [ 0.58,  0.08],\n",
      "       [ 0.38, -0.32]]), array([[-0.1 ,  0.4 ],\n",
      "       [ 0.8 , -0.2 ],\n",
      "       [ 0.05,  0.15]])]\n"
     ]
    }
   ],
   "source": [
    "# Réseau Minus, propagation avant avec stockage des activations et rétropropagation\n",
    "import numpy as np\n",
    "\n",
    "liste_nc =[2,2,2]\n",
    "nombre_couches = len(liste_nc)\n",
    "# NB w[c] correspond a la couche c+1\n",
    "w=np.array([[[0.2,0.7],[0.5,0.1],[0.3,-0.3]],[[-0.2,0.5],[0.7,-0.1],[0,0.2]]])\n",
    "\n",
    "x = [[1],[1]]\n",
    "y = [[1],[0]]\n",
    "\n",
    "# propagation_avant avec stockage des activations pour la rétropropagation\n",
    "activation = np.vstack((np.ones(1),x)) # activation de la couche 0\n",
    "activation_par_couche = [np.vstack((np.ones(1),x))] # liste des activations couche par couche\n",
    "# Itérer pour produire les activations de la couche 1 a la couche nombre_couches-1\n",
    "for c in range(nombre_couches-1): # NB c part a 0\n",
    "    z = np.dot(w[c].transpose(),activation)\n",
    "    activation = np.vstack((np.ones(1),z))\n",
    "    activation_par_couche.append(activation)\n",
    "print(\"Activation par couche:\",activation_par_couche)\n",
    "print(\"Erreur quadratique:\", sum((activation[1:]-y)**2))\n",
    "\n",
    "# retropropagation\n",
    "vitesse = 0.1\n",
    "\n",
    "dJ_dw = [np.zeros(une_matrice.shape) for une_matrice in w]\n",
    "dJ_da = 2*(activation_par_couche[nombre_couches-1][1:]-y) # Pour la couche de sortie\n",
    "dJ_dw[nombre_couches-2] = np.dot(activation_par_couche[nombre_couches-2],dJ_da.transpose())\n",
    "\n",
    "# itérer de la couche nombre_couches-2 à la couche 1\n",
    "for c in range(nombre_couches-2,0,-1):\n",
    "    dJ_da = np.dot(w[c][1:], dJ_da) # dérivée pour a pour la couche c\n",
    "    dJ_dw[c-1] = np.dot(activation_par_couche[c-1], dJ_da.transpose()) # dJ_dw[c-1] correspond a c\n",
    "print(\"dJ_dw:\",dJ_dw)\n",
    "w = [un_w-vitesse*dw  for (un_w, dw) in zip(w, dJ_dw)]\n",
    "print(\"w après rétropropagation:\",w)"
   ]
  },
  {
   "cell_type": "code",
   "execution_count": null,
   "metadata": {
    "collapsed": true
   },
   "outputs": [],
   "source": []
  }
 ],
 "metadata": {
  "kernelspec": {
   "display_name": "Python 3",
   "language": "python",
   "name": "python3"
  },
  "language_info": {
   "codemirror_mode": {
    "name": "ipython",
    "version": 3
   },
   "file_extension": ".py",
   "mimetype": "text/x-python",
   "name": "python",
   "nbconvert_exporter": "python",
   "pygments_lexer": "ipython3",
   "version": "3.6.3"
  }
 },
 "nbformat": 4,
 "nbformat_minor": 2
}
