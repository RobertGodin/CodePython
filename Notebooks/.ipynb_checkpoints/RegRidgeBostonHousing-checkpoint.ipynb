{
 "cells": [
  {
   "cell_type": "code",
   "execution_count": null,
   "metadata": {
    "collapsed": true
   },
   "outputs": [],
   "source": [
    "# Régression linéaire multivariée avec sklearn\n",
    "# Ridge, Lasso\n",
    "# Données Boston Housing \n",
    "# x : nombre de pieces y : prix \n",
    "\n",
    "%matplotlib inline\n",
    "import matplotlib.pyplot as plt\n",
    "import numpy as np\n",
    "from sklearn import datasets, linear_model\n",
    "from sklearn.metrics import mean_squared_error, r2_score\n",
    "\n",
    "maisons_boston = datasets.load_boston()\n",
    "maisons_X = maisons_boston.data\n",
    "maisons_y = maisons_boston.target\n",
    "\n",
    "# Estimation des paramètres avec le modèle de régression linéaire\n",
    "modele = linear_model.LinearRegression()\n",
    "modele.fit(maisons_X, maisons_y)\n",
    "\n",
    "# Prédictions avec les observations\n",
    "maisons_y_estime = modele.predict(maisons_X)\n",
    "\n",
    "print(\"Theta0:\", modele.intercept_)\n",
    "print(\"Theta1:\", modele.coef_)\n",
    "print(\"Erreur quadratique moyenne :\", mean_squared_error(maisons_y_estime,maisons_y))"
   ]
  }
 ],
 "metadata": {
  "kernelspec": {
   "display_name": "Python 3",
   "language": "python",
   "name": "python3"
  },
  "language_info": {
   "codemirror_mode": {
    "name": "ipython",
    "version": 3
   },
   "file_extension": ".py",
   "mimetype": "text/x-python",
   "name": "python",
   "nbconvert_exporter": "python",
   "pygments_lexer": "ipython3",
   "version": "3.6.3"
  }
 },
 "nbformat": 4,
 "nbformat_minor": 2
}
