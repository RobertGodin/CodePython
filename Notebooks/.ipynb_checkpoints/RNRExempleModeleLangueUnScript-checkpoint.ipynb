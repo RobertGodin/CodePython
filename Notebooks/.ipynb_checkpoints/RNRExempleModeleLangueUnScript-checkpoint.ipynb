{
 "cells": [
  {
   "cell_type": "code",
   "execution_count": 37,
   "metadata": {},
   "outputs": [
    {
     "name": "stdout",
     "output_type": "stream",
     "text": [
      "Correspondances des caractères en entiers: {'f': 0, 'i': 1, 'k': 2, 's': 3, 'w': 4}\n",
      "Taille maximale de chaine : 4\n",
      "Mini-lot des séquences de caractères X\n",
      "['wif', 'wik', 'sif', 'kiw']\n",
      "Mini-lot des séquences de caractères Y\n",
      "['ifi', 'iki', 'ifi', 'iwi']\n"
     ]
    }
   ],
   "source": [
    "# -*- coding: utf-8 -*-\n",
    "\"\"\"\n",
    "Exemple de Réseau de Neurone Récurrent avec Pytorch RNN\n",
    "\n",
    "\"\"\"\n",
    "import torch\n",
    "from torch import nn\n",
    "import numpy as np\n",
    "torch.manual_seed(0) # Pour résultats reproductibles\n",
    "\n",
    "# Préparer les données d'entrainement\n",
    "liste_chaines = ['wifi','wiki','sifi','kiwi']\n",
    "ensemble_caracteres = sorted(list(set(''.join(liste_chaines))))\n",
    "dict_int_car = dict(enumerate(ensemble_caracteres))\n",
    "dict_car_int = {char: ind for ind, char in dict_int_car.items()}\n",
    "print(\"Correspondances des caractères en entiers:\",dict_car_int)\n",
    "taille_max_chaine = len(max(liste_chaines, key=len))\n",
    "print(\"Taille maximale de chaine :\",taille_max_chaine)\n",
    "\n",
    "# Niveler les tailles des chaines pour simplifier le traitement\n",
    "for i in range(len(liste_chaines)):\n",
    "    while len(liste_chaines[i])<taille_max_chaine:\n",
    "        liste_chaines[i] += ' '\n",
    "        \n",
    "mini_lot_sequence_X = [] # Mini_lot de séquences X pour l'entraînement\n",
    "mini_lot_sequence_Y = [] # Mini_lot de séquences cibles X pour l'entraînement\n",
    "\n",
    "for i in range(len(liste_chaines)):\n",
    "    mini_lot_sequence_X.append(liste_chaines[i][:-1]) # Supprimer dernier caractère de la sequence X\n",
    "    mini_lot_sequence_Y.append(liste_chaines[i][1:])  # Supprimer premier caractère de la sequence Y\n",
    "print(\"Mini-lot des séquences de caractères X\")\n",
    "print(mini_lot_sequence_X)\n",
    "print(\"Mini-lot des séquences de caractères Y\")\n",
    "print(mini_lot_sequence_Y)"
   ]
  },
  {
   "cell_type": "code",
   "execution_count": 38,
   "metadata": {},
   "outputs": [
    {
     "name": "stdout",
     "output_type": "stream",
     "text": [
      "Mini-lot des séquences X sous forme d'entiers\n",
      "[[4, 1, 0], [4, 1, 2], [3, 1, 0], [2, 1, 4]]\n",
      "Mini-lot des séquences Y sous forme d'entiers\n",
      "[[1, 0, 1], [1, 2, 1], [1, 0, 1], [1, 4, 1]]\n"
     ]
    }
   ],
   "source": [
    "for i in range(len(liste_chaines)): # Conversion des caractères en entiers\n",
    "    mini_lot_sequence_X[i] = [dict_car_int[character] for character in mini_lot_sequence_X[i]]\n",
    "    mini_lot_sequence_Y[i] = [dict_car_int[character] for character in mini_lot_sequence_Y[i]]\n",
    "print(\"Mini-lot des séquences X sous forme d'entiers\")\n",
    "print(mini_lot_sequence_X)\n",
    "print(\"Mini-lot des séquences Y sous forme d'entiers\")\n",
    "print(mini_lot_sequence_Y)"
   ]
  },
  {
   "cell_type": "code",
   "execution_count": 39,
   "metadata": {},
   "outputs": [
    {
     "name": "stdout",
     "output_type": "stream",
     "text": [
      "Mini-lot des séquences X sous forme de bitmaps (encodage one-hot)\n",
      "Forme de X: (4, 3, 5) --> (taille mini lot, taille sequence, taille bitmap)\n",
      "[[[0. 0. 0. 0. 1.]\n",
      "  [0. 1. 0. 0. 0.]\n",
      "  [1. 0. 0. 0. 0.]]\n",
      "\n",
      " [[0. 0. 0. 0. 1.]\n",
      "  [0. 1. 0. 0. 0.]\n",
      "  [0. 0. 1. 0. 0.]]\n",
      "\n",
      " [[0. 0. 0. 1. 0.]\n",
      "  [0. 1. 0. 0. 0.]\n",
      "  [1. 0. 0. 0. 0.]]\n",
      "\n",
      " [[0. 0. 1. 0. 0.]\n",
      "  [0. 1. 0. 0. 0.]\n",
      "  [0. 0. 0. 0. 1.]]]\n"
     ]
    }
   ],
   "source": [
    "#Coder les entiers de Y en bitmap pour l'entrainement\n",
    "taille_dictionnaire = len(dict_car_int)    \n",
    "taille_sequence = taille_max_chaine - 1\n",
    "taille_mini_lot = len(liste_chaines)\n",
    "mini_lot_sequence_X_bitmap = np.zeros((taille_mini_lot, taille_sequence, taille_dictionnaire), dtype=np.float32)\n",
    "for indice_lot in range(taille_mini_lot):\n",
    "    for indice_sequence in range(taille_sequence):\n",
    "        mini_lot_sequence_X_bitmap[indice_lot, indice_sequence, mini_lot_sequence_X[indice_lot][indice_sequence]] = 1\n",
    "print(\"Mini-lot des séquences X sous forme de bitmaps (encodage one-hot)\")\n",
    "print(\"Forme de X: {} --> (taille mini lot, taille sequence, taille bitmap)\".format(mini_lot_sequence_X_bitmap.shape))\n",
    "print(mini_lot_sequence_X_bitmap)\n",
    "\n",
    "mini_lot_sequence_X_bitmap = torch.from_numpy(mini_lot_sequence_X_bitmap)\n",
    "mini_lot_sequence_Y = torch.Tensor(mini_lot_sequence_Y)"
   ]
  },
  {
   "cell_type": "code",
   "execution_count": 43,
   "metadata": {},
   "outputs": [
    {
     "name": "stdout",
     "output_type": "stream",
     "text": [
      "Entrainement sur  cpu\n",
      "-------- > epoch 10:  coût = 1.2477951049804688\n",
      "-------- > epoch 20:  coût = 0.9425600171089172\n",
      "-------- > epoch 30:  coût = 0.6484959125518799\n",
      "-------- > epoch 40:  coût = 0.46556711196899414\n",
      "-------- > epoch 50:  coût = 0.38750919699668884\n",
      "-------- > epoch 60:  coût = 0.3458600342273712\n",
      "-------- > epoch 70:  coût = 0.31886380910873413\n",
      "-------- > epoch 80:  coût = 0.2988909184932709\n",
      "-------- > epoch 90:  coût = 0.27845868468284607\n",
      "-------- > epoch 100:  coût = 0.25121214985847473\n"
     ]
    }
   ],
   "source": [
    "# Déterminer si un GPU est disponible\n",
    "device = torch.device(\"cuda:0\" if torch.cuda.is_available() else \"cpu\")\n",
    "print('Entrainement sur ',device)\n",
    "    \n",
    "class Modele(nn.Module):\n",
    "    def __init__(self, taille_X, taille_Y, taille_H, nb_couches_RNR):\n",
    "        super(Modele, self).__init__()\n",
    "        self.taille_H = taille_H\n",
    "        self.nb_couches_RNR = nb_couches_RNR\n",
    "        self.rnn = nn.RNN(taille_X, taille_H, nb_couches_RNR, batch_first=True)\n",
    "        self.fc = nn.Linear(taille_H, taille_Y)\n",
    "    \n",
    "    def forward(self, lot_X):\n",
    "        \"\"\" lot_X : (taille_mini_lot, taille_sequence, taille_bitmap)\"\"\"\n",
    "        taille_mini_lot = lot_X.size(0)\n",
    "        H = torch.zeros(self.nb_couches_RNR, taille_mini_lot, self.taille_H).to(device)\n",
    "        lot_Ht, H = self.rnn(lot_X, H) \n",
    "        # Applatir le lot_Ht pour la couche dense qui suit\n",
    "        lot_Ht = lot_Ht.contiguous().view(-1, self.taille_H)\n",
    "        lot_Yt = self.fc(lot_Ht)\n",
    "        \n",
    "        return lot_Yt, H\n",
    "    \n",
    "    def init_H(self, taille_mini_lot):\n",
    "        H = torch.zeros(self.nb_couches_RNR, taille_mini_lot, self.taille_H).to(device)\n",
    "        return H\n",
    "\n",
    "modele = Modele(taille_X=taille_dictionnaire, taille_Y=taille_dictionnaire, taille_H=6, nb_couches_RNR=1)\n",
    "modele = modele.to(device)\n",
    "\n",
    "n_epochs = 100\n",
    "taux=0.01\n",
    "fonction_cout = nn.CrossEntropyLoss()\n",
    "optimizeur = torch.optim.Adam(modele.parameters(), lr=taux)\n",
    "\n",
    "# Entraînement du RNR\n",
    "mini_lot_sequence_X_bitmap = mini_lot_sequence_X_bitmap.to(device)\n",
    "for epoch in range(1, n_epochs + 1):\n",
    "    optimizeur.zero_grad()\n",
    "    lot_Yt, H = modele(mini_lot_sequence_X_bitmap)\n",
    "    lot_Yt = lot_Yt.to(device)\n",
    "    mini_lot_sequence_Y = mini_lot_sequence_Y.to(device)\n",
    "    cout = fonction_cout(lot_Yt, mini_lot_sequence_Y.view(-1).long())\n",
    "    cout.backward()\n",
    "    optimizeur.step()\n",
    "    if epoch%10 == 0:\n",
    "        print(f'-------- > epoch {epoch}:  coût = {cout}')"
   ]
  },
  {
   "cell_type": "code",
   "execution_count": 44,
   "metadata": {},
   "outputs": [
    {
     "name": "stdout",
     "output_type": "stream",
     "text": [
      "Prédiction itération:  0\n",
      "Un seul lot X<1>, X<2>, ..., X<t>: tensor([[[0., 0., 0., 0., 1.]]])\n",
      "Prédiction Y<1>,Y<2>, ... ,Y<t>: tensor([[-1.9799,  3.2906, -2.9966, -1.7356, -3.2002]],\n",
      "       grad_fn=<AddmmBackward>)\n",
      "Softmax du dernier Yt: tensor([0.0051, 0.9851, 0.0018, 0.0065, 0.0015])\n",
      "Caractère prédit:  i\n",
      "Prédiction itération:  1\n",
      "Un seul lot X<1>, X<2>, ..., X<t>: tensor([[[0., 0., 0., 0., 1.],\n",
      "         [0., 1., 0., 0., 0.]]])\n",
      "Prédiction Y<1>,Y<2>, ... ,Y<t>: tensor([[-1.9799,  3.2906, -2.9966, -1.7356, -3.2002],\n",
      "        [ 3.0535, -1.3815,  2.4408,  0.0044,  2.2438]],\n",
      "       grad_fn=<AddmmBackward>)\n",
      "Softmax du dernier Yt: tensor([0.4887, 0.0058, 0.2648, 0.0232, 0.2175])\n",
      "Caractère prédit:  f\n",
      "Prédiction itération:  2\n",
      "Un seul lot X<1>, X<2>, ..., X<t>: tensor([[[0., 0., 0., 0., 1.],\n",
      "         [0., 1., 0., 0., 0.],\n",
      "         [1., 0., 0., 0., 0.]]])\n",
      "Prédiction Y<1>,Y<2>, ... ,Y<t>: tensor([[-1.9799,  3.2906, -2.9966, -1.7356, -3.2002],\n",
      "        [ 3.0535, -1.3815,  2.4408,  0.0044,  2.2438],\n",
      "        [-2.3481,  3.6235, -3.8745, -1.5611, -3.5805]],\n",
      "       grad_fn=<AddmmBackward>)\n",
      "Softmax du dernier Yt: tensor([2.5261e-03, 9.9064e-01, 5.4898e-04, 5.5498e-03, 7.3661e-04])\n",
      "Caractère prédit:  i\n",
      "wifi\n"
     ]
    }
   ],
   "source": [
    "def prediction(modele, ensemble_caracteres):\n",
    "    \"\"\" Retourner le prochain caratère de la séquence ensemble_caracteres selon le modèle\"\"\"\n",
    "    # Transformer l'ensemble en un mini-lot de taille 1 avec le format approprié (1,taille_seq,bitmap)\n",
    "    ensemble_caracteres = np.array([[dict_car_int[c] for c in ensemble_caracteres]])\n",
    "    taille_sequence = ensemble_caracteres.shape[1]\n",
    "    mini_lot_sequence_X_bitmap = np.zeros((1, taille_sequence, taille_dictionnaire), dtype=np.float32)\n",
    "    for indice_sequence in range(taille_sequence):\n",
    "        mini_lot_sequence_X_bitmap[0, indice_sequence, ensemble_caracteres[0][indice_sequence]] = 1\n",
    "    mini_lot_sequence_X_bitmap = torch.from_numpy(mini_lot_sequence_X_bitmap)\n",
    "    mini_lot_sequence_X_bitmap = mini_lot_sequence_X_bitmap.to(device)\n",
    "    Yt, H = modele(mini_lot_sequence_X_bitmap)\n",
    "    print(\"Un seul lot X<1>, X<2>, ..., X<t>:\",mini_lot_sequence_X_bitmap)\n",
    "    print(\"Prédiction Y<1>,Y<2>, ... ,Y<t>:\",Yt)\n",
    "    softmax_dernier_Yt = nn.functional.softmax(Yt[-1], dim=0).data\n",
    "    print(\"Softmax du dernier Yt:\",softmax_dernier_Yt)\n",
    "    indice_probabilite_maximale = torch.max(softmax_dernier_Yt, dim=0)[1].item()\n",
    "    return dict_int_car[indice_probabilite_maximale]\n",
    "\n",
    "def echantillon(modele, taille_resultat, prefixe='w'):\n",
    "    \"\"\" Compléter le préfixe par échantillonnage du modèle un caractère à la fois\"\"\"\n",
    "    modele.eval()\n",
    "    ensemble_caracteres = [caractere for caractere in prefixe]\n",
    "    taille_restante = taille_resultat - len(ensemble_caracteres)\n",
    "    for i in range(taille_restante):\n",
    "        print(\"Prédiction itération: \", i)\n",
    "        caractere_prediction = prediction(modele, ensemble_caracteres)\n",
    "        print(\"Caractère prédit: \", caractere_prediction)\n",
    "        ensemble_caracteres.append(caractere_prediction)\n",
    "    return ''.join(ensemble_caracteres)\n",
    "\n",
    "print(echantillon(modele,4,'w'))"
   ]
  },
  {
   "cell_type": "code",
   "execution_count": null,
   "metadata": {},
   "outputs": [],
   "source": []
  }
 ],
 "metadata": {
  "kernelspec": {
   "display_name": "Python 3",
   "language": "python",
   "name": "python3"
  },
  "language_info": {
   "codemirror_mode": {
    "name": "ipython",
    "version": 3
   },
   "file_extension": ".py",
   "mimetype": "text/x-python",
   "name": "python",
   "nbconvert_exporter": "python",
   "pygments_lexer": "ipython3",
   "version": "3.7.6"
  }
 },
 "nbformat": 4,
 "nbformat_minor": 4
}
