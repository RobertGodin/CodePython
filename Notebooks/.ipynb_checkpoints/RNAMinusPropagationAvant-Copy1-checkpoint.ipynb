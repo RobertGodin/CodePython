{
 "cells": [
  {
   "cell_type": "code",
   "execution_count": 2,
   "metadata": {},
   "outputs": [
    {
     "name": "stdout",
     "output_type": "stream",
     "text": [
      "Poids w de la couche 1: [[ 0.2  0.7]\n",
      " [ 0.5  0.1]\n",
      " [ 0.3 -0.3]]\n",
      "Poids w de la couche 2: [[-0.2  0.5]\n",
      " [ 0.7 -0.1]\n",
      " [ 0.   0.2]]\n",
      "activation couche 0: [[1.]\n",
      " [1.]\n",
      " [1.]]\n",
      "activation couche  1 : [[1. ]\n",
      " [1. ]\n",
      " [0.5]]\n",
      "activation couche  2 : [[1. ]\n",
      " [0.5]\n",
      " [0.5]]\n",
      "Erreur quadratique: [0.5]\n"
     ]
    }
   ],
   "source": [
    "# Exemple de propagation avant avec réseau Minus\n",
    "import numpy as np\n",
    "\n",
    "liste_nc =[2,2,2]\n",
    "nombre_couches = len(liste_nc)\n",
    "w=np.array([[[0.2,0.7],[0.5,0.1],[0.3,-0.3]],[[-0.2,0.5],[0.7,-0.1],[0,0.2]]])\n",
    "print(\"Poids w de la couche 1:\",w[0])\n",
    "print(\"Poids w de la couche 2:\",w[1])\n",
    "x = [[1],[1]]\n",
    "y = [[1],[0]]\n",
    "\n",
    "# propagation_avant\n",
    "activation = np.vstack((np.ones(1),x)) # Activation couche 0\n",
    "print(\"activation couche 0:\",activation)\n",
    "for c in range(2):\n",
    "    z = np.dot(w[c].transpose(),activation)\n",
    "    activation = np.vstack((np.ones(1),z))\n",
    "    print(\"activation couche \",c+1,\":\",activation)\n",
    "print(\"Erreur quadratique:\", sum((activation[1:]-y)**2))"
   ]
  },
  {
   "cell_type": "code",
   "execution_count": null,
   "metadata": {
    "collapsed": true
   },
   "outputs": [],
   "source": []
  }
 ],
 "metadata": {
  "kernelspec": {
   "display_name": "Python 3",
   "language": "python",
   "name": "python3"
  },
  "language_info": {
   "codemirror_mode": {
    "name": "ipython",
    "version": 3
   },
   "file_extension": ".py",
   "mimetype": "text/x-python",
   "name": "python",
   "nbconvert_exporter": "python",
   "pygments_lexer": "ipython3",
   "version": "3.8.8"
  }
 },
 "nbformat": 4,
 "nbformat_minor": 2
}
