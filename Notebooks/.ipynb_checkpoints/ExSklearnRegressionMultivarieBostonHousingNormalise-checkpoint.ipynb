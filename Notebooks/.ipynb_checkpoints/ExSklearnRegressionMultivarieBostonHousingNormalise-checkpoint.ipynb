{
 "cells": [
  {
   "cell_type": "code",
   "execution_count": 3,
   "metadata": {},
   "outputs": [
    {
     "name": "stdout",
     "output_type": "stream",
     "text": [
      "Theta0: 36.459488385089855\n",
      "Theta1-n: [-1.08011358e-01  4.64204584e-02  2.05586264e-02  2.68673382e+00\n",
      " -1.77666112e+01  3.80986521e+00  6.92224640e-04 -1.47556685e+00\n",
      "  3.06049479e-01 -1.23345939e-02 -9.52747232e-01  9.31168327e-03\n",
      " -5.24758378e-01]\n",
      "Erreur quadratique moyenne : 21.894831181729202\n"
     ]
    }
   ],
   "source": [
    "# Régression linéaire multivariée avec sklearn\n",
    "# Données Boston Housing\n",
    "\n",
    "%matplotlib inline\n",
    "import matplotlib.pyplot as plt\n",
    "import numpy as np\n",
    "from sklearn import datasets, linear_model\n",
    "from sklearn.metrics import mean_squared_error\n",
    "\n",
    "maisons_boston = datasets.load_boston()\n",
    "maisons_X = maisons_boston.data\n",
    "maisons_y = maisons_boston.target\n",
    "\n",
    "# Estimation des paramètres avec le modèle de régression linéaire\n",
    "modele = linear_model.LinearRegression()\n",
    "modele.fit(maisons_X, maisons_y)\n",
    "\n",
    "# Prédictions avec les observations\n",
    "maisons_y_estime = modele.predict(maisons_X)\n",
    "\n",
    "print(\"Theta0:\", modele.intercept_)\n",
    "print(\"Theta1-n:\", modele.coef_)\n",
    "print(\"Erreur quadratique moyenne :\", mean_squared_error(maisons_y_estime,maisons_y))"
   ]
  },
  {
   "cell_type": "code",
   "execution_count": 2,
   "metadata": {},
   "outputs": [
    {
     "data": {
      "text/plain": [
       "(506, 13)"
      ]
     },
     "execution_count": 2,
     "metadata": {},
     "output_type": "execute_result"
    }
   ],
   "source": [
    "maisons_X.shape"
   ]
  },
  {
   "cell_type": "code",
   "execution_count": null,
   "metadata": {},
   "outputs": [],
   "source": []
  }
 ],
 "metadata": {
  "kernelspec": {
   "display_name": "Python 3",
   "language": "python",
   "name": "python3"
  },
  "language_info": {
   "codemirror_mode": {
    "name": "ipython",
    "version": 3
   },
   "file_extension": ".py",
   "mimetype": "text/x-python",
   "name": "python",
   "nbconvert_exporter": "python",
   "pygments_lexer": "ipython3",
   "version": "3.7.6"
  }
 },
 "nbformat": 4,
 "nbformat_minor": 2
}
