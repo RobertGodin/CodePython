{
 "cells": [
  {
   "cell_type": "code",
   "execution_count": 11,
   "metadata": {},
   "outputs": [
    {
     "name": "stdout",
     "output_type": "stream",
     "text": [
      "W couche 1: tensor([[ 0.5000,  0.1000],\n",
      "        [ 0.3000, -0.3000]], requires_grad=True)\n",
      "torch.Size([2, 2]) torch.float32\n"
     ]
    }
   ],
   "source": [
    "import torch\n",
    "W1=torch.tensor([[0.5,0.1],[0.3,-0.3]], requires_grad=True)\n",
    "print(\"W couche 1:\",W1)\n",
    "print(W1.shape, W1.dtype)"
   ]
  },
  {
   "cell_type": "code",
   "execution_count": 12,
   "metadata": {},
   "outputs": [],
   "source": [
    "B1=torch.tensor([[0.2,0.7]], requires_grad=True)\n",
    "W2=torch.tensor([[0.7,-0.1],[0,0.2]], requires_grad=True)\n",
    "B2=torch.tensor([[-0.2,0.5]], requires_grad=True)"
   ]
  },
  {
   "cell_type": "code",
   "execution_count": 13,
   "metadata": {},
   "outputs": [],
   "source": [
    "X = torch.tensor([[1.0,1.0]])\n",
    "Y = torch.tensor([[1.0,0.0]])"
   ]
  },
  {
   "cell_type": "code",
   "execution_count": 14,
   "metadata": {},
   "outputs": [
    {
     "name": "stdout",
     "output_type": "stream",
     "text": [
      "Sortie Y de la couche 1: tensor([[1.0000, 0.5000]], grad_fn=<AddBackward0>)\n",
      "Sortie Y de la couche 2: tensor([[0.5000, 0.5000]], grad_fn=<AddBackward0>)\n",
      "Erreur quadratique : tensor(0.5000, grad_fn=<SumBackward0>)\n"
     ]
    }
   ],
   "source": [
    "Y1 = B1+torch.matmul(X,W1)\n",
    "print(\"Sortie Y de la couche 1:\",Y1)\n",
    "Y2 = B2+torch.matmul(Y1,W2)\n",
    "print(\"Sortie Y de la couche 2:\",Y2)\n",
    "cout_J = (Y2 - Y).pow(2).sum()\n",
    "print(\"Erreur quadratique :\", cout_J)"
   ]
  },
  {
   "cell_type": "code",
   "execution_count": 15,
   "metadata": {},
   "outputs": [
    {
     "name": "stdout",
     "output_type": "stream",
     "text": [
      "Gradiant de W2 avant la rétropropagation: None\n"
     ]
    }
   ],
   "source": [
    "print(\"Gradiant de W2 avant la rétropropagation:\",W2.grad)"
   ]
  },
  {
   "cell_type": "code",
   "execution_count": 16,
   "metadata": {},
   "outputs": [
    {
     "name": "stdout",
     "output_type": "stream",
     "text": [
      "Gradiant de W2 après la rétropropagation: tensor([[-1.0000,  1.0000],\n",
      "        [-0.5000,  0.5000]])\n",
      "Gradiant de B2: tensor([[-1.,  1.]])\n",
      "Gradiant de W1: tensor([[-0.8000,  0.2000],\n",
      "        [-0.8000,  0.2000]])\n",
      "Gradiant de B1: tensor([[-0.8000,  0.2000]])\n"
     ]
    }
   ],
   "source": [
    "cout_J.backward()\n",
    "print(\"Gradiant de W2 après la rétropropagation:\",W2.grad)\n",
    "print(\"Gradiant de B2:\",B2.grad)\n",
    "print(\"Gradiant de W1:\",W1.grad)\n",
    "print(\"Gradiant de B1:\",B1.grad)"
   ]
  },
  {
   "cell_type": "code",
   "execution_count": 17,
   "metadata": {},
   "outputs": [
    {
     "name": "stdout",
     "output_type": "stream",
     "text": [
      "B2 après rétropropagation: tensor([[-0.1000,  0.4000]], requires_grad=True)\n",
      "W2 après rétropropagation: tensor([[ 0.8000, -0.2000],\n",
      "        [ 0.0500,  0.1500]], requires_grad=True)\n",
      "B1 après rétropropagation: tensor([[0.2800, 0.6800]], requires_grad=True)\n",
      "W1 après rétropropagation: tensor([[ 0.5800,  0.0800],\n",
      "        [ 0.3800, -0.3200]], requires_grad=True)\n"
     ]
    }
   ],
   "source": [
    "with torch.no_grad():\n",
    "    B2 -= 0.1 * B2.grad\n",
    "    W2 -= 0.1 * W2.grad\n",
    "    B1 -= 0.1 * B1.grad\n",
    "    W1 -= 0.1 * W1.grad\n",
    "print(\"B2 après rétropropagation:\",B2)\n",
    "print(\"W2 après rétropropagation:\",W2)\n",
    "print(\"B1 après rétropropagation:\",B1)\n",
    "print(\"W1 après rétropropagation:\",W1)"
   ]
  },
  {
   "cell_type": "code",
   "execution_count": 21,
   "metadata": {},
   "outputs": [
    {
     "name": "stdout",
     "output_type": "stream",
     "text": [
      "Gradiant de W2 après mise à 0: tensor([[0., 0.],\n",
      "        [0., 0.]])\n"
     ]
    }
   ],
   "source": [
    "W2.grad.zero_()\n",
    "B2.grad.zero_()\n",
    "W1.grad.zero_()\n",
    "B1.grad.zero_()\n",
    "print(\"Gradiant de W2 après mise à 0:\",W2.grad)"
   ]
  },
  {
   "cell_type": "code",
   "execution_count": 57,
   "metadata": {},
   "outputs": [
    {
     "name": "stdout",
     "output_type": "stream",
     "text": [
      "Nouvelle sortie Y de la couche 1 après mise à jour des paramètres W1 et B1: tensor([[1.2400, 0.4400]], grad_fn=<AddBackward0>)\n",
      "Nouvelle sortie Y de la couche 2: tensor([[0.9140, 0.2180]], grad_fn=<AddBackward0>)\n",
      "Nouvelle valeur de l'erreur quadratique : tensor(0.0549, grad_fn=<SumBackward0>)\n"
     ]
    }
   ],
   "source": [
    "Y1 = B1+torch.matmul(X,W1)\n",
    "print(\"Nouvelle sortie Y de la couche 1 après mise à jour des paramètres W1 et B1:\",Y1)\n",
    "Y2 = B2+torch.matmul(Y1,W2)\n",
    "print(\"Nouvelle sortie Y de la couche 2:\",Y2)\n",
    "cout_J = (Y2 - Y).pow(2).sum()\n",
    "print(\"Nouvelle valeur de l'erreur quadratique :\", cout_J)"
   ]
  },
  {
   "cell_type": "code",
   "execution_count": null,
   "metadata": {},
   "outputs": [],
   "source": []
  },
  {
   "cell_type": "code",
   "execution_count": null,
   "metadata": {},
   "outputs": [],
   "source": []
  }
 ],
 "metadata": {
  "kernelspec": {
   "display_name": "Python 3",
   "language": "python",
   "name": "python3"
  },
  "language_info": {
   "codemirror_mode": {
    "name": "ipython",
    "version": 3
   },
   "file_extension": ".py",
   "mimetype": "text/x-python",
   "name": "python",
   "nbconvert_exporter": "python",
   "pygments_lexer": "ipython3",
   "version": "3.7.6"
  }
 },
 "nbformat": 4,
 "nbformat_minor": 4
}
