{
 "cells": [
  {
   "cell_type": "code",
   "execution_count": 4,
   "metadata": {},
   "outputs": [
    {
     "data": {
      "image/png": "[encoded data removed]",
      "text/plain": [
       "<matplotlib.figure.Figure at 0x1a92d515fd0>"
      ]
     },
     "metadata": {
      "needs_background": "light"
     },
     "output_type": "display_data"
    }
   ],
   "source": [
    "# Régression polynomiale avec sklearn pour des données quadratiques simulées \n",
    "# Transformation des données avec PolynomialFeatures\n",
    "# Diviser les données : entraînement et test\n",
    "%matplotlib inline\n",
    "import matplotlib.pyplot as plt\n",
    "import numpy as np\n",
    "from sklearn.linear_model import LinearRegression\n",
    "from sklearn.metrics import mean_squared_error\n",
    "from sklearn.preprocessing import PolynomialFeatures\n",
    "\n",
    "def h_quadratique_univarie(theta,x):\n",
    "    return theta[0]+theta[1]*x+theta[2]*x**2\n",
    "\n",
    "def diviser_ent_test(x,y,proportion):\n",
    "    taille_x = len(x)\n",
    "    indices_permutes = np.random.permutation(taille_x)\n",
    "    taille_test = int(taille_x * proportion)\n",
    "    return x[:taille_test],donnees_permutes[taille_test:]\n",
    "\n",
    "# Génération de données avec résidus ~ N(0,1)\n",
    "m=20 # nombre de lignes de données\n",
    "theta_simule = (1,1,1)\n",
    "np.random.seed(22) # Pour obtenir des résultats reproductibles avec les données aléatoires\n",
    "\n",
    "X = np.random.rand(m)*10-5 # m valeurs de x entre -5 et 5\n",
    "Y = h_quadratique_univarie(theta_simule,X)+np.random.randn(m) # Résidus N(0,1)\n",
    "\n",
    "liste_erreurs_ent = []\n",
    "liste_erreurs_test = []\n",
    "\n",
    "# Diviser les données\n",
    "donnees=[(X[i],Y[i]) for i in range(len(X))]\n",
    "donnees_test,donnees_ent=diviser_ent_test(donnees, 0.5) \n",
    "\n",
    "X_test,Y_test = donnees_test\n",
    "\n",
    "X_test,X_ent = diviser_ent_test(X, 0.5)\n",
    "Y_test,Y_ent = diviser_ent_test(Y, 0.5)\n",
    "\n",
    "degre_max = 10\n",
    "for degre_polynome in range(1,degre_max):\n",
    "\n",
    "    # Transformation par PolynomialFeatures\n",
    "    transformateur_poly = PolynomialFeatures(degree=degre_polynome, include_bias=False)\n",
    "    X_poly_test = transformateur_poly.fit_transform(X_test[:,np.newaxis])\n",
    "    X_poly_ent = transformateur_poly.fit_transform(X_ent[:,np.newaxis])\n",
    "\n",
    "    # Régression avec LinearRegression\n",
    "    modele = LinearRegression(fit_intercept=True)\n",
    "    modele.fit(X_poly_ent,Y_ent)\n",
    "\n",
    "    # Produire estimations et erreur pour les données d'entrainment et de test\n",
    "    Y_estime_ent = modele.predict(X_poly_ent)\n",
    "    erreur_ent = mean_squared_error(Y_ent,Y_estime_ent)\n",
    "    liste_erreurs_ent.append(erreur_ent)\n",
    "    Y_estime_test = modele.predict(X_poly_test)\n",
    "    erreur_test = mean_squared_error(Y_test,Y_estime_test)\n",
    "    liste_erreurs_test.append(erreur_test)\n",
    "\n",
    "liste_degre = np.arange(1,degre_max)\n",
    "plt.plot(liste_degre,liste_erreurs_ent,label='Erreur_ent')\n",
    "plt.plot(liste_degre,liste_erreurs_test,label='Erreur_test')\n",
    "plt.title(\"Erreur quadratique moyenne\")\n",
    "plt.xlabel('degré')\n",
    "plt.ylabel('erreur')\n",
    "plt.legend(loc='upper center')\n",
    "plt.show()"
   ]
  },
  {
   "cell_type": "code",
   "execution_count": 5,
   "metadata": {},
   "outputs": [
    {
     "ename": "ValueError",
     "evalue": "too many values to unpack (expected 2)",
     "output_type": "error",
     "traceback": [
      "\u001b[1;31m---------------------------------------------------------------------------\u001b[0m",
      "\u001b[1;31mValueError\u001b[0m                                Traceback (most recent call last)",
      "\u001b[1;32m<ipython-input-5-4ceba47f3fc4>\u001b[0m in \u001b[0;36m<module>\u001b[1;34m()\u001b[0m\n\u001b[0;32m     32\u001b[0m \u001b[0mdonnees_test\u001b[0m\u001b[1;33m,\u001b[0m\u001b[0mdonnees_ent\u001b[0m\u001b[1;33m=\u001b[0m\u001b[0mdiviser_ent_test\u001b[0m\u001b[1;33m(\u001b[0m\u001b[0mdonnees\u001b[0m\u001b[1;33m,\u001b[0m \u001b[1;36m0.5\u001b[0m\u001b[1;33m)\u001b[0m\u001b[1;33m\u001b[0m\u001b[0m\n\u001b[0;32m     33\u001b[0m \u001b[1;33m\u001b[0m\u001b[0m\n\u001b[1;32m---> 34\u001b[1;33m \u001b[0mX_test\u001b[0m\u001b[1;33m,\u001b[0m\u001b[0mY_test\u001b[0m \u001b[1;33m=\u001b[0m \u001b[0mdonnees_test\u001b[0m\u001b[1;33m\u001b[0m\u001b[0m\n\u001b[0m",
      "\u001b[1;31mValueError\u001b[0m: too many values to unpack (expected 2)"
     ]
    }
   ],
   "source": [
    "# Régression polynomiale avec sklearn pour des données quadratiques simulées \n",
    "# Transformation des données avec PolynomialFeatures\n",
    "# Diviser les données : entraînement et test\n",
    "%matplotlib inline\n",
    "import matplotlib.pyplot as plt\n",
    "import numpy as np\n",
    "from sklearn.linear_model import LinearRegression\n",
    "from sklearn.metrics import mean_squared_error\n",
    "from sklearn.preprocessing import PolynomialFeatures\n",
    "\n",
    "def h_quadratique_univarie(theta,x):\n",
    "    return theta[0]+theta[1]*x+theta[2]*x**2\n",
    "\n",
    "def diviser_ent_test(donnees, proportion):\n",
    "    donnees_permutes = np.random.permutation(donnees)\n",
    "    taille_test = int(len(donnees) * proportion)\n",
    "    return donnees_permutes[:taille_test],donnees_permutes[taille_test:]\n",
    "\n",
    "# Génération de données avec résidus ~ N(0,1)\n",
    "m=20 # nombre de lignes de données\n",
    "theta_simule = (1,1,1)\n",
    "np.random.seed(22) # Pour obtenir des résultats reproductibles avec les données aléatoires\n",
    "\n",
    "X = np.random.rand(m)*10-5 # m valeurs de x entre -5 et 5\n",
    "Y = h_quadratique_univarie(theta_simule,X)+np.random.randn(m) # Résidus N(0,1)\n",
    "\n",
    "liste_erreurs_ent = []\n",
    "liste_erreurs_test = []\n",
    "\n",
    "# Diviser les données\n",
    "donnees=[(X[i],Y[i]) for i in range(len(X))]\n",
    "donnees_test,donnees_ent=diviser_ent_test(donnees, 0.5) \n",
    "\n",
    "X_test,Y_test = donnees_test\n"
   ]
  },
  {
   "cell_type": "code",
   "execution_count": null,
   "metadata": {
    "collapsed": true
   },
   "outputs": [],
   "source": []
  }
 ],
 "metadata": {
  "kernelspec": {
   "display_name": "Python 3",
   "language": "python",
   "name": "python3"
  },
  "language_info": {
   "codemirror_mode": {
    "name": "ipython",
    "version": 3
   },
   "file_extension": ".py",
   "mimetype": "text/x-python",
   "name": "python",
   "nbconvert_exporter": "python",
   "pygments_lexer": "ipython3",
   "version": "3.6.3"
  }
 },
 "nbformat": 4,
 "nbformat_minor": 2
}
