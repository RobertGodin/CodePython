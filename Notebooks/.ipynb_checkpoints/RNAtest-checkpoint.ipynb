{
 "cells": [
  {
   "cell_type": "code",
   "execution_count": 3,
   "metadata": {
    "scrolled": true
   },
   "outputs": [
    {
     "name": "stdout",
     "output_type": "stream",
     "text": [
      "[[1.        ]\n",
      " [0.67300039]\n",
      " [0.81670351]\n",
      " [0.54422882]]\n",
      "[[1.        ]\n",
      " [0.86069203]]\n"
     ]
    }
   ],
   "source": [
    "import numpy as np\n",
    "import random\n",
    "\n",
    "def sigmoide(z):\n",
    "    \"\"\"La fonction d'activation sigmoide\"\"\"\n",
    "    return 1.0/(1.0+np.exp(-z))\n",
    "\n",
    "def sigmoide_derivee(z):\n",
    "    \"\"\"Derivative of the sigmoid function.\"\"\"\n",
    "    return sigmoide(z)*(1-sigmoide(z))\n",
    "\n",
    "nc = (2,3,1)\n",
    "nombre_couches = len(nc)\n",
    "\"\"\" \n",
    "Creer un tableau de matrices de poids w, weights[0] est un tableau 2D des poids entre\n",
    "la couche 0 et la couche 1\"\"\"\n",
    "w = [np.random.randn(x+1, y) for x, y in zip(nc[:-1], nc[1:])]\n",
    "a=np.ones((3,1))\n",
    "for wc in w:\n",
    "    a = np.vstack((np.ones(1),sigmoide(np.dot(wc.transpose(), a))))\n",
    "    print(a)"
   ]
  },
  {
   "cell_type": "code",
   "execution_count": 4,
   "metadata": {},
   "outputs": [
    {
     "data": {
      "text/plain": [
       "[array([[ 0.21387034,  1.78235742,  0.22493394],\n",
       "        [-1.35176002,  0.8685256 , -0.1739997 ],\n",
       "        [ 1.85967663, -1.15671189,  0.12644465]]), array([[0.4116284 ],\n",
       "        [0.43508163],\n",
       "        [1.2740292 ],\n",
       "        [0.13984373]])]"
      ]
     },
     "execution_count": 4,
     "metadata": {},
     "output_type": "execute_result"
    }
   ],
   "source": [
    "w"
   ]
  },
  {
   "cell_type": "code",
   "execution_count": 5,
   "metadata": {},
   "outputs": [
    {
     "name": "stdout",
     "output_type": "stream",
     "text": [
      "activations: [array([[1.],\n",
      "       [1.],\n",
      "       [1.]]), array([[1.        ],\n",
      "       [0.67300039],\n",
      "       [0.81670351],\n",
      "       [0.54422882]]), array([[1.        ],\n",
      "       [0.86069203]])]\n",
      "zs [array([[0.72178694],\n",
      "       [1.49417113],\n",
      "       [0.17737889]]), array([[1.82104962]])]\n"
     ]
    }
   ],
   "source": [
    "def derivee_cout(output_activations, y):\n",
    "    \"\"\" Vecteur des dérivées de la fonction de cout vs aj\"\"\"\n",
    "    return (output_activations-y)\n",
    "\n",
    "\n",
    "nabla_w = [np.zeros(wc.shape) for wc in w]\n",
    "# feedforward\n",
    "x=np.ones((2,1))\n",
    "activation = np.vstack((np.ones(1),x))\n",
    "activations = [np.vstack((np.ones(1),x))] # list to store all the activations, layer by layer\n",
    "zs = [] # list to store all the z vectors, layer by layer\n",
    "\n",
    "for wc in w:\n",
    "    z = np.dot(wc.transpose(), activation)\n",
    "    zs.append(z)\n",
    "    activation = np.vstack((np.ones(1),sigmoide(z))) \n",
    "    activations.append(activation)\n",
    "print(\"activations:\",activations)\n",
    "print(\"zs\",zs)"
   ]
  },
  {
   "cell_type": "code",
   "execution_count": 6,
   "metadata": {},
   "outputs": [
    {
     "name": "stdout",
     "output_type": "stream",
     "text": [
      "delta couche[2]: [[-0.0167032]]\n",
      "del w couche[2]: [[-0.0167032 ]\n",
      " [-0.01124126]\n",
      " [-0.01364156]\n",
      " [-0.00909036]]\n",
      "deriveeSigmoide sp: [[0.22007086]\n",
      " [0.14969889]\n",
      " [0.24804381]]\n",
      "w[-l+1]: [[0.4116284 ]\n",
      " [0.43508163]\n",
      " [1.2740292 ]\n",
      " [0.13984373]]\n",
      "w*delta: [[-0.00687551]\n",
      " [-0.00726726]\n",
      " [-0.02128037]\n",
      " [-0.00233584]]\n",
      "delta nouveau: [[-0.00159931]\n",
      " [-0.00318565]\n",
      " [-0.00057939]]\n",
      "nabla_w nouveau: [[-0.00159931 -0.00159931 -0.00159931]\n",
      " [-0.00318565 -0.00318565 -0.00318565]\n",
      " [-0.00057939 -0.00057939 -0.00057939]]\n",
      "nabla_w: [array([[-0.00159931, -0.00159931, -0.00159931],\n",
      "       [-0.00318565, -0.00318565, -0.00318565],\n",
      "       [-0.00057939, -0.00057939, -0.00057939]]), array([[-0.0167032 ],\n",
      "       [-0.01124126],\n",
      "       [-0.01364156],\n",
      "       [-0.00909036]])]\n"
     ]
    }
   ],
   "source": [
    "# backward pass \n",
    "# delta est la dérivée par rapport zjc-1\n",
    "# calcul de la dérivée par rapport a z pour la couche de sortie\n",
    "y = np.ones(1)\n",
    "delta = derivee_cout(activations[-1][1:], y) * sigmoide_derivee(zs[-1])\n",
    "print(\"delta couche[2]:\",delta)\n",
    "# nabla_b[-1] = delta\n",
    "nabla_w[-1] = np.dot(activations[-2],delta)\n",
    "print(\"del w couche[2]:\",nabla_w[-1])\n",
    "\n",
    "        # Note that the variable l in the loop below is used a little\n",
    "        # differently to the notation in Chapter 2 of the book.  Here,\n",
    "        # l = 1 means the last layer of neurons, l = 2 is the\n",
    "        # second-last layer, and so on.  It's a renumbering of the\n",
    "        # scheme in the book, used here to take advantage of the fact\n",
    "        # that Python can use negative indices in lists.\n",
    "for l in range(2, nombre_couches):\n",
    "    z = zs[-l]\n",
    "    sp = sigmoide_derivee(z)\n",
    "    print(\"deriveeSigmoide sp:\",sp)\n",
    "    print(\"w[-l+1]:\",w[-l+1])\n",
    "    print(\"w*delta:\", np.dot(w[-l+1], delta))\n",
    "    delta = np.dot(w[-l+1], delta)[1:] * sp\n",
    "    print(\"delta nouveau:\",delta)\n",
    "# nabla_b[-l] = delta\n",
    "    nabla_w[-l] = np.dot(delta, activations[-l-1].transpose())\n",
    "    print(\"nabla_w nouveau:\",nabla_w[-l])\n",
    "print(\"nabla_w:\",nabla_w)"
   ]
  },
  {
   "cell_type": "code",
   "execution_count": 10,
   "metadata": {},
   "outputs": [
    {
     "name": "stdout",
     "output_type": "stream",
     "text": [
      "w: [array([[ 0.21403027,  1.78251735,  0.22509387],\n",
      "       [-1.35144146,  0.86884416, -0.17368114],\n",
      "       [ 1.85973457, -1.15665395,  0.12650259]]), array([[0.41329872],\n",
      "       [0.43620576],\n",
      "       [1.27539335],\n",
      "       [0.14075277]])]\n",
      "w: [array([[ 0.2141902 ,  1.78267728,  0.2252538 ],\n",
      "       [-1.35112289,  0.86916273, -0.17336257],\n",
      "       [ 1.8597925 , -1.15659601,  0.12656053]]), array([[0.41496904],\n",
      "       [0.43732988],\n",
      "       [1.27675751],\n",
      "       [0.14166181]])]\n"
     ]
    }
   ],
   "source": [
    "print(\"w:\",w)\n",
    "eta = 0.1\n",
    "w = [wc-eta*nwc for wc, nwc in zip(w, nabla_w)]\n",
    "print(\"w:\",w)"
   ]
  },
  {
   "cell_type": "code",
   "execution_count": null,
   "metadata": {
    "collapsed": true
   },
   "outputs": [],
   "source": []
  }
 ],
 "metadata": {
  "kernelspec": {
   "display_name": "Python 3",
   "language": "python",
   "name": "python3"
  },
  "language_info": {
   "codemirror_mode": {
    "name": "ipython",
    "version": 3
   },
   "file_extension": ".py",
   "mimetype": "text/x-python",
   "name": "python",
   "nbconvert_exporter": "python",
   "pygments_lexer": "ipython3",
   "version": "3.6.3"
  }
 },
 "nbformat": 4,
 "nbformat_minor": 2
}
