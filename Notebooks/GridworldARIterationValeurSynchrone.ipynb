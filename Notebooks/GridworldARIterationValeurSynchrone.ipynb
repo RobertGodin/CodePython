{
 "cells": [
  {
   "cell_type": "code",
   "execution_count": 1,
   "metadata": {},
   "outputs": [
    {
     "name": "stdout",
     "output_type": "stream",
     "text": [
      "delta: 1.0 iteration: 0\n",
      "-------------- v ---------------\n"
     ]
    },
    {
     "data": {
      "image/png": "[encoded data removed]",
      "text/plain": [
       "<Figure size 288x288 with 1 Axes>"
      ]
     },
     "metadata": {
      "needs_background": "light"
     },
     "output_type": "display_data"
    },
    {
     "name": "stdout",
     "output_type": "stream",
     "text": [
      "delta: 1.0 iteration: 1\n",
      "-------------- v ---------------\n"
     ]
    },
    {
     "data": {
      "image/png": "[encoded data removed]",
      "text/plain": [
       "<Figure size 288x288 with 1 Axes>"
      ]
     },
     "metadata": {
      "needs_background": "light"
     },
     "output_type": "display_data"
    },
    {
     "name": "stdout",
     "output_type": "stream",
     "text": [
      "delta: 1.0 iteration: 2\n",
      "-------------- v ---------------\n"
     ]
    },
    {
     "data": {
      "image/png": "[encoded data removed]",
      "text/plain": [
       "<Figure size 288x288 with 1 Axes>"
      ]
     },
     "metadata": {
      "needs_background": "light"
     },
     "output_type": "display_data"
    },
    {
     "name": "stdout",
     "output_type": "stream",
     "text": [
      "delta: 0 iteration: 3\n",
      "-------------- v ---------------\n"
     ]
    },
    {
     "data": {
      "image/png": "[encoded data removed]",
      "text/plain": [
       "<Figure size 288x288 with 1 Axes>"
      ]
     },
     "metadata": {
      "needs_background": "light"
     },
     "output_type": "display_data"
    }
   ],
   "source": [
    "# -*- coding: utf-8 -*-\n",
    "%matplotlib inline\n",
    "import numpy as np\n",
    "import random\n",
    "import matplotlib.pyplot as plt\n",
    "import matplotlib as mpl\n",
    "\n",
    "def afficher_grille(grille):\n",
    "    \"\"\" Afficher les cases de la grille.\n",
    "    grille : tableau 2d de valeurs\n",
    "    \"\"\"\n",
    "    largeur, hauteur = grille.shape\n",
    "    plt.figure(figsize=(largeur, hauteur))\n",
    "    im = plt.imshow(grille,interpolation='none',cmap = mpl.cm.binary)\n",
    "    ax = plt.gca()\n",
    "    # Graduation majeure pour les axes\n",
    "    ax.set_xticks(np.arange(0, largeur, 1))\n",
    "    ax.set_yticks(np.arange(0, hauteur, 1))\n",
    "    # Etiquettes de graduation\n",
    "    ax.set_xticklabels(np.arange(0, largeur, 1));\n",
    "    ax.set_yticklabels(np.arange(0, hauteur, 1));\n",
    "    # Graduations mineures\n",
    "    ax.set_xticks(np.arange(-.5, largeur, 1), minor=True);\n",
    "    ax.set_yticks(np.arange(-.5, hauteur, 1), minor=True);\n",
    "\n",
    "    # Quadrillage pour délimiter les pixels\n",
    "    ax.grid(which='minor', linestyle='-', linewidth=2)\n",
    "\n",
    "    for i in range(largeur):\n",
    "        for j in range(hauteur):\n",
    "            text = ax.text(j, i,round(grille[i, j],2),ha=\"center\", va=\"center\",color=\"r\")\n",
    "            \n",
    "    plt.show()\n",
    "\n",
    "gamma = 1 # taux d'escompte\n",
    "taille_grille = 4\n",
    "recompense = -1\n",
    "etats_terminaux = [[0,0], [taille_grille-1, taille_grille-1]]\n",
    "actions = [[-1, 0], [1, 0], [0, 1], [0, -1]]\n",
    "nombre_iterations = 1000\n",
    "\n",
    "def p(s,a):\n",
    "    \"\"\" Retourne l'état suivant s_prime et la récompense r\"\"\"\n",
    "    if s in etats_terminaux:\n",
    "        return s, 0\n",
    "    s_prime = np.array(s) + np.array(a)\n",
    "    r = recompense\n",
    "    # si débordement de grille retour à l'état s\n",
    "    if -1 in s_prime or taille_grille in s_prime:\n",
    "        s_prime = s\n",
    "    return s_prime, r\n",
    "\n",
    "etats = [[i, j] for i in range(taille_grille) for j in range(taille_grille)]\n",
    "\n",
    "\n",
    "def calculer_v_par_iteration_valeur(v,etats,actions,nombre_iterations,gamma,seuil_delta = 0.001):\n",
    "    \"\"\" Iteration par valeur de v par itération de l'équation optimale de Bellman \"\"\"\n",
    "    \n",
    "    for i in range(nombre_iterations):\n",
    "        delta = 0\n",
    "        for etat in etats :\n",
    "            copie_v_etat = v[etat[0],etat[1]]\n",
    "            v_s = np.zeros(len(actions))\n",
    "            for idx,action in enumerate(actions):\n",
    "                s_prime,r = p(etat,action)\n",
    "                v_s[idx] = (r + gamma * v[s_prime[0],s_prime[1]])\n",
    "            v[etat[0],etat[1]]=np.max(v_s)\n",
    "            delta =max(delta,abs(np.max(v_s)-copie_v_etat))\n",
    "        print(\"delta:\", delta, \"iteration:\",i)\n",
    "        print(\"-------------- v ---------------\")\n",
    "        afficher_grille(v)\n",
    "        \n",
    "        if(delta < seuil_delta):\n",
    "            break\n",
    "    return i,delta,v\n",
    "    \n",
    "v = np.zeros((taille_grille, taille_grille)) \n",
    "\n",
    "i,delta,v = calculer_v_par_iteration_valeur(v,etats,actions,nombre_iterations,1)\n",
    "\n",
    "\n"
   ]
  },
  {
   "cell_type": "code",
   "execution_count": null,
   "metadata": {},
   "outputs": [],
   "source": []
  }
 ],
 "metadata": {
  "kernelspec": {
   "display_name": "Python 3",
   "language": "python",
   "name": "python3"
  },
  "language_info": {
   "codemirror_mode": {
    "name": "ipython",
    "version": 3
   },
   "file_extension": ".py",
   "mimetype": "text/x-python",
   "name": "python",
   "nbconvert_exporter": "python",
   "pygments_lexer": "ipython3",
   "version": "3.7.6"
  }
 },
 "nbformat": 4,
 "nbformat_minor": 4
}
