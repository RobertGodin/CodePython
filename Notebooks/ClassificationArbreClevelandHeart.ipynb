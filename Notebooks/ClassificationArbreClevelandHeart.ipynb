{
 "cells": [
  {
   "cell_type": "code",
   "execution_count": null,
   "id": "9a56400c-2016-4754-8812-e43be74fd9dd",
   "metadata": {},
   "outputs": [],
   "source": [
    "# Exemple d'arbre de décision avec Heart\n",
    "# Importation des bibliothèques nécessaires\n",
    "from ucimlrepo import fetch_ucirepo \n",
    "from sklearn.model_selection import train_test_split\n",
    "from sklearn.naive_bayes import CategoricalNB\n",
    "from sklearn.preprocessing import LabelEncoder\n",
    "from sklearn.metrics import accuracy_score\n",
    "import numpy as np\n",
    "\n",
    "# Importation des données Mushroom du répertoire UCI\n",
    "maladie_df = fetch_ucirepo(id=45) \n",
    "# metadata \n",
    "print(maladie_coeur.metadata)\n",
    "# Extraction des variables prédictives et cible sous forme de Dataframe\n",
    "X_dataframe = maladie_df.data.features \n",
    "y_dataframe = maladie_df.data.targets "
   ]
  },
  {
   "cell_type": "code",
   "execution_count": null,
   "id": "4fa0b615-0b48-4ba8-9f6e-a3c85d308c7b",
   "metadata": {},
   "outputs": [],
   "source": [
    "numeric_col=maladie_df.select_dtypes(include=np.number).columns.to_list()\n",
    "categorical_col=maladie_df.select_dtypes(exclude=np.number).columns.to_list()"
   ]
  },
  {
   "cell_type": "code",
   "execution_count": null,
   "id": "91226e41-130b-4e36-a08b-699acc6014a2",
   "metadata": {},
   "outputs": [],
   "source": [
    "numeric_col"
   ]
  },
  {
   "cell_type": "code",
   "execution_count": null,
   "id": "d4f09812-3ddb-4de3-a188-b430f8132ad0",
   "metadata": {},
   "outputs": [],
   "source": [
    "data.describe()"
   ]
  },
  {
   "cell_type": "code",
   "execution_count": null,
   "id": "b6b416be-cc92-4dd1-b194-5ea07d445b5b",
   "metadata": {},
   "outputs": [],
   "source": [
    "data.describe(include='object')"
   ]
  },
  {
   "cell_type": "code",
   "execution_count": null,
   "id": "17a488e1-32d0-4e7c-91bf-ea99ee928034",
   "metadata": {},
   "outputs": [],
   "source": [
    "plt.figure(figsize=(12,6))\n",
    "for i,col in enumerate(data.columns):\n",
    "  plt.subplot(4,4,i+1)\n",
    "  sns.histplot(data[col],kde=True)\n",
    "  plt.tight_layout()\n",
    "  plt.xlabel(col)\n",
    "  plt.ylabel('Density')\n",
    "  plt.title(f'Distribution Plot of {col}')\n",
    "plt.show()"
   ]
  },
  {
   "cell_type": "code",
   "execution_count": null,
   "id": "26cfd09f-4b1a-443e-844e-0b0247f6b27d",
   "metadata": {},
   "outputs": [],
   "source": [
    "plt.figure(figsize=(15,10))\n",
    "for i in categorical_col:\n",
    "  plt.subplot(4,2,categorical_col.index(i)+1)\n",
    "  sns.countplot(x=data['HeartDisease'],hue=data[i])\n",
    "  plt.tight_layout()\n",
    "  plt.xlabel(i)\n",
    "  plt.ylabel('Count')\n",
    "  plt.title(f'Distribution Plot of {i}')\n",
    "plt.show()"
   ]
  },
  {
   "cell_type": "code",
   "execution_count": null,
   "id": "48ff4a87-5b15-4221-86eb-62c67ed104da",
   "metadata": {},
   "outputs": [],
   "source": [
    "le=LabelEncoder()\n",
    "for i in categorical_col:\n",
    "  data[i]=le.fit_transform(data[i])\n",
    "  data[i]=data[i].astype('int')"
   ]
  },
  {
   "cell_type": "code",
   "execution_count": null,
   "id": "c0ce71ff-3310-4d8a-a45a-d31cde0b05fb",
   "metadata": {},
   "outputs": [],
   "source": [
    "data.head()"
   ]
  },
  {
   "cell_type": "code",
   "execution_count": null,
   "id": "79571025-678d-423f-b404-0ec602df64c8",
   "metadata": {},
   "outputs": [],
   "source": [
    "x=data.drop(['HeartDisease'],axis=1)\n",
    "y=data['HeartDisease']"
   ]
  },
  {
   "cell_type": "code",
   "execution_count": null,
   "id": "c1bd1149-12dd-4a29-acb7-5996b289c258",
   "metadata": {},
   "outputs": [],
   "source": [
    "y=y.astype('int')"
   ]
  },
  {
   "cell_type": "code",
   "execution_count": null,
   "id": "caafa6d1-8e86-4ea2-8db8-9311c7a524ad",
   "metadata": {},
   "outputs": [],
   "source": [
    "x_train,x_test,y_train,y_test=train_test_split(x,y,test_size=0.2,random_state=42)"
   ]
  },
  {
   "cell_type": "code",
   "execution_count": null,
   "id": "70008ce2-25ae-48a1-a8da-a2f393890e61",
   "metadata": {},
   "outputs": [],
   "source": [
    "lr=LogisticRegression()\n",
    "lr.fit(x_train,y_train)\n",
    "cv=cross_val_score(lr,x_train,y_train,cv=5)\n",
    "print(cv)\n",
    "print(cv.mean())"
   ]
  },
  {
   "cell_type": "code",
   "execution_count": null,
   "id": "e3d4561b-12c9-47c4-a2b9-69d16bcc08e5",
   "metadata": {},
   "outputs": [],
   "source": []
  },
  {
   "cell_type": "code",
   "execution_count": null,
   "id": "18d3009a-1a03-4bf3-a289-801d06d86b8b",
   "metadata": {},
   "outputs": [],
   "source": []
  },
  {
   "cell_type": "code",
   "execution_count": null,
   "id": "0a84683a-beed-4e5b-a28d-4796566c0336",
   "metadata": {},
   "outputs": [],
   "source": []
  },
  {
   "cell_type": "code",
   "execution_count": null,
   "id": "c63f2a2a-4631-41ee-8a5f-22cf048cce5e",
   "metadata": {},
   "outputs": [],
   "source": [
    "from sklearn.tree import DecisionTreeClassifier\n",
    "from sklearn.metrics import accuracy_score, classification_report\n",
    "classifieur = DecisionTreeClassifier()\n",
    "classifieur.fit(X_encode, y_encode)\n",
    "y_pred = classifieur.predict(X_encode)\n",
    "accuracy = accuracy_score(y_encode, y_pred)\n",
    "print(\"Taux de bonnes réponses:\", accuracy)"
   ]
  }
 ],
 "metadata": {
  "kernelspec": {
   "display_name": "Python 3 (ipykernel)",
   "language": "python",
   "name": "python3"
  },
  "language_info": {
   "codemirror_mode": {
    "name": "ipython",
    "version": 3
   },
   "file_extension": ".py",
   "mimetype": "text/x-python",
   "name": "python",
   "nbconvert_exporter": "python",
   "pygments_lexer": "ipython3",
   "version": "3.12.4"
  }
 },
 "nbformat": 4,
 "nbformat_minor": 5
}
