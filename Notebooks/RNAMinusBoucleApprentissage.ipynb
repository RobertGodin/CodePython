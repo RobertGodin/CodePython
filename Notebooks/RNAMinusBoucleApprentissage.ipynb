{
 "cells": [
  {
   "cell_type": "code",
   "execution_count": 4,
   "metadata": {
    "scrolled": false
   },
   "outputs": [
    {
     "name": "stdout",
     "output_type": "stream",
     "text": [
      "Sortie Y de la couche 1: [[1.  0.5]]\n",
      "Sortie Y de la couche 2: [[0.5 0.5]]\n",
      "-------- > epoch 3:  erreur quadratique 0.5\n",
      "Sortie Y de la couche 1: [[1.24 0.44]]\n",
      "Sortie Y de la couche 2: [[0.914 0.218]]\n",
      "-------- > epoch 3:  erreur quadratique 0.054920000000000045\n",
      "Sortie Y de la couche 1: [[1.30744 0.42296]]\n",
      "Sortie Y de la couche 2: [[1.01538604 0.0795565 ]]\n",
      "-------- > epoch 3:  erreur quadratique 0.006565966841076524\n"
     ]
    }
   ],
   "source": [
    "import numpy as np\n",
    "W1=np.array([[0.5,0.1],[0.3,-0.3]])\n",
    "B1=np.array([[0.2,0.7]])\n",
    "W2=np.array([[0.7,-0.1],[0,0.2]])\n",
    "B2=np.array([[-0.2,0.5]])\n",
    "X =np.array([[1.0,1.0]])\n",
    "Y =np.array([[1.0,0.0]])\n",
    "nb_iterations = 3\n",
    "for i in range(nb_iterations):\n",
    "    X1=X\n",
    "    Y1 = B1+np.dot(X1,W1)\n",
    "    print(\"Sortie Y de la couche 1:\",Y1)\n",
    "    X2=Y1\n",
    "    Y2 = B2+np.dot(X2,W2)\n",
    "    print(\"Sortie Y de la couche 2:\",Y2)\n",
    "    Y_chapeau = Y2\n",
    "    cout_J = np.sum(np.power(Y_chapeau-Y,2))\n",
    "    print(f'-------- > epoch {cycle+1}:  erreur quadratique {cout_J}')\n",
    "    dJ_dY2 = 2*(Y2-Y)\n",
    "    dJ_dW2 = np.dot(X2.T,dJ_dY2) \n",
    "    dJ_dB2 = dJ_dY2\n",
    "    dJ_dX2 = np.dot(dJ_dY2,W2.T)\n",
    "    W2-=0.1*dJ_dW2\n",
    "    B2-=0.1*dJ_dB2\n",
    "    dJ_dY1=dJ_dX2\n",
    "    dJ_dW1 = np.dot(X1.T,dJ_dY1) \n",
    "    dJ_dB1 = dJ_dY1\n",
    "    dJ_dX1 = np.dot(dJ_dY1,W1.T)\n",
    "    W1-=0.1*dJ_dW1\n",
    "    B1-=0.1*dJ_dB1    "
   ]
  },
  {
   "cell_type": "code",
   "execution_count": null,
   "metadata": {},
   "outputs": [],
   "source": []
  }
 ],
 "metadata": {
  "kernelspec": {
   "display_name": "Python 3",
   "language": "python",
   "name": "python3"
  },
  "language_info": {
   "codemirror_mode": {
    "name": "ipython",
    "version": 3
   },
   "file_extension": ".py",
   "mimetype": "text/x-python",
   "name": "python",
   "nbconvert_exporter": "python",
   "pygments_lexer": "ipython3",
   "version": "3.7.6"
  }
 },
 "nbformat": 4,
 "nbformat_minor": 4
}
