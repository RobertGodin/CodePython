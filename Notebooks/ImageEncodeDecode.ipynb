{
 "cells": [
  {
   "cell_type": "code",
   "execution_count": 1,
   "id": "6cb33df2-b877-490f-8b77-c7d443537a95",
   "metadata": {},
   "outputs": [
    {
     "name": "stderr",
     "output_type": "stream",
     "text": [
      "C:\\Users\\vango\\anaconda3\\lib\\site-packages\\torchvision\\io\\image.py:13: UserWarning: Failed to load image Python extension: '[WinError 127] La procédure spécifiée est introuvable'If you don't plan on using image functionality from `torchvision.io`, you can ignore this warning. Otherwise, there might be something wrong with your environment. Did you have `libjpeg` or `libpng` installed before building `torchvision` from source?\n",
      "  warn(\n"
     ]
    }
   ],
   "source": [
    "\n",
    "import torch\n",
    "import torch.nn as nn\n",
    "import torch.optim as optim\n",
    "import torchvision\n",
    "from torchvision import datasets, transforms\n",
    "from torch.utils.data import DataLoader\n",
    "import matplotlib.pyplot as plt\n",
    "\n",
    "# Définir les transformations pour les données\n",
    "transform = transforms.Compose([transforms.ToTensor(), transforms.Normalize((0.5,), (0.5,))])\n",
    "\n",
    "# Charger les données MNIST\n",
    "train_dataset = datasets.MNIST(root='./data', train=True, download=True, transform=transform)\n",
    "test_dataset = datasets.MNIST(root='./data', train=False, download=True, transform=transform)\n",
    "\n",
    "train_loader = DataLoader(train_dataset, batch_size=64, shuffle=True)\n",
    "test_loader = DataLoader(test_dataset, batch_size=64, shuffle=False)\n"
   ]
  },
  {
   "cell_type": "code",
   "execution_count": 2,
   "id": "f6154323-d6bf-495f-93a7-363ce439c546",
   "metadata": {},
   "outputs": [],
   "source": [
    "class Autoencoder(nn.Module):\n",
    "    def __init__(self):\n",
    "        super(Autoencoder, self).__init__()\n",
    "        # Encoder\n",
    "        self.encoder = nn.Sequential(\n",
    "            nn.Linear(28 * 28, 128),\n",
    "            nn.ReLU(),\n",
    "            nn.Linear(128, 64),\n",
    "            nn.ReLU(),\n",
    "            nn.Linear(64, 32),\n",
    "            nn.ReLU()\n",
    "        )\n",
    "        # Decoder\n",
    "        self.decoder = nn.Sequential(\n",
    "            nn.Linear(32, 64),\n",
    "            nn.ReLU(),\n",
    "            nn.Linear(64, 128),\n",
    "            nn.ReLU(),\n",
    "            nn.Linear(128, 28 * 28),\n",
    "            nn.Sigmoid()\n",
    "        )\n",
    "\n",
    "    def forward(self, x):\n",
    "        x = self.encoder(x)\n",
    "        x = self.decoder(x)\n",
    "        return x\n",
    "\n",
    "modele = Autoencoder()\n",
    "criterion = nn.MSELoss()\n",
    "optimizer = optim.Adam(modele.parameters(), lr=0.001)\n"
   ]
  },
  {
   "cell_type": "code",
   "execution_count": 3,
   "id": "5506c3b5-c7b9-48c5-8e3e-c0f6fc097d09",
   "metadata": {},
   "outputs": [
    {
     "name": "stdout",
     "output_type": "stream",
     "text": [
      "Epoch [1/20], Loss: 0.9252\n",
      "Epoch [2/20], Loss: 0.9325\n",
      "Epoch [3/20], Loss: 0.9238\n",
      "Epoch [4/20], Loss: 0.9193\n",
      "Epoch [5/20], Loss: 0.9228\n",
      "Epoch [6/20], Loss: 0.9296\n",
      "Epoch [7/20], Loss: 0.9250\n",
      "Epoch [8/20], Loss: 0.9264\n",
      "Epoch [9/20], Loss: 0.9258\n",
      "Epoch [10/20], Loss: 0.9254\n",
      "Epoch [11/20], Loss: 0.9264\n",
      "Epoch [12/20], Loss: 0.9280\n",
      "Epoch [13/20], Loss: 0.9274\n",
      "Epoch [14/20], Loss: 0.9224\n",
      "Epoch [15/20], Loss: 0.9262\n",
      "Epoch [16/20], Loss: 0.9215\n",
      "Epoch [17/20], Loss: 0.9166\n",
      "Epoch [18/20], Loss: 0.9274\n",
      "Epoch [19/20], Loss: 0.9281\n",
      "Epoch [20/20], Loss: 0.9256\n"
     ]
    }
   ],
   "source": [
    "# Fonction d'entraînement\n",
    "def train(model, criterion, optimizer, train_loader, epochs=20):\n",
    "    for epoch in range(epochs):\n",
    "        for data in train_loader:\n",
    "            img, _ = data\n",
    "            img = img.view(img.size(0), -1)\n",
    "            optimizer.zero_grad()\n",
    "            output = model(img)\n",
    "            loss = criterion(output, img)\n",
    "            loss.backward()\n",
    "            optimizer.step()\n",
    "        print(f'Epoch [{epoch+1}/{epochs}], Loss: {loss.item():.4f}')\n",
    "\n",
    "train(model, criterion, optimizer, train_loader)\n"
   ]
  },
  {
   "cell_type": "code",
   "execution_count": 4,
   "id": "b5195b8e-e13f-4609-b2f9-295a5ee5e6a2",
   "metadata": {},
   "outputs": [
    {
     "data": {
      "image/png": "[encoded data removed]",
      "text/plain": [
       "<Figure size 2000x400 with 20 Axes>"
      ]
     },
     "metadata": {},
     "output_type": "display_data"
    }
   ],
   "source": [
    "%matplotlib inline\n",
    "import numpy as np\n",
    "# Fonction de test\n",
    "def test(model, test_loader):\n",
    "    model.eval()\n",
    "    with torch.no_grad():\n",
    "        for data in test_loader:\n",
    "            img, _ = data\n",
    "            img = img.view(img.size(0), -1)\n",
    "            output = model(img)\n",
    "            # Afficher les images originales et reconstruites\n",
    "            img = img.view(img.size(0), 1, 28, 28)\n",
    "            output = output.view(output.size(0), 1, 28, 28)\n",
    "            break\n",
    "    return img, output\n",
    "\n",
    "originals, reconstructions = test(model, test_loader)\n",
    "\n",
    "# Affichage des images\n",
    "def imshow(img, title):\n",
    "    npimg = img.numpy()\n",
    "    plt.imshow(np.transpose(npimg, (1, 2, 0)), cmap='gray')\n",
    "    plt.title(title)\n",
    "   \n",
    "# Affichage des résultats\n",
    "n = 10  # Nombre d'images à afficher\n",
    "plt.figure(figsize=(20, 4))\n",
    "for i in range(n):\n",
    "    # Afficher les images originales\n",
    "    ax = plt.subplot(2, n, i + 1)\n",
    "    imshow(originals[i], \"Original\")\n",
    "    ax.get_xaxis().set_visible(False)\n",
    "    ax.get_yaxis().set_visible(False)\n",
    "    \n",
    "    # Afficher les images reconstruites\n",
    "    ax = plt.subplot(2, n, i + 1 + n)\n",
    "    imshow(reconstructions[i], \"Reconstructed\")\n",
    "    ax.get_xaxis().set_visible(False)\n",
    "    ax.get_yaxis().set_visible(False)\n",
    "plt.show()"
   ]
  },
  {
   "cell_type": "code",
   "execution_count": null,
   "id": "4a3c0398-12c2-4267-b42a-e6a687343f05",
   "metadata": {},
   "outputs": [],
   "source": []
  }
 ],
 "metadata": {
  "kernelspec": {
   "display_name": "Python 3 (ipykernel)",
   "language": "python",
   "name": "python3"
  },
  "language_info": {
   "codemirror_mode": {
    "name": "ipython",
    "version": 3
   },
   "file_extension": ".py",
   "mimetype": "text/x-python",
   "name": "python",
   "nbconvert_exporter": "python",
   "pygments_lexer": "ipython3",
   "version": "3.8.8"
  }
 },
 "nbformat": 4,
 "nbformat_minor": 5
}
