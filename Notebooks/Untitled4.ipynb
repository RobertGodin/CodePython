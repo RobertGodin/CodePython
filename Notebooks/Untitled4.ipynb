{
 "cells": [
  {
   "cell_type": "code",
   "execution_count": 1,
   "metadata": {},
   "outputs": [
    {
     "name": "stderr",
     "output_type": "stream",
     "text": [
      "C:\\Users\\Robert\\anaconda3\\lib\\site-packages\\torch\\nn\\modules\\container.py:100: UserWarning: Implicit dimension choice for log_softmax has been deprecated. Change the call to include dim=X as an argument.\n",
      "  input = module(input)\n"
     ]
    },
    {
     "name": "stdout",
     "output_type": "stream",
     "text": [
      "-------- > epoch 1:  coût moyen entraînement = 0.8130903840065002\n",
      "-------- > epoch 2:  coût moyen entraînement = 0.3626430928707123\n",
      "-------- > epoch 3:  coût moyen entraînement = 0.31781482696533203\n",
      "-------- > epoch 4:  coût moyen entraînement = 0.2931687533855438\n",
      "-------- > epoch 5:  coût moyen entraînement = 0.2731422185897827\n",
      "-------- > epoch 6:  coût moyen entraînement = 0.25443235039711\n",
      "-------- > epoch 7:  coût moyen entraînement = 0.23734065890312195\n",
      "-------- > epoch 8:  coût moyen entraînement = 0.22232156991958618\n",
      "-------- > epoch 9:  coût moyen entraînement = 0.20866256952285767\n",
      "-------- > epoch 10:  coût moyen entraînement = 0.19608516991138458\n",
      "-------- > epoch 11:  coût moyen entraînement = 0.18508067727088928\n",
      "-------- > epoch 12:  coût moyen entraînement = 0.17563438415527344\n",
      "-------- > epoch 13:  coût moyen entraînement = 0.16687780618667603\n",
      "-------- > epoch 14:  coût moyen entraînement = 0.15899011492729187\n",
      "-------- > epoch 15:  coût moyen entraînement = 0.15282943844795227\n",
      "-------- > epoch 16:  coût moyen entraînement = 0.14642123878002167\n",
      "-------- > epoch 17:  coût moyen entraînement = 0.14060960710048676\n",
      "-------- > epoch 18:  coût moyen entraînement = 0.1357327401638031\n",
      "-------- > epoch 19:  coût moyen entraînement = 0.13119329512119293\n",
      "-------- > epoch 20:  coût moyen entraînement = 0.12706878781318665\n",
      "-------- > epoch 21:  coût moyen entraînement = 0.12332037836313248\n",
      "-------- > epoch 22:  coût moyen entraînement = 0.11956567317247391\n",
      "-------- > epoch 23:  coût moyen entraînement = 0.11600257456302643\n",
      "-------- > epoch 24:  coût moyen entraînement = 0.11309025436639786\n",
      "-------- > epoch 25:  coût moyen entraînement = 0.1100986897945404\n",
      "-------- > epoch 26:  coût moyen entraînement = 0.1074361503124237\n",
      "-------- > epoch 27:  coût moyen entraînement = 0.10472415387630463\n",
      "-------- > epoch 28:  coût moyen entraînement = 0.1022028997540474\n",
      "-------- > epoch 29:  coût moyen entraînement = 0.10026175528764725\n",
      "-------- > epoch 30:  coût moyen entraînement = 0.09782709181308746\n"
     ]
    }
   ],
   "source": [
    "# -*- coding: utf-8 -*-\n",
    "\"\"\"\n",
    "Exemple simple de MNIST avec PyTorch\n",
    "\"\"\"\n",
    "\n",
    "# Fonction J d'entropie croisée\n",
    "import torch.nn.functional as F\n",
    "fonction_cout = F.cross_entropy\n",
    "\n",
    "from torch import nn\n",
    "# Définition de l'architecture du RNA\n",
    "modele = nn.Sequential(\n",
    "    nn.Linear(784, 30),\n",
    "    nn.ReLU(),\n",
    "    nn.Linear(30, 10),\n",
    "    nn.LogSoftmax()\n",
    ")\n",
    "    \n",
    "from torch import optim\n",
    "optimiseur = optim.SGD(modele.parameters(), lr=0.05)\n",
    "\n",
    "# Chargement des données de MNIST\n",
    "import pickle, gzip\n",
    "fichier_donnees = gzip.open(r\"mnist.pkl.gz\", 'rb')\n",
    "((donnees_ent_X, donnees_ent_Y),(donnees_valid_X, donnees_valid_Y),(donnees_test_X,donnees_test_Y)) = pickle.load(fichier_donnees, encoding=\"latin-1\")\n",
    "fichier_donnees.close()\n",
    "\n",
    "# Conversion des données en type toch.Tensor\n",
    "import torch\n",
    "donnees_ent_X, donnees_ent_Y, donnees_test_X,donnees_test_Y = map(torch.tensor, (donnees_ent_X, donnees_ent_Y, donnees_test_X,donnees_test_Y))\n",
    "\n",
    "# Création des objets DataLoader pour itérer par lot\n",
    "from torch.utils.data import TensorDataset\n",
    "from torch.utils.data import DataLoader\n",
    "ds_ent = TensorDataset(donnees_ent_X, donnees_ent_Y)\n",
    "dl_ent = DataLoader(ds_ent, batch_size=100, shuffle=True)\n",
    "\n",
    "nb_epochs = 30\n",
    "# Boucle d'apprentissage\n",
    "for epoch in range(nb_epochs):\n",
    "    cout_total_ent = 0 \n",
    "    \n",
    "    # Boucle d'apprentissage par mini-lot pour une epoch\n",
    "    for lot_X, lot_Y in dl_ent:\n",
    "        optimiseur.zero_grad() # Remettre les dérivées à zéro\n",
    "        lot_Y_predictions = modele(lot_X) # Appel de la méthode forward\n",
    "        cout = fonction_cout(lot_Y_predictions, lot_Y)\n",
    "        cout_total_ent +=cout\n",
    "        cout.backward() # Calcul des dérivées par rétropropagation\n",
    "        optimiseur.step() # Mise à jour des paramètres\n",
    "        \n",
    "    cout_moyen_ent = cout_total_ent/len(dl_ent)\n",
    "    print(f'-------- > epoch {epoch+1}:  coût moyen entraînement = {cout_moyen_ent}')"
   ]
  },
  {
   "cell_type": "code",
   "execution_count": null,
   "metadata": {},
   "outputs": [],
   "source": []
  }
 ],
 "metadata": {
  "kernelspec": {
   "display_name": "Python 3",
   "language": "python",
   "name": "python3"
  },
  "language_info": {
   "codemirror_mode": {
    "name": "ipython",
    "version": 3
   },
   "file_extension": ".py",
   "mimetype": "text/x-python",
   "name": "python",
   "nbconvert_exporter": "python",
   "pygments_lexer": "ipython3",
   "version": "3.7.6"
  }
 },
 "nbformat": 4,
 "nbformat_minor": 4
}
