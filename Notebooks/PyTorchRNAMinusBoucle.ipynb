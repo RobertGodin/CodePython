{
 "cells": [
  {
   "cell_type": "code",
   "execution_count": 5,
   "metadata": {},
   "outputs": [
    {
     "name": "stdout",
     "output_type": "stream",
     "text": [
      "Sortie Y de la couche 1: tensor([[1.0000, 0.5000]], grad_fn=<AddBackward0>)\n",
      "Sortie Y de la couche 2: tensor([[0.5000, 0.5000]], grad_fn=<AddBackward0>)\n",
      "-------- > epoch 1:  erreur quadratique 0.5\n",
      "Sortie Y de la couche 1: tensor([[1.2400, 0.4400]], grad_fn=<AddBackward0>)\n",
      "Sortie Y de la couche 2: tensor([[0.9140, 0.2180]], grad_fn=<AddBackward0>)\n",
      "-------- > epoch 2:  erreur quadratique 0.05491999164223671\n",
      "Sortie Y de la couche 1: tensor([[1.3074, 0.4230]], grad_fn=<AddBackward0>)\n",
      "Sortie Y de la couche 2: tensor([[1.0154, 0.0796]], grad_fn=<AddBackward0>)\n",
      "-------- > epoch 3:  erreur quadratique 0.0065659694373607635\n"
     ]
    }
   ],
   "source": [
    "import torch\n",
    "W1=torch.tensor([[0.5,0.1],[0.3,-0.3]], requires_grad=True)\n",
    "B1=torch.tensor([[0.2,0.7]], requires_grad=True)\n",
    "W2=torch.tensor([[0.7,-0.1],[0,0.2]], requires_grad=True)\n",
    "B2=torch.tensor([[-0.2,0.5]], requires_grad=True)\n",
    "X = torch.tensor([[1.0,1.0]])\n",
    "Y = torch.tensor([[1.0,0.0]])\n",
    "nb_epochs = 3\n",
    "\n",
    "for cycle in range(nb_epochs):\n",
    "    Y1 = B1+torch.matmul(X,W1)\n",
    "    print(\"Sortie Y de la couche 1:\",Y1)\n",
    "    Y2 = B2+torch.matmul(Y1,W2)\n",
    "    print(\"Sortie Y de la couche 2:\",Y2)\n",
    "    cout_J = (Y2 - Y).pow(2).sum()\n",
    "    print(f'-------- > epoch {cycle+1}:  erreur quadratique {cout_J}')\n",
    "    \n",
    "    cout_J.backward()\n",
    "    with torch.no_grad():\n",
    "        B2 -= 0.1 * B2.grad\n",
    "        W2 -= 0.1 * W2.grad\n",
    "        B1 -= 0.1 * B1.grad\n",
    "        W1 -= 0.1 * W1.grad\n",
    "    W2.grad.zero_()\n",
    "    B2.grad.zero_()\n",
    "    W1.grad.zero_()\n",
    "    B1.grad.zero_()"
   ]
  },
  {
   "cell_type": "code",
   "execution_count": null,
   "metadata": {},
   "outputs": [],
   "source": []
  }
 ],
 "metadata": {
  "kernelspec": {
   "display_name": "Python 3",
   "language": "python",
   "name": "python3"
  },
  "language_info": {
   "codemirror_mode": {
    "name": "ipython",
    "version": 3
   },
   "file_extension": ".py",
   "mimetype": "text/x-python",
   "name": "python",
   "nbconvert_exporter": "python",
   "pygments_lexer": "ipython3",
   "version": "3.7.6"
  }
 },
 "nbformat": 4,
 "nbformat_minor": 4
}
