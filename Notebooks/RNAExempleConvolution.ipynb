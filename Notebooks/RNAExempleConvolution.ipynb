{
 "cells": [
  {
   "cell_type": "code",
   "execution_count": 13,
   "metadata": {},
   "outputs": [
    {
     "name": "stdout",
     "output_type": "stream",
     "text": [
      "-------------- Pixels de l'image X --------------\n"
     ]
    },
    {
     "data": {
      "image/png": "[encoded data removed]",
      "text/plain": [
       "<matplotlib.figure.Figure at 0x13e57aab0f0>"
      ]
     },
     "metadata": {
      "needs_background": "light"
     },
     "output_type": "display_data"
    },
    {
     "name": "stdout",
     "output_type": "stream",
     "text": [
      "-------------- Pixels du filtre F --------------\n"
     ]
    },
    {
     "data": {
      "image/png": "[encoded data removed]",
      "text/plain": [
       "<matplotlib.figure.Figure at 0x13e57bcccf8>"
      ]
     },
     "metadata": {
      "needs_background": "light"
     },
     "output_type": "display_data"
    },
    {
     "name": "stdout",
     "output_type": "stream",
     "text": [
      "-------------- Pixels du résultat de la convolution Y --------------\n"
     ]
    },
    {
     "data": {
      "image/png": "[encoded data removed]",
      "text/plain": [
       "<matplotlib.figure.Figure at 0x13e57aad860>"
      ]
     },
     "metadata": {
      "needs_background": "light"
     },
     "output_type": "display_data"
    }
   ],
   "source": [
    "%matplotlib inline\n",
    "# -*- coding: utf-8 -*-\n",
    "import numpy as np\n",
    "import matplotlib.pyplot as plt\n",
    "import matplotlib as mpl\n",
    "\n",
    "def afficher_pixels(image):\n",
    "    \"\"\" Afficher les pixels d'une image.\n",
    "    image : tableau 2d de pixels\n",
    "    \"\"\"\n",
    "    largeur, hauteur = image.shape\n",
    "    plt.figure(figsize=(largeur, hauteur))\n",
    "    im = plt.imshow(image,interpolation='none',cmap = mpl.cm.binary)\n",
    "    ax = plt.gca()\n",
    "    # Graduation majeure pour les axes\n",
    "    ax.set_xticks(np.arange(0, largeur, 1))\n",
    "    ax.set_yticks(np.arange(0, hauteur, 1))\n",
    "    # Etiquettes de graduation\n",
    "    ax.set_xticklabels(np.arange(0, largeur, 1));\n",
    "    ax.set_yticklabels(np.arange(0, hauteur, 1));\n",
    "    # Graduations mineures\n",
    "    ax.set_xticks(np.arange(-.5, largeur, 1), minor=True);\n",
    "    ax.set_yticks(np.arange(-.5, hauteur, 1), minor=True);\n",
    "\n",
    "    # Quadrillage pour délimiter les pixels\n",
    "    ax.grid(which='minor', color='r', linestyle='-', linewidth=2)\n",
    "\n",
    "    for i in range(largeur):\n",
    "        for j in range(hauteur):\n",
    "            text = ax.text(j, i,image[i, j],ha=\"center\", va=\"center\", color=\"g\",fontsize=\"xx-large\")\n",
    "            \n",
    "    plt.show()\n",
    "    \n",
    "X =np.array([[0,0,0,0,0,0],[0,0,0,0,0,0],[0,1,1,1,1,0],[0,0,0,0,1,0],[0,0,0,0,1,0],[0,0,0,0,0,0]])\n",
    "    \n",
    "print(\"-------------- Pixels de l'image X --------------\")        \n",
    "afficher_pixels(X)\n",
    "\n",
    "F =np.array([[0,0,0],[1,1,1],[0,0,0]])\n",
    "print(\"-------------- Pixels du filtre F --------------\")\n",
    "afficher_pixels(F)\n",
    "\n",
    "largeur_Y = X.shape[0]-F.shape[0]+1\n",
    "hauteur_Y = X.shape[1]-F.shape[1]+1\n",
    "Y=np.zeros((largeur_Y,hauteur_Y))\n",
    "for i in range(largeur_Y):\n",
    "    for j in range(hauteur_Y):\n",
    "        Y[i,j] = np.sum(X[i:i+filtre.shape[0],j:j+F.shape[1]]*F)\n",
    "print(\"-------------- Pixels du résultat de la convolution Y --------------\")\n",
    "afficher_pixels(Y)"
   ]
  },
  {
   "cell_type": "code",
   "execution_count": null,
   "metadata": {
    "collapsed": true
   },
   "outputs": [],
   "source": []
  }
 ],
 "metadata": {
  "kernelspec": {
   "display_name": "Python 3",
   "language": "python",
   "name": "python3"
  },
  "language_info": {
   "codemirror_mode": {
    "name": "ipython",
    "version": 3
   },
   "file_extension": ".py",
   "mimetype": "text/x-python",
   "name": "python",
   "nbconvert_exporter": "python",
   "pygments_lexer": "ipython3",
   "version": "3.7.6"
  }
 },
 "nbformat": 4,
 "nbformat_minor": 2
}
