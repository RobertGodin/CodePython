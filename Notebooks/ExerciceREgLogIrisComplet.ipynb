{
 "cells": [
  {
   "cell_type": "code",
   "execution_count": 8,
   "id": "1e3341fc-5f6c-4c9f-832a-3ea583c73154",
   "metadata": {
    "scrolled": true
   },
   "outputs": [
    {
     "name": "stdout",
     "output_type": "stream",
     "text": [
      "Taux de bonnes réponses pour test : 0.9736842105263158\n",
      "Matrice de confusion:\n",
      "[[13  0  0]\n",
      " [ 0 15  1]\n",
      " [ 0  0  9]]\n"
     ]
    },
    {
     "data": {
      "image/png": "[encoded data removed]",
      "text/plain": [
       "<Figure size 640x480 with 2 Axes>"
      ]
     },
     "metadata": {},
     "output_type": "display_data"
    },
    {
     "name": "stdout",
     "output_type": "stream",
     "text": [
      "Rapport de classification:\n",
      "              precision    recall  f1-score   support\n",
      "\n",
      "           0       1.00      1.00      1.00        13\n",
      "           1       1.00      0.94      0.97        16\n",
      "           2       0.90      1.00      0.95         9\n",
      "\n",
      "    accuracy                           0.97        38\n",
      "   macro avg       0.97      0.98      0.97        38\n",
      "weighted avg       0.98      0.97      0.97        38\n",
      "\n"
     ]
    }
   ],
   "source": [
    "# Régression logistique multi-classe à partir de la collection Iris\n",
    "# X: longueur et largeur de sépale, longueur et largeur pétales \n",
    "# y: setosa, versicolor,virginica\n",
    "# 25% des données pour test\n",
    "%matplotlib inline\n",
    "import matplotlib.pyplot as plt\n",
    "import numpy as np\n",
    "from sklearn import datasets\n",
    "from sklearn.linear_model import LogisticRegression\n",
    "from sklearn.metrics import accuracy_score, confusion_matrix, ConfusionMatrixDisplay, classification_report\n",
    "\n",
    "# Charger les données\n",
    "iris = datasets.load_iris()\n",
    "iris_X = iris.data # les deux colonnes longueur et largeur de sépale\n",
    "iris_y = iris.target\n",
    "\n",
    "# Séparation des données en ensembles d'entraînement et de test\n",
    "from sklearn.model_selection import train_test_split\n",
    "X_ent, X_test, y_ent, y_test = train_test_split(iris_X, iris_y, test_size=0.25, random_state=0)\n",
    "\n",
    "# Création du classifieur par régression logistique\n",
    "classifieur = LogisticRegression()\n",
    "\n",
    "# Entraînement du modèle sur les données d'entraînement\n",
    "classifieur.fit(X_ent, y_ent)\n",
    "\n",
    "# Prédiction des étiquettes pour les données de test\n",
    "y_pred = classifieur.predict(X_test)\n",
    "\n",
    "# Évaluation du modèle avec les données de test\n",
    "print(\"Taux de bonnes réponses pour test :\", accuracy_score(y_test, y_pred))\n",
    "print(\"Matrice de confusion:\")\n",
    "print(confusion_matrix(y_test,y_pred))\n",
    "cm = confusion_matrix(y_test, y_pred, labels=classifieur.classes_)\n",
    "disp = ConfusionMatrixDisplay(confusion_matrix=cm,\n",
    "                              display_labels=classifieur.classes_)\n",
    "disp.plot()\n",
    "plt.show()\n",
    "print(\"Rapport de classification:\")\n",
    "print(classification_report(y_test,y_pred))"
   ]
  },
  {
   "cell_type": "code",
   "execution_count": 19,
   "id": "641c01bb-6ff2-4b8c-9759-f50986809a61",
   "metadata": {},
   "outputs": [
    {
     "name": "stdout",
     "output_type": "stream",
     "text": [
      "[2 1 0 2 0 2 0 1 1 1 2 1 1 1 1 0 1 1 0 0 2 1 0 0 2 0 0 1 1 0 2 1 0 2 2 1 0\n",
      " 1]\n"
     ]
    }
   ],
   "source": [
    "print(y_test)"
   ]
  },
  {
   "cell_type": "code",
   "execution_count": 20,
   "id": "cb8f2dbe-d3a1-4d9d-9560-68d9b349b672",
   "metadata": {},
   "outputs": [
    {
     "name": "stdout",
     "output_type": "stream",
     "text": [
      "[2 1 0 2 0 2 0 1 1 1 2 1 1 1 1 0 1 1 0 0 2 1 0 0 2 0 0 1 1 0 2 1 0 2 2 1 0\n",
      " 2]\n"
     ]
    }
   ],
   "source": [
    "print(y_pred)"
   ]
  }
 ],
 "metadata": {
  "kernelspec": {
   "display_name": "Python 3 (ipykernel)",
   "language": "python",
   "name": "python3"
  },
  "language_info": {
   "codemirror_mode": {
    "name": "ipython",
    "version": 3
   },
   "file_extension": ".py",
   "mimetype": "text/x-python",
   "name": "python",
   "nbconvert_exporter": "python",
   "pygments_lexer": "ipython3",
   "version": "3.12.4"
  }
 },
 "nbformat": 4,
 "nbformat_minor": 5
}
