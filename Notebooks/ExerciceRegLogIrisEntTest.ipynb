{
 "cells": [
  {
   "cell_type": "code",
   "execution_count": 5,
   "id": "93f3b409-2a5d-47c1-9997-595f7a03259b",
   "metadata": {},
   "outputs": [
    {
     "name": "stdout",
     "output_type": "stream",
     "text": [
      "Taux de bonnes résponses pour test : 1.0\n"
     ]
    }
   ],
   "source": [
    "# Régression logistique à partir de la collection Iris\n",
    "# X: longueur et largeur de sépale, y: setosa ou non\n",
    "# 20% des données pour test\n",
    "\n",
    "%matplotlib inline\n",
    "import matplotlib.pyplot as plt\n",
    "import numpy as np\n",
    "from sklearn import datasets, linear_model\n",
    "from sklearn.linear_model import LogisticRegression\n",
    "from sklearn.metrics import accuracy_score\n",
    "\n",
    "# Charger les données\n",
    "iris = datasets.load_iris()\n",
    "iris_X = iris.data[:,:2] # les deux colonnes longueur et largeur de sépale\n",
    "iris_y = iris.target\n",
    "iris_y_setosa = (iris_y==0).astype(int) # setosa ou non\n",
    "\n",
    "# Séparation des données en ensembles d'entraînement et de test\n",
    "from sklearn.model_selection import train_test_split\n",
    "X_ent, X_test, y_ent, y_test = train_test_split(iris_X, iris_y_setosa, test_size=0.25, random_state=0)\n",
    "\n",
    "# Création du classifieur par régression logistique\n",
    "classifieur = LogisticRegression()\n",
    "\n",
    "# Entraînement du modèle sur les données d'entraînement\n",
    "classifieur.fit(X_ent, y_ent)\n",
    "\n",
    "# Prédiction des étiquettes pour les données de test\n",
    "y_pred = classifieur.predict(X_test)\n",
    "\n",
    "# Évaluation de la précision du modèle\n",
    "accuracy = accuracy_score(y_test, y_pred)\n",
    "print(\"Taux de bonnes résponses pour test :\", accuracy_score(y_test, y_pred))"
   ]
  },
  {
   "cell_type": "code",
   "execution_count": null,
   "id": "e969e5bc-f26d-4c6e-9132-84c7165d76c1",
   "metadata": {},
   "outputs": [],
   "source": []
  }
 ],
 "metadata": {
  "kernelspec": {
   "display_name": "Python 3 (ipykernel)",
   "language": "python",
   "name": "python3"
  },
  "language_info": {
   "codemirror_mode": {
    "name": "ipython",
    "version": 3
   },
   "file_extension": ".py",
   "mimetype": "text/x-python",
   "name": "python",
   "nbconvert_exporter": "python",
   "pygments_lexer": "ipython3",
   "version": "3.12.4"
  }
 },
 "nbformat": 4,
 "nbformat_minor": 5
}
