{
 "cells": [
  {
   "cell_type": "markdown",
   "metadata": {
    "colab_type": "text",
    "id": "view-in-github"
   },
   "source": [
    "<a href=\"https://colab.research.google.com/github/RobertGodin/CodePython/blob/master/Notebooks/LLM/ExempleReglageFinDistilBertTweetLORA.ipynb\" target=\"_parent\"><img src=\"https://colab.research.google.com/assets/colab-badge.svg\" alt=\"Open In Colab\"/></a>"
   ]
  },
  {
   "cell_type": "code",
   "execution_count": 1,
   "metadata": {
    "colab": {
     "base_uri": "https://localhost:8080/"
    },
    "id": "xV1IMktIEkWP",
    "outputId": "dbc30279-154f-4861-9bc6-8548e2e79b16"
   },
   "outputs": [
    {
     "name": "stdout",
     "output_type": "stream",
     "text": [
      "Requirement already satisfied: numpy in c:\\users\\vango\\anaconda3b\\envs\\pytorch_env\\lib\\site-packages (1.26.4)\n",
      "Note: you may need to restart the kernel to use updated packages.\n",
      "Requirement already satisfied: pandas in c:\\users\\vango\\anaconda3b\\envs\\pytorch_env\\lib\\site-packages (2.2.2)\n",
      "Requirement already satisfied: numpy>=1.26.0 in c:\\users\\vango\\anaconda3b\\envs\\pytorch_env\\lib\\site-packages (from pandas) (1.26.4)\n",
      "Requirement already satisfied: python-dateutil>=2.8.2 in c:\\users\\vango\\anaconda3b\\envs\\pytorch_env\\lib\\site-packages (from pandas) (2.9.0.post0)\n",
      "Requirement already satisfied: pytz>=2020.1 in c:\\users\\vango\\anaconda3b\\envs\\pytorch_env\\lib\\site-packages (from pandas) (2024.1)\n",
      "Requirement already satisfied: tzdata>=2022.7 in c:\\users\\vango\\anaconda3b\\envs\\pytorch_env\\lib\\site-packages (from pandas) (2023.3)\n",
      "Requirement already satisfied: six>=1.5 in c:\\users\\vango\\anaconda3b\\envs\\pytorch_env\\lib\\site-packages (from python-dateutil>=2.8.2->pandas) (1.16.0)\n",
      "Note: you may need to restart the kernel to use updated packages.\n",
      "Requirement already satisfied: transformers in c:\\users\\vango\\anaconda3b\\envs\\pytorch_env\\lib\\site-packages (4.45.2)\n",
      "Requirement already satisfied: filelock in c:\\users\\vango\\anaconda3b\\envs\\pytorch_env\\lib\\site-packages (from transformers) (3.13.1)\n",
      "Requirement already satisfied: huggingface-hub<1.0,>=0.23.2 in c:\\users\\vango\\anaconda3b\\envs\\pytorch_env\\lib\\site-packages (from transformers) (0.26.5)\n",
      "Requirement already satisfied: numpy>=1.17 in c:\\users\\vango\\anaconda3b\\envs\\pytorch_env\\lib\\site-packages (from transformers) (1.26.4)\n",
      "Requirement already satisfied: packaging>=20.0 in c:\\users\\vango\\anaconda3b\\envs\\pytorch_env\\lib\\site-packages (from transformers) (24.1)\n",
      "Requirement already satisfied: pyyaml>=5.1 in c:\\users\\vango\\anaconda3b\\envs\\pytorch_env\\lib\\site-packages (from transformers) (6.0.1)\n",
      "Requirement already satisfied: regex!=2019.12.17 in c:\\users\\vango\\anaconda3b\\envs\\pytorch_env\\lib\\site-packages (from transformers) (2024.9.11)\n",
      "Requirement already satisfied: requests in c:\\users\\vango\\anaconda3b\\envs\\pytorch_env\\lib\\site-packages (from transformers) (2.32.3)\n",
      "Requirement already satisfied: tokenizers<0.21,>=0.20 in c:\\users\\vango\\anaconda3b\\envs\\pytorch_env\\lib\\site-packages (from transformers) (0.20.1)\n",
      "Requirement already satisfied: safetensors>=0.4.1 in c:\\users\\vango\\anaconda3b\\envs\\pytorch_env\\lib\\site-packages (from transformers) (0.4.5)\n",
      "Requirement already satisfied: tqdm>=4.27 in c:\\users\\vango\\anaconda3b\\envs\\pytorch_env\\lib\\site-packages (from transformers) (4.66.5)\n",
      "Requirement already satisfied: fsspec>=2023.5.0 in c:\\users\\vango\\anaconda3b\\envs\\pytorch_env\\lib\\site-packages (from huggingface-hub<1.0,>=0.23.2->transformers) (2024.3.1)\n",
      "Requirement already satisfied: typing-extensions>=3.7.4.3 in c:\\users\\vango\\anaconda3b\\envs\\pytorch_env\\lib\\site-packages (from huggingface-hub<1.0,>=0.23.2->transformers) (4.11.0)\n",
      "Requirement already satisfied: colorama in c:\\users\\vango\\anaconda3b\\envs\\pytorch_env\\lib\\site-packages (from tqdm>=4.27->transformers) (0.4.6)\n",
      "Requirement already satisfied: charset-normalizer<4,>=2 in c:\\users\\vango\\anaconda3b\\envs\\pytorch_env\\lib\\site-packages (from requests->transformers) (3.3.2)\n",
      "Requirement already satisfied: idna<4,>=2.5 in c:\\users\\vango\\anaconda3b\\envs\\pytorch_env\\lib\\site-packages (from requests->transformers) (3.7)\n",
      "Requirement already satisfied: urllib3<3,>=1.21.1 in c:\\users\\vango\\anaconda3b\\envs\\pytorch_env\\lib\\site-packages (from requests->transformers) (2.2.2)\n",
      "Requirement already satisfied: certifi>=2017.4.17 in c:\\users\\vango\\anaconda3b\\envs\\pytorch_env\\lib\\site-packages (from requests->transformers) (2024.8.30)\n",
      "Note: you may need to restart the kernel to use updated packages.\n",
      "Requirement already satisfied: datasets in c:\\users\\vango\\anaconda3b\\envs\\pytorch_env\\lib\\site-packages (2.19.1)\n",
      "Requirement already satisfied: filelock in c:\\users\\vango\\anaconda3b\\envs\\pytorch_env\\lib\\site-packages (from datasets) (3.13.1)\n",
      "Requirement already satisfied: numpy>=1.17 in c:\\users\\vango\\anaconda3b\\envs\\pytorch_env\\lib\\site-packages (from datasets) (1.26.4)\n",
      "Requirement already satisfied: pyarrow>=12.0.0 in c:\\users\\vango\\anaconda3b\\envs\\pytorch_env\\lib\\site-packages (from datasets) (16.1.0)\n",
      "Requirement already satisfied: dill<0.3.9,>=0.3.0 in c:\\users\\vango\\anaconda3b\\envs\\pytorch_env\\lib\\site-packages (from datasets) (0.3.8)\n",
      "Requirement already satisfied: pandas in c:\\users\\vango\\anaconda3b\\envs\\pytorch_env\\lib\\site-packages (from datasets) (2.2.2)\n",
      "Requirement already satisfied: requests>=2.19.0 in c:\\users\\vango\\anaconda3b\\envs\\pytorch_env\\lib\\site-packages (from datasets) (2.32.3)\n",
      "Requirement already satisfied: tqdm>=4.62.1 in c:\\users\\vango\\anaconda3b\\envs\\pytorch_env\\lib\\site-packages (from datasets) (4.66.5)\n",
      "Requirement already satisfied: xxhash in c:\\users\\vango\\anaconda3b\\envs\\pytorch_env\\lib\\site-packages (from datasets) (2.0.2)\n",
      "Requirement already satisfied: multiprocess in c:\\users\\vango\\anaconda3b\\envs\\pytorch_env\\lib\\site-packages (from datasets) (0.70.15)\n",
      "Requirement already satisfied: fsspec<=2024.3.1,>=2023.1.0 in c:\\users\\vango\\anaconda3b\\envs\\pytorch_env\\lib\\site-packages (from fsspec[http]<=2024.3.1,>=2023.1.0->datasets) (2024.3.1)\n",
      "Requirement already satisfied: aiohttp in c:\\users\\vango\\anaconda3b\\envs\\pytorch_env\\lib\\site-packages (from datasets) (3.10.5)\n",
      "Requirement already satisfied: huggingface-hub>=0.21.2 in c:\\users\\vango\\anaconda3b\\envs\\pytorch_env\\lib\\site-packages (from datasets) (0.26.5)\n",
      "Requirement already satisfied: packaging in c:\\users\\vango\\anaconda3b\\envs\\pytorch_env\\lib\\site-packages (from datasets) (24.1)\n",
      "Requirement already satisfied: pyyaml>=5.1 in c:\\users\\vango\\anaconda3b\\envs\\pytorch_env\\lib\\site-packages (from datasets) (6.0.1)\n",
      "Requirement already satisfied: aiohappyeyeballs>=2.3.0 in c:\\users\\vango\\anaconda3b\\envs\\pytorch_env\\lib\\site-packages (from aiohttp->datasets) (2.4.0)\n",
      "Requirement already satisfied: aiosignal>=1.1.2 in c:\\users\\vango\\anaconda3b\\envs\\pytorch_env\\lib\\site-packages (from aiohttp->datasets) (1.2.0)\n",
      "Requirement already satisfied: attrs>=17.3.0 in c:\\users\\vango\\anaconda3b\\envs\\pytorch_env\\lib\\site-packages (from aiohttp->datasets) (23.1.0)\n",
      "Requirement already satisfied: frozenlist>=1.1.1 in c:\\users\\vango\\anaconda3b\\envs\\pytorch_env\\lib\\site-packages (from aiohttp->datasets) (1.5.0)\n",
      "Requirement already satisfied: multidict<7.0,>=4.5 in c:\\users\\vango\\anaconda3b\\envs\\pytorch_env\\lib\\site-packages (from aiohttp->datasets) (6.1.0)\n",
      "Requirement already satisfied: yarl<2.0,>=1.0 in c:\\users\\vango\\anaconda3b\\envs\\pytorch_env\\lib\\site-packages (from aiohttp->datasets) (1.11.0)\n",
      "Requirement already satisfied: typing-extensions>=3.7.4.3 in c:\\users\\vango\\anaconda3b\\envs\\pytorch_env\\lib\\site-packages (from huggingface-hub>=0.21.2->datasets) (4.11.0)\n",
      "Requirement already satisfied: charset-normalizer<4,>=2 in c:\\users\\vango\\anaconda3b\\envs\\pytorch_env\\lib\\site-packages (from requests>=2.19.0->datasets) (3.3.2)\n",
      "Requirement already satisfied: idna<4,>=2.5 in c:\\users\\vango\\anaconda3b\\envs\\pytorch_env\\lib\\site-packages (from requests>=2.19.0->datasets) (3.7)\n",
      "Requirement already satisfied: urllib3<3,>=1.21.1 in c:\\users\\vango\\anaconda3b\\envs\\pytorch_env\\lib\\site-packages (from requests>=2.19.0->datasets) (2.2.2)\n",
      "Requirement already satisfied: certifi>=2017.4.17 in c:\\users\\vango\\anaconda3b\\envs\\pytorch_env\\lib\\site-packages (from requests>=2.19.0->datasets) (2024.8.30)\n",
      "Requirement already satisfied: colorama in c:\\users\\vango\\anaconda3b\\envs\\pytorch_env\\lib\\site-packages (from tqdm>=4.62.1->datasets) (0.4.6)\n",
      "Requirement already satisfied: python-dateutil>=2.8.2 in c:\\users\\vango\\anaconda3b\\envs\\pytorch_env\\lib\\site-packages (from pandas->datasets) (2.9.0.post0)\n",
      "Requirement already satisfied: pytz>=2020.1 in c:\\users\\vango\\anaconda3b\\envs\\pytorch_env\\lib\\site-packages (from pandas->datasets) (2024.1)\n",
      "Requirement already satisfied: tzdata>=2022.7 in c:\\users\\vango\\anaconda3b\\envs\\pytorch_env\\lib\\site-packages (from pandas->datasets) (2023.3)\n",
      "Requirement already satisfied: six>=1.5 in c:\\users\\vango\\anaconda3b\\envs\\pytorch_env\\lib\\site-packages (from python-dateutil>=2.8.2->pandas->datasets) (1.16.0)\n",
      "Note: you may need to restart the kernel to use updated packages.\n",
      "Requirement already satisfied: peft in c:\\users\\vango\\anaconda3b\\envs\\pytorch_env\\lib\\site-packages (0.14.0)\n",
      "Requirement already satisfied: numpy>=1.17 in c:\\users\\vango\\anaconda3b\\envs\\pytorch_env\\lib\\site-packages (from peft) (1.26.4)\n",
      "Requirement already satisfied: packaging>=20.0 in c:\\users\\vango\\anaconda3b\\envs\\pytorch_env\\lib\\site-packages (from peft) (24.1)\n",
      "Requirement already satisfied: psutil in c:\\users\\vango\\anaconda3b\\envs\\pytorch_env\\lib\\site-packages (from peft) (5.9.0)\n",
      "Requirement already satisfied: pyyaml in c:\\users\\vango\\anaconda3b\\envs\\pytorch_env\\lib\\site-packages (from peft) (6.0.1)\n",
      "Requirement already satisfied: torch>=1.13.0 in c:\\users\\vango\\anaconda3b\\envs\\pytorch_env\\lib\\site-packages (from peft) (2.4.0)\n",
      "Requirement already satisfied: transformers in c:\\users\\vango\\anaconda3b\\envs\\pytorch_env\\lib\\site-packages (from peft) (4.45.2)\n",
      "Requirement already satisfied: tqdm in c:\\users\\vango\\anaconda3b\\envs\\pytorch_env\\lib\\site-packages (from peft) (4.66.5)\n",
      "Requirement already satisfied: accelerate>=0.21.0 in c:\\users\\vango\\anaconda3b\\envs\\pytorch_env\\lib\\site-packages (from peft) (1.1.1)\n",
      "Requirement already satisfied: safetensors in c:\\users\\vango\\anaconda3b\\envs\\pytorch_env\\lib\\site-packages (from peft) (0.4.5)\n",
      "Requirement already satisfied: huggingface_hub>=0.25.0 in c:\\users\\vango\\anaconda3b\\envs\\pytorch_env\\lib\\site-packages (from peft) (0.26.5)\n",
      "Requirement already satisfied: filelock in c:\\users\\vango\\anaconda3b\\envs\\pytorch_env\\lib\\site-packages (from huggingface_hub>=0.25.0->peft) (3.13.1)\n",
      "Requirement already satisfied: fsspec>=2023.5.0 in c:\\users\\vango\\anaconda3b\\envs\\pytorch_env\\lib\\site-packages (from huggingface_hub>=0.25.0->peft) (2024.3.1)\n",
      "Requirement already satisfied: requests in c:\\users\\vango\\anaconda3b\\envs\\pytorch_env\\lib\\site-packages (from huggingface_hub>=0.25.0->peft) (2.32.3)\n",
      "Requirement already satisfied: typing-extensions>=3.7.4.3 in c:\\users\\vango\\anaconda3b\\envs\\pytorch_env\\lib\\site-packages (from huggingface_hub>=0.25.0->peft) (4.11.0)\n",
      "Requirement already satisfied: sympy in c:\\users\\vango\\anaconda3b\\envs\\pytorch_env\\lib\\site-packages (from torch>=1.13.0->peft) (1.12)\n",
      "Requirement already satisfied: networkx in c:\\users\\vango\\anaconda3b\\envs\\pytorch_env\\lib\\site-packages (from torch>=1.13.0->peft) (3.3)\n",
      "Requirement already satisfied: jinja2 in c:\\users\\vango\\anaconda3b\\envs\\pytorch_env\\lib\\site-packages (from torch>=1.13.0->peft) (3.1.4)\n",
      "Requirement already satisfied: setuptools in c:\\users\\vango\\anaconda3b\\envs\\pytorch_env\\lib\\site-packages (from torch>=1.13.0->peft) (72.1.0)\n",
      "Requirement already satisfied: colorama in c:\\users\\vango\\anaconda3b\\envs\\pytorch_env\\lib\\site-packages (from tqdm->peft) (0.4.6)\n",
      "Requirement already satisfied: regex!=2019.12.17 in c:\\users\\vango\\anaconda3b\\envs\\pytorch_env\\lib\\site-packages (from transformers->peft) (2024.9.11)\n",
      "Requirement already satisfied: tokenizers<0.21,>=0.20 in c:\\users\\vango\\anaconda3b\\envs\\pytorch_env\\lib\\site-packages (from transformers->peft) (0.20.1)\n",
      "Requirement already satisfied: MarkupSafe>=2.0 in c:\\users\\vango\\anaconda3b\\envs\\pytorch_env\\lib\\site-packages (from jinja2->torch>=1.13.0->peft) (2.1.3)\n",
      "Requirement already satisfied: charset-normalizer<4,>=2 in c:\\users\\vango\\anaconda3b\\envs\\pytorch_env\\lib\\site-packages (from requests->huggingface_hub>=0.25.0->peft) (3.3.2)\n",
      "Requirement already satisfied: idna<4,>=2.5 in c:\\users\\vango\\anaconda3b\\envs\\pytorch_env\\lib\\site-packages (from requests->huggingface_hub>=0.25.0->peft) (3.7)\n",
      "Requirement already satisfied: urllib3<3,>=1.21.1 in c:\\users\\vango\\anaconda3b\\envs\\pytorch_env\\lib\\site-packages (from requests->huggingface_hub>=0.25.0->peft) (2.2.2)\n",
      "Requirement already satisfied: certifi>=2017.4.17 in c:\\users\\vango\\anaconda3b\\envs\\pytorch_env\\lib\\site-packages (from requests->huggingface_hub>=0.25.0->peft) (2024.8.30)\n",
      "Requirement already satisfied: mpmath>=0.19 in c:\\users\\vango\\anaconda3b\\envs\\pytorch_env\\lib\\site-packages (from sympy->torch>=1.13.0->peft) (1.3.0)\n",
      "Note: you may need to restart the kernel to use updated packages.\n",
      "Requirement already satisfied: evaluate in c:\\users\\vango\\anaconda3b\\envs\\pytorch_env\\lib\\site-packages (0.4.3)\n",
      "Requirement already satisfied: datasets>=2.0.0 in c:\\users\\vango\\anaconda3b\\envs\\pytorch_env\\lib\\site-packages (from evaluate) (2.19.1)\n",
      "Requirement already satisfied: numpy>=1.17 in c:\\users\\vango\\anaconda3b\\envs\\pytorch_env\\lib\\site-packages (from evaluate) (1.26.4)\n",
      "Requirement already satisfied: dill in c:\\users\\vango\\anaconda3b\\envs\\pytorch_env\\lib\\site-packages (from evaluate) (0.3.8)\n",
      "Requirement already satisfied: pandas in c:\\users\\vango\\anaconda3b\\envs\\pytorch_env\\lib\\site-packages (from evaluate) (2.2.2)\n",
      "Requirement already satisfied: requests>=2.19.0 in c:\\users\\vango\\anaconda3b\\envs\\pytorch_env\\lib\\site-packages (from evaluate) (2.32.3)\n",
      "Requirement already satisfied: tqdm>=4.62.1 in c:\\users\\vango\\anaconda3b\\envs\\pytorch_env\\lib\\site-packages (from evaluate) (4.66.5)\n",
      "Requirement already satisfied: xxhash in c:\\users\\vango\\anaconda3b\\envs\\pytorch_env\\lib\\site-packages (from evaluate) (2.0.2)\n",
      "Requirement already satisfied: multiprocess in c:\\users\\vango\\anaconda3b\\envs\\pytorch_env\\lib\\site-packages (from evaluate) (0.70.15)\n",
      "Requirement already satisfied: fsspec>=2021.05.0 in c:\\users\\vango\\anaconda3b\\envs\\pytorch_env\\lib\\site-packages (from fsspec[http]>=2021.05.0->evaluate) (2024.3.1)\n",
      "Requirement already satisfied: huggingface-hub>=0.7.0 in c:\\users\\vango\\anaconda3b\\envs\\pytorch_env\\lib\\site-packages (from evaluate) (0.26.5)\n",
      "Requirement already satisfied: packaging in c:\\users\\vango\\anaconda3b\\envs\\pytorch_env\\lib\\site-packages (from evaluate) (24.1)\n",
      "Requirement already satisfied: filelock in c:\\users\\vango\\anaconda3b\\envs\\pytorch_env\\lib\\site-packages (from datasets>=2.0.0->evaluate) (3.13.1)\n",
      "Requirement already satisfied: pyarrow>=12.0.0 in c:\\users\\vango\\anaconda3b\\envs\\pytorch_env\\lib\\site-packages (from datasets>=2.0.0->evaluate) (16.1.0)\n",
      "Requirement already satisfied: aiohttp in c:\\users\\vango\\anaconda3b\\envs\\pytorch_env\\lib\\site-packages (from datasets>=2.0.0->evaluate) (3.10.5)\n",
      "Requirement already satisfied: pyyaml>=5.1 in c:\\users\\vango\\anaconda3b\\envs\\pytorch_env\\lib\\site-packages (from datasets>=2.0.0->evaluate) (6.0.1)\n",
      "Requirement already satisfied: typing-extensions>=3.7.4.3 in c:\\users\\vango\\anaconda3b\\envs\\pytorch_env\\lib\\site-packages (from huggingface-hub>=0.7.0->evaluate) (4.11.0)\n",
      "Requirement already satisfied: charset-normalizer<4,>=2 in c:\\users\\vango\\anaconda3b\\envs\\pytorch_env\\lib\\site-packages (from requests>=2.19.0->evaluate) (3.3.2)\n",
      "Requirement already satisfied: idna<4,>=2.5 in c:\\users\\vango\\anaconda3b\\envs\\pytorch_env\\lib\\site-packages (from requests>=2.19.0->evaluate) (3.7)\n",
      "Requirement already satisfied: urllib3<3,>=1.21.1 in c:\\users\\vango\\anaconda3b\\envs\\pytorch_env\\lib\\site-packages (from requests>=2.19.0->evaluate) (2.2.2)\n",
      "Requirement already satisfied: certifi>=2017.4.17 in c:\\users\\vango\\anaconda3b\\envs\\pytorch_env\\lib\\site-packages (from requests>=2.19.0->evaluate) (2024.8.30)\n",
      "Requirement already satisfied: colorama in c:\\users\\vango\\anaconda3b\\envs\\pytorch_env\\lib\\site-packages (from tqdm>=4.62.1->evaluate) (0.4.6)\n",
      "Requirement already satisfied: python-dateutil>=2.8.2 in c:\\users\\vango\\anaconda3b\\envs\\pytorch_env\\lib\\site-packages (from pandas->evaluate) (2.9.0.post0)\n",
      "Requirement already satisfied: pytz>=2020.1 in c:\\users\\vango\\anaconda3b\\envs\\pytorch_env\\lib\\site-packages (from pandas->evaluate) (2024.1)\n",
      "Requirement already satisfied: tzdata>=2022.7 in c:\\users\\vango\\anaconda3b\\envs\\pytorch_env\\lib\\site-packages (from pandas->evaluate) (2023.3)\n",
      "Requirement already satisfied: aiohappyeyeballs>=2.3.0 in c:\\users\\vango\\anaconda3b\\envs\\pytorch_env\\lib\\site-packages (from aiohttp->datasets>=2.0.0->evaluate) (2.4.0)\n",
      "Requirement already satisfied: aiosignal>=1.1.2 in c:\\users\\vango\\anaconda3b\\envs\\pytorch_env\\lib\\site-packages (from aiohttp->datasets>=2.0.0->evaluate) (1.2.0)\n",
      "Requirement already satisfied: attrs>=17.3.0 in c:\\users\\vango\\anaconda3b\\envs\\pytorch_env\\lib\\site-packages (from aiohttp->datasets>=2.0.0->evaluate) (23.1.0)\n",
      "Requirement already satisfied: frozenlist>=1.1.1 in c:\\users\\vango\\anaconda3b\\envs\\pytorch_env\\lib\\site-packages (from aiohttp->datasets>=2.0.0->evaluate) (1.5.0)\n",
      "Requirement already satisfied: multidict<7.0,>=4.5 in c:\\users\\vango\\anaconda3b\\envs\\pytorch_env\\lib\\site-packages (from aiohttp->datasets>=2.0.0->evaluate) (6.1.0)\n",
      "Requirement already satisfied: yarl<2.0,>=1.0 in c:\\users\\vango\\anaconda3b\\envs\\pytorch_env\\lib\\site-packages (from aiohttp->datasets>=2.0.0->evaluate) (1.11.0)\n",
      "Requirement already satisfied: six>=1.5 in c:\\users\\vango\\anaconda3b\\envs\\pytorch_env\\lib\\site-packages (from python-dateutil>=2.8.2->pandas->evaluate) (1.16.0)\n",
      "Note: you may need to restart the kernel to use updated packages.\n",
      "Requirement already satisfied: torch in c:\\users\\vango\\anaconda3b\\envs\\pytorch_env\\lib\\site-packages (2.4.0)\n",
      "Requirement already satisfied: filelock in c:\\users\\vango\\anaconda3b\\envs\\pytorch_env\\lib\\site-packages (from torch) (3.13.1)\n",
      "Requirement already satisfied: typing-extensions>=4.8.0 in c:\\users\\vango\\anaconda3b\\envs\\pytorch_env\\lib\\site-packages (from torch) (4.11.0)\n",
      "Requirement already satisfied: sympy in c:\\users\\vango\\anaconda3b\\envs\\pytorch_env\\lib\\site-packages (from torch) (1.12)\n",
      "Requirement already satisfied: networkx in c:\\users\\vango\\anaconda3b\\envs\\pytorch_env\\lib\\site-packages (from torch) (3.3)\n",
      "Requirement already satisfied: jinja2 in c:\\users\\vango\\anaconda3b\\envs\\pytorch_env\\lib\\site-packages (from torch) (3.1.4)\n",
      "Requirement already satisfied: fsspec in c:\\users\\vango\\anaconda3b\\envs\\pytorch_env\\lib\\site-packages (from torch) (2024.3.1)\n",
      "Requirement already satisfied: setuptools in c:\\users\\vango\\anaconda3b\\envs\\pytorch_env\\lib\\site-packages (from torch) (72.1.0)\n",
      "Requirement already satisfied: MarkupSafe>=2.0 in c:\\users\\vango\\anaconda3b\\envs\\pytorch_env\\lib\\site-packages (from jinja2->torch) (2.1.3)\n",
      "Requirement already satisfied: mpmath>=0.19 in c:\\users\\vango\\anaconda3b\\envs\\pytorch_env\\lib\\site-packages (from sympy->torch) (1.3.0)\n",
      "Note: you may need to restart the kernel to use updated packages.\n",
      "Requirement already satisfied: huggingface_hub in c:\\users\\vango\\anaconda3b\\envs\\pytorch_env\\lib\\site-packages (0.26.5)\n",
      "Requirement already satisfied: filelock in c:\\users\\vango\\anaconda3b\\envs\\pytorch_env\\lib\\site-packages (from huggingface_hub) (3.13.1)\n",
      "Requirement already satisfied: fsspec>=2023.5.0 in c:\\users\\vango\\anaconda3b\\envs\\pytorch_env\\lib\\site-packages (from huggingface_hub) (2024.3.1)\n",
      "Requirement already satisfied: packaging>=20.9 in c:\\users\\vango\\anaconda3b\\envs\\pytorch_env\\lib\\site-packages (from huggingface_hub) (24.1)\n",
      "Requirement already satisfied: pyyaml>=5.1 in c:\\users\\vango\\anaconda3b\\envs\\pytorch_env\\lib\\site-packages (from huggingface_hub) (6.0.1)\n",
      "Requirement already satisfied: requests in c:\\users\\vango\\anaconda3b\\envs\\pytorch_env\\lib\\site-packages (from huggingface_hub) (2.32.3)\n",
      "Requirement already satisfied: tqdm>=4.42.1 in c:\\users\\vango\\anaconda3b\\envs\\pytorch_env\\lib\\site-packages (from huggingface_hub) (4.66.5)\n",
      "Requirement already satisfied: typing-extensions>=3.7.4.3 in c:\\users\\vango\\anaconda3b\\envs\\pytorch_env\\lib\\site-packages (from huggingface_hub) (4.11.0)\n",
      "Requirement already satisfied: colorama in c:\\users\\vango\\anaconda3b\\envs\\pytorch_env\\lib\\site-packages (from tqdm>=4.42.1->huggingface_hub) (0.4.6)\n",
      "Requirement already satisfied: charset-normalizer<4,>=2 in c:\\users\\vango\\anaconda3b\\envs\\pytorch_env\\lib\\site-packages (from requests->huggingface_hub) (3.3.2)\n",
      "Requirement already satisfied: idna<4,>=2.5 in c:\\users\\vango\\anaconda3b\\envs\\pytorch_env\\lib\\site-packages (from requests->huggingface_hub) (3.7)\n",
      "Requirement already satisfied: urllib3<3,>=1.21.1 in c:\\users\\vango\\anaconda3b\\envs\\pytorch_env\\lib\\site-packages (from requests->huggingface_hub) (2.2.2)\n",
      "Requirement already satisfied: certifi>=2017.4.17 in c:\\users\\vango\\anaconda3b\\envs\\pytorch_env\\lib\\site-packages (from requests->huggingface_hub) (2024.8.30)\n",
      "Note: you may need to restart the kernel to use updated packages.\n",
      "Requirement already satisfied: accelerate in c:\\users\\vango\\anaconda3b\\envs\\pytorch_env\\lib\\site-packages (1.1.1)\n",
      "Requirement already satisfied: numpy<3.0.0,>=1.17 in c:\\users\\vango\\anaconda3b\\envs\\pytorch_env\\lib\\site-packages (from accelerate) (1.26.4)\n",
      "Requirement already satisfied: packaging>=20.0 in c:\\users\\vango\\anaconda3b\\envs\\pytorch_env\\lib\\site-packages (from accelerate) (24.1)\n",
      "Requirement already satisfied: psutil in c:\\users\\vango\\anaconda3b\\envs\\pytorch_env\\lib\\site-packages (from accelerate) (5.9.0)\n",
      "Requirement already satisfied: pyyaml in c:\\users\\vango\\anaconda3b\\envs\\pytorch_env\\lib\\site-packages (from accelerate) (6.0.1)\n",
      "Requirement already satisfied: torch>=1.10.0 in c:\\users\\vango\\anaconda3b\\envs\\pytorch_env\\lib\\site-packages (from accelerate) (2.4.0)\n",
      "Requirement already satisfied: huggingface-hub>=0.21.0 in c:\\users\\vango\\anaconda3b\\envs\\pytorch_env\\lib\\site-packages (from accelerate) (0.26.5)\n",
      "Requirement already satisfied: safetensors>=0.4.3 in c:\\users\\vango\\anaconda3b\\envs\\pytorch_env\\lib\\site-packages (from accelerate) (0.4.5)\n",
      "Requirement already satisfied: filelock in c:\\users\\vango\\anaconda3b\\envs\\pytorch_env\\lib\\site-packages (from huggingface-hub>=0.21.0->accelerate) (3.13.1)\n",
      "Requirement already satisfied: fsspec>=2023.5.0 in c:\\users\\vango\\anaconda3b\\envs\\pytorch_env\\lib\\site-packages (from huggingface-hub>=0.21.0->accelerate) (2024.3.1)\n",
      "Requirement already satisfied: requests in c:\\users\\vango\\anaconda3b\\envs\\pytorch_env\\lib\\site-packages (from huggingface-hub>=0.21.0->accelerate) (2.32.3)\n",
      "Requirement already satisfied: tqdm>=4.42.1 in c:\\users\\vango\\anaconda3b\\envs\\pytorch_env\\lib\\site-packages (from huggingface-hub>=0.21.0->accelerate) (4.66.5)\n",
      "Requirement already satisfied: typing-extensions>=3.7.4.3 in c:\\users\\vango\\anaconda3b\\envs\\pytorch_env\\lib\\site-packages (from huggingface-hub>=0.21.0->accelerate) (4.11.0)\n",
      "Requirement already satisfied: sympy in c:\\users\\vango\\anaconda3b\\envs\\pytorch_env\\lib\\site-packages (from torch>=1.10.0->accelerate) (1.12)\n",
      "Requirement already satisfied: networkx in c:\\users\\vango\\anaconda3b\\envs\\pytorch_env\\lib\\site-packages (from torch>=1.10.0->accelerate) (3.3)\n",
      "Requirement already satisfied: jinja2 in c:\\users\\vango\\anaconda3b\\envs\\pytorch_env\\lib\\site-packages (from torch>=1.10.0->accelerate) (3.1.4)\n",
      "Requirement already satisfied: setuptools in c:\\users\\vango\\anaconda3b\\envs\\pytorch_env\\lib\\site-packages (from torch>=1.10.0->accelerate) (72.1.0)\n",
      "Requirement already satisfied: colorama in c:\\users\\vango\\anaconda3b\\envs\\pytorch_env\\lib\\site-packages (from tqdm>=4.42.1->huggingface-hub>=0.21.0->accelerate) (0.4.6)\n",
      "Requirement already satisfied: MarkupSafe>=2.0 in c:\\users\\vango\\anaconda3b\\envs\\pytorch_env\\lib\\site-packages (from jinja2->torch>=1.10.0->accelerate) (2.1.3)\n",
      "Requirement already satisfied: charset-normalizer<4,>=2 in c:\\users\\vango\\anaconda3b\\envs\\pytorch_env\\lib\\site-packages (from requests->huggingface-hub>=0.21.0->accelerate) (3.3.2)\n",
      "Requirement already satisfied: idna<4,>=2.5 in c:\\users\\vango\\anaconda3b\\envs\\pytorch_env\\lib\\site-packages (from requests->huggingface-hub>=0.21.0->accelerate) (3.7)\n",
      "Requirement already satisfied: urllib3<3,>=1.21.1 in c:\\users\\vango\\anaconda3b\\envs\\pytorch_env\\lib\\site-packages (from requests->huggingface-hub>=0.21.0->accelerate) (2.2.2)\n",
      "Requirement already satisfied: certifi>=2017.4.17 in c:\\users\\vango\\anaconda3b\\envs\\pytorch_env\\lib\\site-packages (from requests->huggingface-hub>=0.21.0->accelerate) (2024.8.30)\n",
      "Requirement already satisfied: mpmath>=0.19 in c:\\users\\vango\\anaconda3b\\envs\\pytorch_env\\lib\\site-packages (from sympy->torch>=1.10.0->accelerate) (1.3.0)\n",
      "Note: you may need to restart the kernel to use updated packages.\n"
     ]
    }
   ],
   "source": [
    "# Installation des bibliothèques\n",
    "%pip install numpy\n",
    "%pip install pandas\n",
    "%pip install transformers\n",
    "%pip install datasets\n",
    "%pip install peft\n",
    "%pip install evaluate\n",
    "%pip install torch\n",
    "%pip install huggingface_hub\n",
    "%pip install accelerate"
   ]
  },
  {
   "cell_type": "code",
   "execution_count": 2,
   "metadata": {
    "colab": {
     "base_uri": "https://localhost:8080/",
     "height": 325
    },
    "id": "j-Wpg9sPIHNq",
    "outputId": "dc4f8a81-e76d-498d-a026-c75db6455aa1"
   },
   "outputs": [
    {
     "name": "stderr",
     "output_type": "stream",
     "text": [
      "C:\\Users\\vango\\anaconda3b\\envs\\pytorch_env\\Lib\\site-packages\\tqdm\\auto.py:21: TqdmWarning: IProgress not found. Please update jupyter and ipywidgets. See https://ipywidgets.readthedocs.io/en/stable/user_install.html\n",
      "  from .autonotebook import tqdm as notebook_tqdm\n"
     ]
    },
    {
     "name": "stdout",
     "output_type": "stream",
     "text": [
      "DatasetDict({\n",
      "    train: Dataset({\n",
      "        features: ['id', 'text', 'label', 'label_text'],\n",
      "        num_rows: 27481\n",
      "    })\n",
      "    test: Dataset({\n",
      "        features: ['id', 'text', 'label', 'label_text'],\n",
      "        num_rows: 3534\n",
      "    })\n",
      "})\n"
     ]
    },
    {
     "data": {
      "text/html": [
       "<div>\n",
       "<style scoped>\n",
       "    .dataframe tbody tr th:only-of-type {\n",
       "        vertical-align: middle;\n",
       "    }\n",
       "\n",
       "    .dataframe tbody tr th {\n",
       "        vertical-align: top;\n",
       "    }\n",
       "\n",
       "    .dataframe thead th {\n",
       "        text-align: right;\n",
       "    }\n",
       "</style>\n",
       "<table border=\"1\" class=\"dataframe\">\n",
       "  <thead>\n",
       "    <tr style=\"text-align: right;\">\n",
       "      <th></th>\n",
       "      <th>id</th>\n",
       "      <th>text</th>\n",
       "      <th>label</th>\n",
       "      <th>label_text</th>\n",
       "    </tr>\n",
       "  </thead>\n",
       "  <tbody>\n",
       "    <tr>\n",
       "      <th>0</th>\n",
       "      <td>cb774db0d1</td>\n",
       "      <td>I`d have responded, if I were going</td>\n",
       "      <td>1</td>\n",
       "      <td>neutral</td>\n",
       "    </tr>\n",
       "    <tr>\n",
       "      <th>1</th>\n",
       "      <td>549e992a42</td>\n",
       "      <td>Sooo SAD I will miss you here in San Diego!!!</td>\n",
       "      <td>0</td>\n",
       "      <td>negative</td>\n",
       "    </tr>\n",
       "    <tr>\n",
       "      <th>2</th>\n",
       "      <td>088c60f138</td>\n",
       "      <td>my boss is bullying me...</td>\n",
       "      <td>0</td>\n",
       "      <td>negative</td>\n",
       "    </tr>\n",
       "  </tbody>\n",
       "</table>\n",
       "</div>"
      ],
      "text/plain": [
       "           id                                            text  label  \\\n",
       "0  cb774db0d1             I`d have responded, if I were going      1   \n",
       "1  549e992a42   Sooo SAD I will miss you here in San Diego!!!      0   \n",
       "2  088c60f138                       my boss is bullying me...      0   \n",
       "\n",
       "  label_text  \n",
       "0    neutral  \n",
       "1   negative  \n",
       "2   negative  "
      ]
     },
     "execution_count": 2,
     "metadata": {},
     "output_type": "execute_result"
    }
   ],
   "source": [
    "# Chargement des données de tweet\n",
    "nom_dataset = \"mteb/tweet_sentiment_extraction\"\n",
    "import pandas as pd\n",
    "from datasets import load_dataset\n",
    "dataset_tweet = load_dataset(nom_dataset)\n",
    "print(dataset_tweet)\n",
    "df_ent = pd.DataFrame(dataset_tweet[\"train\"])\n",
    "df_ent.head(3)"
   ]
  },
  {
   "cell_type": "code",
   "execution_count": 3,
   "metadata": {
    "colab": {
     "base_uri": "https://localhost:8080/"
    },
    "id": "e8Ubf4ZDFrEg",
    "outputId": "d12a58a8-e269-4e07-f8e0-4b679cf70138"
   },
   "outputs": [
    {
     "name": "stderr",
     "output_type": "stream",
     "text": [
      "Some weights of DistilBertForSequenceClassification were not initialized from the model checkpoint at distilbert-base-uncased and are newly initialized: ['classifier.bias', 'classifier.weight', 'pre_classifier.bias', 'pre_classifier.weight']\n",
      "You should probably TRAIN this model on a down-stream task to be able to use it for predictions and inference.\n"
     ]
    }
   ],
   "source": [
    "# Chargement du modèle et tokenizer distilbert\n",
    "from transformers import AutoModelForSequenceClassification, AutoTokenizer, AdamW\n",
    "nom_modele = 'distilbert-base-uncased'\n",
    "# Créer un modèle pour la classification à partir de distilbert\n",
    "# une nouvelle couche est ajoutée en sortie avec le nombre de classe = num_labels\n",
    "modele = AutoModelForSequenceClassification.from_pretrained(nom_modele, num_labels=3)\n",
    "tokenizer = AutoTokenizer.from_pretrained(nom_modele)"
   ]
  },
  {
   "cell_type": "code",
   "execution_count": 4,
   "metadata": {
    "colab": {
     "base_uri": "https://localhost:8080/",
     "height": 325
    },
    "id": "NJYFYVcwJ9Bs",
    "outputId": "2af1032d-0b0e-49e8-d606-bfcf1adabe5a"
   },
   "outputs": [
    {
     "name": "stdout",
     "output_type": "stream",
     "text": [
      "Dataset vectorisé: DatasetDict({\n",
      "    train: Dataset({\n",
      "        features: ['id', 'text', 'label', 'label_text', 'input_ids', 'attention_mask'],\n",
      "        num_rows: 27481\n",
      "    })\n",
      "    test: Dataset({\n",
      "        features: ['id', 'text', 'label', 'label_text', 'input_ids', 'attention_mask'],\n",
      "        num_rows: 3534\n",
      "    })\n",
      "})\n"
     ]
    },
    {
     "data": {
      "text/html": [
       "<div>\n",
       "<style scoped>\n",
       "    .dataframe tbody tr th:only-of-type {\n",
       "        vertical-align: middle;\n",
       "    }\n",
       "\n",
       "    .dataframe tbody tr th {\n",
       "        vertical-align: top;\n",
       "    }\n",
       "\n",
       "    .dataframe thead th {\n",
       "        text-align: right;\n",
       "    }\n",
       "</style>\n",
       "<table border=\"1\" class=\"dataframe\">\n",
       "  <thead>\n",
       "    <tr style=\"text-align: right;\">\n",
       "      <th></th>\n",
       "      <th>id</th>\n",
       "      <th>text</th>\n",
       "      <th>label</th>\n",
       "      <th>label_text</th>\n",
       "      <th>input_ids</th>\n",
       "      <th>attention_mask</th>\n",
       "    </tr>\n",
       "  </thead>\n",
       "  <tbody>\n",
       "    <tr>\n",
       "      <th>0</th>\n",
       "      <td>fd8e3ede29</td>\n",
       "      <td>what happen to the maids of yours? Quit once ...</td>\n",
       "      <td>1</td>\n",
       "      <td>neutral</td>\n",
       "      <td>[101, 2054, 4148, 2000, 1996, 29229, 1997, 673...</td>\n",
       "      <td>[1, 1, 1, 1, 1, 1, 1, 1, 1, 1, 1, 1, 1, 1, 1, ...</td>\n",
       "    </tr>\n",
       "    <tr>\n",
       "      <th>1</th>\n",
       "      <td>9206b5221d</td>\n",
       "      <td>Listening to the commentary track on Holiday I...</td>\n",
       "      <td>2</td>\n",
       "      <td>positive</td>\n",
       "      <td>[101, 5962, 2000, 1996, 8570, 2650, 2006, 6209...</td>\n",
       "      <td>[1, 1, 1, 1, 1, 1, 1, 1, 1, 1, 1, 1, 1, 1, 1, ...</td>\n",
       "    </tr>\n",
       "    <tr>\n",
       "      <th>2</th>\n",
       "      <td>d6b51b539f</td>\n",
       "      <td>chatting with some of my old classmates, helly...</td>\n",
       "      <td>1</td>\n",
       "      <td>neutral</td>\n",
       "      <td>[101, 22331, 2007, 2070, 1997, 2026, 2214, 198...</td>\n",
       "      <td>[1, 1, 1, 1, 1, 1, 1, 1, 1, 1, 1, 1, 1, 1, 1, ...</td>\n",
       "    </tr>\n",
       "  </tbody>\n",
       "</table>\n",
       "</div>"
      ],
      "text/plain": [
       "           id                                               text  label  \\\n",
       "0  fd8e3ede29   what happen to the maids of yours? Quit once ...      1   \n",
       "1  9206b5221d  Listening to the commentary track on Holiday I...      2   \n",
       "2  d6b51b539f  chatting with some of my old classmates, helly...      1   \n",
       "\n",
       "  label_text                                          input_ids  \\\n",
       "0    neutral  [101, 2054, 4148, 2000, 1996, 29229, 1997, 673...   \n",
       "1   positive  [101, 5962, 2000, 1996, 8570, 2650, 2006, 6209...   \n",
       "2    neutral  [101, 22331, 2007, 2070, 1997, 2026, 2214, 198...   \n",
       "\n",
       "                                      attention_mask  \n",
       "0  [1, 1, 1, 1, 1, 1, 1, 1, 1, 1, 1, 1, 1, 1, 1, ...  \n",
       "1  [1, 1, 1, 1, 1, 1, 1, 1, 1, 1, 1, 1, 1, 1, 1, ...  \n",
       "2  [1, 1, 1, 1, 1, 1, 1, 1, 1, 1, 1, 1, 1, 1, 1, ...  "
      ]
     },
     "execution_count": 4,
     "metadata": {},
     "output_type": "execute_result"
    }
   ],
   "source": [
    "# Vectorisation des textes pour l'entrainement\n",
    "def tokenize_text(data):\n",
    "  return tokenizer(data[\"text\"], padding = \"max_length\",truncation=True)\n",
    "dataset_vectorise = dataset_tweet.map(tokenize_text, batched=True)\n",
    "print(\"Dataset vectorisé:\",dataset_vectorise)\n",
    "dataset_ent = dataset_vectorise[\"train\"].shuffle(seed=42).select(range(500))  #petite collection\n",
    "dataset_test = dataset_vectorise[\"test\"].shuffle(seed=42).select(range(500))\n",
    "df_ent=pd.DataFrame(dataset_ent)\n",
    "df_ent.head(3)"
   ]
  },
  {
   "cell_type": "code",
   "execution_count": 5,
   "metadata": {
    "colab": {
     "base_uri": "https://localhost:8080/"
    },
    "id": "2TsM_pXmEmL7",
    "outputId": "7b3ecebd-06de-407b-8601-b745ffb55263"
   },
   "outputs": [
    {
     "name": "stdout",
     "output_type": "stream",
     "text": [
      "Predictions avant entrainement:\n",
      "--------------------------------------------------\n",
      "Analyse de sentiment pour ' This is a very good comment. ' est : negative\n",
      "Analyse de sentiment pour ' I don't recommend this restaurant. ' est : neutral\n",
      "Analyse de sentiment pour ' This is better that most ! ' est : negative\n",
      "Analyse de sentiment pour ' Don't ever go there ! ' est : negative\n",
      "Analyse de sentiment pour ' This is a good and bad thing. ' est : negative\n"
     ]
    }
   ],
   "source": [
    "# Quelques exemples de prédictions avant entrainement\n",
    "print(\"Predictions avant entrainement:\")\n",
    "print(\"--------------------------------------------------\")\n",
    "modele.to(\"cpu\")\n",
    "import torch\n",
    "def predictions(liste_exemples):\n",
    "  classe_etiquettes = {0: \"negative\", 1: \"neutral\", 2: \"positive\"}\n",
    "  for texte in liste_exemples :\n",
    "    entrees = tokenizer.encode(texte, return_tensors=\"pt\")\n",
    "    logits = modele(entrees).logits\n",
    "    predictions = torch.argmax(logits)\n",
    "    sentiment = classe_etiquettes[predictions.item()]\n",
    "    print(\"Analyse de sentiment pour '\",texte,\"' est :\", sentiment)\n",
    "liste_exemples = [\"This is a very good comment.\", \"I don't recommend this restaurant.\",\n",
    "                   \"This is better that most !\", \"Don't ever go there !\", \"This is a good and bad thing.\"]\n",
    "predictions(liste_exemples)"
   ]
  },
  {
   "cell_type": "code",
   "execution_count": 6,
   "metadata": {
    "colab": {
     "base_uri": "https://localhost:8080/"
    },
    "id": "2tVpOm03vg0P",
    "outputId": "d9c20ebc-9fd4-4b4d-8fe1-b0056fd7bda2"
   },
   "outputs": [
    {
     "name": "stdout",
     "output_type": "stream",
     "text": [
      "trainable params: 629,763 || all params: 67,585,542 || trainable%: 0.9318\n"
     ]
    }
   ],
   "source": [
    "import peft\n",
    "from peft import PeftModel, PeftConfig, get_peft_model, LoraConfig\n",
    "peft_config = LoraConfig(task_type=\"SEQ_CLS\",\n",
    "                        r=4,\n",
    "                        lora_alpha=32,\n",
    "                        lora_dropout=0.01,\n",
    "                        target_modules = ['q_lin'])\n",
    "peft_config\n",
    "modele = get_peft_model(modele, peft_config)\n",
    "modele.print_trainable_parameters()"
   ]
  },
  {
   "cell_type": "code",
   "execution_count": 7,
   "metadata": {
    "colab": {
     "base_uri": "https://localhost:8080/",
     "height": 448
    },
    "id": "ErclChUkKYwM",
    "outputId": "b9d92757-7e90-4e35-a2d3-e49097ed144a"
   },
   "outputs": [
    {
     "name": "stderr",
     "output_type": "stream",
     "text": [
      "C:\\Users\\vango\\anaconda3b\\envs\\pytorch_env\\Lib\\site-packages\\transformers\\training_args.py:1545: FutureWarning: `evaluation_strategy` is deprecated and will be removed in version 4.46 of 🤗 Transformers. Use `eval_strategy` instead\n",
      "  warnings.warn(\n"
     ]
    },
    {
     "data": {
      "text/html": [
       "\n",
       "    <div>\n",
       "      \n",
       "      <progress value='1250' max='1250' style='width:300px; height:20px; vertical-align: middle;'></progress>\n",
       "      [1250/1250 1:28:26, Epoch 10/10]\n",
       "    </div>\n",
       "    <table border=\"1\" class=\"dataframe\">\n",
       "  <thead>\n",
       " <tr style=\"text-align: left;\">\n",
       "      <th>Epoch</th>\n",
       "      <th>Training Loss</th>\n",
       "      <th>Validation Loss</th>\n",
       "      <th>Accuracy</th>\n",
       "    </tr>\n",
       "  </thead>\n",
       "  <tbody>\n",
       "    <tr>\n",
       "      <td>1</td>\n",
       "      <td>No log</td>\n",
       "      <td>1.082539</td>\n",
       "      <td>0.426000</td>\n",
       "    </tr>\n",
       "    <tr>\n",
       "      <td>2</td>\n",
       "      <td>No log</td>\n",
       "      <td>1.074030</td>\n",
       "      <td>0.434000</td>\n",
       "    </tr>\n",
       "    <tr>\n",
       "      <td>3</td>\n",
       "      <td>No log</td>\n",
       "      <td>1.060320</td>\n",
       "      <td>0.454000</td>\n",
       "    </tr>\n",
       "    <tr>\n",
       "      <td>4</td>\n",
       "      <td>1.056400</td>\n",
       "      <td>1.042317</td>\n",
       "      <td>0.472000</td>\n",
       "    </tr>\n",
       "    <tr>\n",
       "      <td>5</td>\n",
       "      <td>1.056400</td>\n",
       "      <td>1.024750</td>\n",
       "      <td>0.488000</td>\n",
       "    </tr>\n",
       "    <tr>\n",
       "      <td>6</td>\n",
       "      <td>1.056400</td>\n",
       "      <td>1.009981</td>\n",
       "      <td>0.488000</td>\n",
       "    </tr>\n",
       "    <tr>\n",
       "      <td>7</td>\n",
       "      <td>1.056400</td>\n",
       "      <td>0.991794</td>\n",
       "      <td>0.514000</td>\n",
       "    </tr>\n",
       "    <tr>\n",
       "      <td>8</td>\n",
       "      <td>0.957200</td>\n",
       "      <td>0.982506</td>\n",
       "      <td>0.518000</td>\n",
       "    </tr>\n",
       "    <tr>\n",
       "      <td>9</td>\n",
       "      <td>0.957200</td>\n",
       "      <td>0.974539</td>\n",
       "      <td>0.534000</td>\n",
       "    </tr>\n",
       "    <tr>\n",
       "      <td>10</td>\n",
       "      <td>0.957200</td>\n",
       "      <td>0.971631</td>\n",
       "      <td>0.534000</td>\n",
       "    </tr>\n",
       "  </tbody>\n",
       "</table><p>"
      ],
      "text/plain": [
       "<IPython.core.display.HTML object>"
      ]
     },
     "metadata": {},
     "output_type": "display_data"
    },
    {
     "data": {
      "text/plain": [
       "TrainOutput(global_step=1250, training_loss=0.9875738403320312, metrics={'train_runtime': 5309.004, 'train_samples_per_second': 0.942, 'train_steps_per_second': 0.235, 'total_flos': 672021964800000.0, 'train_loss': 0.9875738403320312, 'epoch': 10.0})"
      ]
     },
     "execution_count": 7,
     "metadata": {},
     "output_type": "execute_result"
    }
   ],
   "source": [
    "from transformers import Trainer, TrainingArguments, DataCollatorWithPadding\n",
    "arguments_training = TrainingArguments(\n",
    "    output_dir='dossier_bert_ft_tweet', # Dossier pour les résultats\n",
    "    evaluation_strategy=\"epoch\",\n",
    "    num_train_epochs=10, # Défaut est 3\n",
    "    learning_rate=2e-5, # Taux d'apprentissage\n",
    "    per_device_train_batch_size=4, # Taille des mini-lots\n",
    "    per_device_eval_batch_size=4,\n",
    "    weight_decay=0.01 # Pour régularisation L2\n",
    ")\n",
    "import evaluate\n",
    "import numpy as np\n",
    "exactitude = evaluate.load(\"accuracy\")\n",
    "def calcul_metriques(p):\n",
    "    logits, etiquettes = p\n",
    "    predictions = np.argmax(logits, axis=1)\n",
    "    return exactitude.compute(predictions=predictions, references=etiquettes)\n",
    "\n",
    "data_collator = DataCollatorWithPadding(tokenizer)\n",
    "entraineur = Trainer(\n",
    "    model=modele,\n",
    "    args=arguments_training,\n",
    "    train_dataset=dataset_ent,\n",
    "    eval_dataset=dataset_test,\n",
    "    data_collator=data_collator, # pour lots de taille fixe dynamiques\n",
    "    compute_metrics=calcul_metriques\n",
    ")\n",
    "entraineur.train()"
   ]
  },
  {
   "cell_type": "code",
   "execution_count": 8,
   "metadata": {
    "id": "V1QZ7yycHZMJ",
    "outputId": "664629f0-0b04-467f-bb22-0eafc5b1c2d1"
   },
   "outputs": [
    {
     "name": "stdout",
     "output_type": "stream",
     "text": [
      "Predictions après entrainement:\n",
      "--------------------------------------------------\n",
      "Analyse de sentiment pour ' This is a very good comment. ' est : neutral\n",
      "Analyse de sentiment pour ' I don't recommend this restaurant. ' est : neutral\n",
      "Analyse de sentiment pour ' This is better that most ! ' est : neutral\n",
      "Analyse de sentiment pour ' Don't ever go there ! ' est : positive\n",
      "Analyse de sentiment pour ' This is a good and bad thing. ' est : neutral\n"
     ]
    }
   ],
   "source": [
    "# Les prédictions après entrainement pour les exemples\n",
    "print(\"Predictions après entrainement:\")\n",
    "print(\"--------------------------------------------------\")\n",
    "modele.to(\"cpu\")\n",
    "predictions(liste_exemples)"
   ]
  },
  {
   "cell_type": "code",
   "execution_count": 9,
   "metadata": {
    "id": "pCBLPk6KHZMJ",
    "outputId": "f423e66a-3701-45f0-c295-448eb2d7a6d9"
   },
   "outputs": [
    {
     "data": {
      "text/plain": [
       "PeftModelForSequenceClassification(\n",
       "  (base_model): LoraModel(\n",
       "    (model): DistilBertForSequenceClassification(\n",
       "      (distilbert): DistilBertModel(\n",
       "        (embeddings): Embeddings(\n",
       "          (word_embeddings): Embedding(30522, 768, padding_idx=0)\n",
       "          (position_embeddings): Embedding(512, 768)\n",
       "          (LayerNorm): LayerNorm((768,), eps=1e-12, elementwise_affine=True)\n",
       "          (dropout): Dropout(p=0.1, inplace=False)\n",
       "        )\n",
       "        (transformer): Transformer(\n",
       "          (layer): ModuleList(\n",
       "            (0-5): 6 x TransformerBlock(\n",
       "              (attention): MultiHeadSelfAttention(\n",
       "                (dropout): Dropout(p=0.1, inplace=False)\n",
       "                (q_lin): lora.Linear(\n",
       "                  (base_layer): Linear(in_features=768, out_features=768, bias=True)\n",
       "                  (lora_dropout): ModuleDict(\n",
       "                    (default): Dropout(p=0.01, inplace=False)\n",
       "                  )\n",
       "                  (lora_A): ModuleDict(\n",
       "                    (default): Linear(in_features=768, out_features=4, bias=False)\n",
       "                  )\n",
       "                  (lora_B): ModuleDict(\n",
       "                    (default): Linear(in_features=4, out_features=768, bias=False)\n",
       "                  )\n",
       "                  (lora_embedding_A): ParameterDict()\n",
       "                  (lora_embedding_B): ParameterDict()\n",
       "                  (lora_magnitude_vector): ModuleDict()\n",
       "                )\n",
       "                (k_lin): Linear(in_features=768, out_features=768, bias=True)\n",
       "                (v_lin): Linear(in_features=768, out_features=768, bias=True)\n",
       "                (out_lin): Linear(in_features=768, out_features=768, bias=True)\n",
       "              )\n",
       "              (sa_layer_norm): LayerNorm((768,), eps=1e-12, elementwise_affine=True)\n",
       "              (ffn): FFN(\n",
       "                (dropout): Dropout(p=0.1, inplace=False)\n",
       "                (lin1): Linear(in_features=768, out_features=3072, bias=True)\n",
       "                (lin2): Linear(in_features=3072, out_features=768, bias=True)\n",
       "                (activation): GELUActivation()\n",
       "              )\n",
       "              (output_layer_norm): LayerNorm((768,), eps=1e-12, elementwise_affine=True)\n",
       "            )\n",
       "          )\n",
       "        )\n",
       "      )\n",
       "      (pre_classifier): ModulesToSaveWrapper(\n",
       "        (original_module): Linear(in_features=768, out_features=768, bias=True)\n",
       "        (modules_to_save): ModuleDict(\n",
       "          (default): Linear(in_features=768, out_features=768, bias=True)\n",
       "        )\n",
       "      )\n",
       "      (classifier): ModulesToSaveWrapper(\n",
       "        (original_module): Linear(in_features=768, out_features=3, bias=True)\n",
       "        (modules_to_save): ModuleDict(\n",
       "          (default): Linear(in_features=768, out_features=3, bias=True)\n",
       "        )\n",
       "      )\n",
       "      (dropout): Dropout(p=0.2, inplace=False)\n",
       "    )\n",
       "  )\n",
       ")"
      ]
     },
     "execution_count": 9,
     "metadata": {},
     "output_type": "execute_result"
    }
   ],
   "source": [
    "modele"
   ]
  }
 ],
 "metadata": {
  "accelerator": "GPU",
  "colab": {
   "gpuType": "T4",
   "include_colab_link": true,
   "provenance": []
  },
  "kernelspec": {
   "display_name": "Python 3 (ipykernel)",
   "language": "python",
   "name": "python3"
  },
  "language_info": {
   "codemirror_mode": {
    "name": "ipython",
    "version": 3
   },
   "file_extension": ".py",
   "mimetype": "text/x-python",
   "name": "python",
   "nbconvert_exporter": "python",
   "pygments_lexer": "ipython3",
   "version": "3.12.4"
  }
 },
 "nbformat": 4,
 "nbformat_minor": 4
}
