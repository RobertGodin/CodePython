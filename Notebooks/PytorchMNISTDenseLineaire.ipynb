{
 "cells": [
  {
   "cell_type": "code",
   "execution_count": 2,
   "metadata": {},
   "outputs": [
    {
     "name": "stdout",
     "output_type": "stream",
     "text": [
      "-------- > epoch 1:  coût moyen entraînement = 0.7796586751937866\n",
      "-------- > epoch 2:  coût moyen entraînement = 0.35505351424217224\n",
      "-------- > epoch 3:  coût moyen entraînement = 0.3114163279533386\n",
      "-------- > epoch 4:  coût moyen entraînement = 0.28549620509147644\n",
      "-------- > epoch 5:  coût moyen entraînement = 0.2659691870212555\n",
      "-------- > epoch 6:  coût moyen entraînement = 0.2493172287940979\n",
      "-------- > epoch 7:  coût moyen entraînement = 0.2349935621023178\n",
      "-------- > epoch 8:  coût moyen entraînement = 0.22249244153499603\n",
      "-------- > epoch 9:  coût moyen entraînement = 0.21091149747371674\n",
      "-------- > epoch 10:  coût moyen entraînement = 0.20132428407669067\n"
     ]
    }
   ],
   "source": [
    "# -*- coding: utf-8 -*-\n",
    "\"\"\"\n",
    "Exemple simple de MNIST avec PyTorch\n",
    "Exemple de nn.Module avec deux couches denses linéaires\n",
    "Boucle d'apprentissage simple\n",
    "\"\"\"\n",
    "import torch\n",
    "torch.manual_seed(0) # Pour résultats reproductibles\n",
    "\n",
    "# Fonction J d'entropie croisée\n",
    "import torch.nn.functional as F\n",
    "fonction_cout = F.cross_entropy\n",
    "\n",
    "from torch import nn\n",
    "# Définition de l'architecture du RNA\n",
    "class RNASimple(nn.Module):\n",
    "    def __init__(self):\n",
    "        super().__init__()\n",
    "        self.couche_lineaire1 = nn.Linear(784, 30)\n",
    "        self.couche_lineaire2 = nn.Linear(30, 10)\n",
    "    def forward(self, lot_X):\n",
    "            lot_X = F.relu(self.couche_lineaire1(lot_X))\n",
    "            return self.couche_lineaire2(lot_X)\n",
    "modele = RNASimple()\n",
    "    \n",
    "from torch import optim\n",
    "optimiseur = optim.SGD(modele.parameters(), lr=0.05)\n",
    "\n",
    "# Chargement des données de MNIST\n",
    "import pickle, gzip\n",
    "fichier_donnees = gzip.open(r\"mnist.pkl.gz\", 'rb')\n",
    "((donnees_ent_X, donnees_ent_Y),(donnees_valid_X, donnees_valid_Y),(donnees_test_X,donnees_test_Y)) = pickle.load(fichier_donnees, encoding=\"latin-1\")\n",
    "fichier_donnees.close()\n",
    "\n",
    "# Conversion des données en type toch.Tensor\n",
    "donnees_ent_X, donnees_ent_Y, donnees_test_X,donnees_test_Y = map(torch.tensor, (donnees_ent_X, donnees_ent_Y, donnees_test_X,donnees_test_Y))\n",
    "\n",
    "# Création des objets DataLoader pour itérer par lot\n",
    "from torch.utils.data import TensorDataset\n",
    "from torch.utils.data import DataLoader\n",
    "ds_ent = TensorDataset(donnees_ent_X, donnees_ent_Y)\n",
    "dl_ent = DataLoader(ds_ent, batch_size=100, shuffle=True)\n",
    "\n",
    "nb_epochs = 10\n",
    "# Boucle d'apprentissage\n",
    "for epoch in range(nb_epochs):\n",
    "    cout_total_ent = 0 \n",
    "    \n",
    "    # Boucle d'apprentissage par mini-lot pour une epoch\n",
    "    for lot_X, lot_Y in dl_ent:\n",
    "        optimiseur.zero_grad() # Remettre les dérivées à zéro\n",
    "        lot_Y_predictions = modele(lot_X) # Appel de la méthode forward\n",
    "        cout = fonction_cout(lot_Y_predictions, lot_Y)\n",
    "        cout_total_ent +=cout\n",
    "        cout.backward() # Calcul des gradiants par rétropropagation\n",
    "        optimiseur.step() # Mise à jour des paramètres\n",
    "        \n",
    "    cout_moyen_ent = cout_total_ent/len(dl_ent)\n",
    "    print(f'-------- > epoch {epoch+1}:  coût moyen entraînement = {cout_moyen_ent}')"
   ]
  },
  {
   "cell_type": "code",
   "execution_count": 2,
   "metadata": {},
   "outputs": [
    {
     "name": "stdout",
     "output_type": "stream",
     "text": [
      "RNASimple(\n",
      "  (couche_lineaire1): Linear(in_features=784, out_features=30, bias=True)\n",
      "  (couche_lineaire2): Linear(in_features=30, out_features=10, bias=True)\n",
      ")\n"
     ]
    }
   ],
   "source": [
    "print(modele)"
   ]
  },
  {
   "cell_type": "code",
   "execution_count": 3,
   "metadata": {},
   "outputs": [
    {
     "name": "stdout",
     "output_type": "stream",
     "text": [
      "torch.Size([30, 784])\n",
      "torch.Size([30])\n",
      "torch.Size([10, 30])\n",
      "torch.Size([10])\n"
     ]
    }
   ],
   "source": [
    "for parametre in modele.parameters():\n",
    "    print(parametre.shape)"
   ]
  },
  {
   "cell_type": "code",
   "execution_count": null,
   "metadata": {},
   "outputs": [],
   "source": []
  }
 ],
 "metadata": {
  "kernelspec": {
   "display_name": "Python 3 (ipykernel)",
   "language": "python",
   "name": "python3"
  },
  "language_info": {
   "codemirror_mode": {
    "name": "ipython",
    "version": 3
   },
   "file_extension": ".py",
   "mimetype": "text/x-python",
   "name": "python",
   "nbconvert_exporter": "python",
   "pygments_lexer": "ipython3",
   "version": "3.12.4"
  }
 },
 "nbformat": 4,
 "nbformat_minor": 4
}
