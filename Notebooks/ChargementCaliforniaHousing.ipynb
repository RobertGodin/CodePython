{
 "cells": [
  {
   "cell_type": "code",
   "execution_count": 2,
   "metadata": {
    "scrolled": true
   },
   "outputs": [
    {
     "name": "stdout",
     "output_type": "stream",
     "text": [
      "----------------- Variables indépendantes (X) 20 640 lignes par 8 colonnes : lignes 0:5 -----------------\n",
      "[[ 8.32520000e+00  4.10000000e+01  6.98412698e+00  1.02380952e+00\n",
      "   3.22000000e+02  2.55555556e+00  3.78800000e+01 -1.22230000e+02]\n",
      " [ 8.30140000e+00  2.10000000e+01  6.23813708e+00  9.71880492e-01\n",
      "   2.40100000e+03  2.10984183e+00  3.78600000e+01 -1.22220000e+02]\n",
      " [ 7.25740000e+00  5.20000000e+01  8.28813559e+00  1.07344633e+00\n",
      "   4.96000000e+02  2.80225989e+00  3.78500000e+01 -1.22240000e+02]\n",
      " [ 5.64310000e+00  5.20000000e+01  5.81735160e+00  1.07305936e+00\n",
      "   5.58000000e+02  2.54794521e+00  3.78500000e+01 -1.22250000e+02]\n",
      " [ 3.84620000e+00  5.20000000e+01  6.28185328e+00  1.08108108e+00\n",
      "   5.65000000e+02  2.18146718e+00  3.78500000e+01 -1.22250000e+02]]\n",
      "----------------- Variable à prédire (y) : prix en $100 000, lignes 0:5 -----------------\n",
      "[4.526 3.585 3.521 3.413 3.422]\n",
      "Colonne MedInc (revenu médian) dans un tableau 2D, lignes 0:5\n",
      "<class 'numpy.ndarray'>\n",
      "[[8.3252]\n",
      " [8.3014]\n",
      " [7.2574]\n",
      " [5.6431]\n",
      " [3.8462]]\n"
     ]
    },
    {
     "data": {
      "image/png": "[encoded data removed]",
      "text/plain": [
       "<Figure size 432x288 with 1 Axes>"
      ]
     },
     "metadata": {
      "needs_background": "light"
     },
     "output_type": "display_data"
    }
   ],
   "source": [
    "# Chargement des données de California Housing pour exercice de régression\n",
    "# x : revenu y : prix \n",
    "\n",
    "%matplotlib inline\n",
    "import matplotlib.pyplot as plt\n",
    "import numpy as np\n",
    "from sklearn import linear_model\n",
    "from sklearn.metrics import mean_squared_error, r2_score\n",
    "\n",
    "from sklearn.datasets import fetch_california_housing\n",
    "maisons_californie = fetch_california_housing()\n",
    "\n",
    "print(\"----------------- Variables indépendantes (X) 20 640 lignes par 8 colonnes : lignes 0:5 -----------------\")\n",
    "print(maisons_californie.data[0:5])\n",
    "print(\"----------------- Variable à prédire (y) : prix en $100 000, lignes 0:5 -----------------\")\n",
    "print(maisons_californie.target[0:5])\n",
    "\n",
    "print(\"Colonne MedInc (revenu médian) dans un tableau 2D, lignes 0:5\")\n",
    "print(type(maisons_californie.data))\n",
    "maisons_X = maisons_californie.data[:, np.newaxis, 0] # X est la colonne du revenu médian\n",
    "print(maisons_X[0:5])\n",
    "maisons_y = maisons_californie.target\n",
    "\n",
    "plt.scatter(maisons_X[0:500],maisons_y[0:500])\n",
    "plt.title('Données du prix vs le revenu pour California Housing')\n",
    "plt.xlabel('revenu')\n",
    "plt.ylabel('prix')\n",
    "plt.show()"
   ]
  },
  {
   "cell_type": "code",
   "execution_count": null,
   "metadata": {},
   "outputs": [],
   "source": []
  },
  {
   "cell_type": "code",
   "execution_count": null,
   "metadata": {},
   "outputs": [],
   "source": []
  }
 ],
 "metadata": {
  "kernelspec": {
   "display_name": "Python 3",
   "language": "python",
   "name": "python3"
  },
  "language_info": {
   "codemirror_mode": {
    "name": "ipython",
    "version": 3
   },
   "file_extension": ".py",
   "mimetype": "text/x-python",
   "name": "python",
   "nbconvert_exporter": "python",
   "pygments_lexer": "ipython3",
   "version": "3.8.8"
  }
 },
 "nbformat": 4,
 "nbformat_minor": 2
}
