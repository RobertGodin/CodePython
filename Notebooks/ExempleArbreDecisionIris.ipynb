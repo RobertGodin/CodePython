{
 "cells": [
  {
   "cell_type": "code",
   "execution_count": 2,
   "id": "244f46db",
   "metadata": {},
   "outputs": [
    {
     "data": {
      "text/plain": [
       "DecisionTreeClassifier(criterion='entropy')"
      ]
     },
     "execution_count": 2,
     "metadata": {},
     "output_type": "execute_result"
    }
   ],
   "source": [
    "import numpy as np\n",
    "from sklearn import datasets\n",
    "from sklearn import tree\n",
    "\n",
    "# Load iris\n",
    "iris = datasets.load_iris()\n",
    "X = iris.data\n",
    "y = iris.target\n",
    "\n",
    "# Build decision tree classifier\n",
    "dt = tree.DecisionTreeClassifier(criterion='entropy')\n",
    "dt.fit(X, y)"
   ]
  },
  {
   "cell_type": "code",
   "execution_count": 3,
   "id": "84fa010c",
   "metadata": {},
   "outputs": [],
   "source": [
    "dotfile = open(\"dt.dot\", 'w')\n",
    "tree.export_graphviz(dt, out_file=dotfile, feature_names=iris.feature_names)\n",
    "dotfile.close()"
   ]
  },
  {
   "cell_type": "code",
   "execution_count": 4,
   "id": "83fa5144",
   "metadata": {},
   "outputs": [],
   "source": [
    "from sklearn.tree import _tree\n",
    "\n",
    "def tree_to_code(tree, feature_names):\n",
    "\t\"\"\"\n",
    "\tOutputs a decision tree model as a Python function\n",
    "\t\n",
    "\tParameters:\n",
    "\t-----------\n",
    "\ttree: decision tree model\n",
    "\t\tThe decision tree to represent as a function\n",
    "\tfeature_names: list\n",
    "\t\tThe feature names of the dataset used for building the decision tree\n",
    "\t\"\"\"\n",
    "\n",
    "\ttree_ = tree.tree_\n",
    "\tfeature_name = [\n",
    "\t\tfeature_names[i] if i != _tree.TREE_UNDEFINED else \"undefined!\"\n",
    "\t\tfor i in tree_.feature\n",
    "\t]\n",
    "\tprint(\"def tree({}):\".format(\", \".join(feature_names)))\n",
    "\n",
    "\tdef recurse(node, depth):\n",
    "\t\tindent = \"  \" * depth\n",
    "\t\tif tree_.feature[node] != _tree.TREE_UNDEFINED:\n",
    "\t\t\tname = feature_name[node]\n",
    "\t\t\tthreshold = tree_.threshold[node]\n",
    "\t\t\tprint(\"{}if {} <= {}:\".format(indent, name, threshold))\n",
    "\t\t\trecurse(tree_.children_left[node], depth + 1)\n",
    "\t\t\tprint(\"{}else:  # if {} > {}\".format(indent, name, threshold))\n",
    "\t\t\trecurse(tree_.children_right[node], depth + 1)\n",
    "\t\telse:\n",
    "\t\t\tprint(\"{}return {}\".format(indent, tree_.value[node]))\n",
    "\n",
    "\trecurse(0, 1)"
   ]
  },
  {
   "cell_type": "code",
   "execution_count": 5,
   "id": "69c65b34",
   "metadata": {},
   "outputs": [
    {
     "name": "stdout",
     "output_type": "stream",
     "text": [
      "def tree(sepal length (cm), sepal width (cm), petal length (cm), petal width (cm)):\n",
      "  if petal width (cm) <= 0.800000011920929:\n",
      "    return [[50.  0.  0.]]\n",
      "  else:  # if petal width (cm) > 0.800000011920929\n",
      "    if petal width (cm) <= 1.75:\n",
      "      if petal length (cm) <= 4.950000047683716:\n",
      "        if petal width (cm) <= 1.6500000357627869:\n",
      "          return [[ 0. 47.  0.]]\n",
      "        else:  # if petal width (cm) > 1.6500000357627869\n",
      "          return [[0. 0. 1.]]\n",
      "      else:  # if petal length (cm) > 4.950000047683716\n",
      "        if petal width (cm) <= 1.550000011920929:\n",
      "          return [[0. 0. 3.]]\n",
      "        else:  # if petal width (cm) > 1.550000011920929\n",
      "          if sepal length (cm) <= 6.949999809265137:\n",
      "            return [[0. 2. 0.]]\n",
      "          else:  # if sepal length (cm) > 6.949999809265137\n",
      "            return [[0. 0. 1.]]\n",
      "    else:  # if petal width (cm) > 1.75\n",
      "      if petal length (cm) <= 4.8500001430511475:\n",
      "        if sepal length (cm) <= 5.950000047683716:\n",
      "          return [[0. 1. 0.]]\n",
      "        else:  # if sepal length (cm) > 5.950000047683716\n",
      "          return [[0. 0. 2.]]\n",
      "      else:  # if petal length (cm) > 4.8500001430511475\n",
      "        return [[ 0.  0. 43.]]\n"
     ]
    }
   ],
   "source": [
    "tree_to_code(dt, list(iris.feature_names))"
   ]
  },
  {
   "cell_type": "code",
   "execution_count": 6,
   "id": "62fdaf9b",
   "metadata": {},
   "outputs": [],
   "source": [
    "def tree_to_pseudo(tree, feature_names):\n",
    "\t\"\"\"\n",
    "\tOutputs a decision tree model as if/then pseudocode\n",
    "\t\n",
    "\tParameters:\n",
    "\t-----------\n",
    "\ttree: decision tree model\n",
    "\t\tThe decision tree to represent as pseudocode\n",
    "\tfeature_names: list\n",
    "\t\tThe feature names of the dataset used for building the decision tree\n",
    "\t\"\"\"\n",
    "\n",
    "\tleft = tree.tree_.children_left\n",
    "\tright = tree.tree_.children_right\n",
    "\tthreshold = tree.tree_.threshold\n",
    "\tfeatures = [feature_names[i] for i in tree.tree_.feature]\n",
    "\tvalue = tree.tree_.value\n",
    "\n",
    "\tdef recurse(left, right, threshold, features, node, depth=0):\n",
    "\t\tindent = \"  \" * depth\n",
    "\t\tif (threshold[node] != -2):\n",
    "\t\t\tprint(indent,\"if ( \" + features[node] + \" <= \" + str(threshold[node]) + \" ) {\")\n",
    "\t\t\tif left[node] != -1:\n",
    "\t\t\t\trecurse (left, right, threshold, features, left[node], depth+1)\n",
    "\t\t\t\tprint(indent,\"} else {\")\n",
    "\t\t\t\tif right[node] != -1:\n",
    "\t\t\t\t\trecurse (left, right, threshold, features, right[node], depth+1)\n",
    "\t\t\t\tprint(indent,\"}\")\n",
    "\t\telse:\n",
    "\t\t\tprint(indent,\"return \" + str(value[node]))\n",
    "\n",
    "\trecurse(left, right, threshold, features, 0)"
   ]
  },
  {
   "cell_type": "code",
   "execution_count": 7,
   "id": "ae724d19",
   "metadata": {},
   "outputs": [
    {
     "name": "stdout",
     "output_type": "stream",
     "text": [
      " if ( petal width (cm) <= 0.800000011920929 ) {\n",
      "   return [[50.  0.  0.]]\n",
      " } else {\n",
      "   if ( petal width (cm) <= 1.75 ) {\n",
      "     if ( petal length (cm) <= 4.950000047683716 ) {\n",
      "       if ( petal width (cm) <= 1.6500000357627869 ) {\n",
      "         return [[ 0. 47.  0.]]\n",
      "       } else {\n",
      "         return [[0. 0. 1.]]\n",
      "       }\n",
      "     } else {\n",
      "       if ( petal width (cm) <= 1.550000011920929 ) {\n",
      "         return [[0. 0. 3.]]\n",
      "       } else {\n",
      "         if ( sepal length (cm) <= 6.949999809265137 ) {\n",
      "           return [[0. 2. 0.]]\n",
      "         } else {\n",
      "           return [[0. 0. 1.]]\n",
      "         }\n",
      "       }\n",
      "     }\n",
      "   } else {\n",
      "     if ( petal length (cm) <= 4.8500001430511475 ) {\n",
      "       if ( sepal length (cm) <= 5.950000047683716 ) {\n",
      "         return [[0. 1. 0.]]\n",
      "       } else {\n",
      "         return [[0. 0. 2.]]\n",
      "       }\n",
      "     } else {\n",
      "       return [[ 0.  0. 43.]]\n",
      "     }\n",
      "   }\n",
      " }\n"
     ]
    }
   ],
   "source": [
    "tree_to_pseudo(dt, list(iris.feature_names))"
   ]
  },
  {
   "cell_type": "code",
   "execution_count": null,
   "id": "e0ce4454",
   "metadata": {},
   "outputs": [],
   "source": []
  }
 ],
 "metadata": {
  "kernelspec": {
   "display_name": "Python 3",
   "language": "python",
   "name": "python3"
  },
  "language_info": {
   "codemirror_mode": {
    "name": "ipython",
    "version": 3
   },
   "file_extension": ".py",
   "mimetype": "text/x-python",
   "name": "python",
   "nbconvert_exporter": "python",
   "pygments_lexer": "ipython3",
   "version": "3.8.8"
  }
 },
 "nbformat": 4,
 "nbformat_minor": 5
}
