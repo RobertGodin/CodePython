{
 "cells": [
  {
   "cell_type": "code",
   "execution_count": 1,
   "metadata": {},
   "outputs": [
    {
     "name": "stdout",
     "output_type": "stream",
     "text": [
      "-------- > epoch 1:  coût moyen entraînement = 0.7773018479347229\n",
      "-------- > epoch 2:  coût moyen entraînement = 0.3552558422088623\n",
      "-------- > epoch 3:  coût moyen entraînement = 0.3122105598449707\n",
      "-------- > epoch 4:  coût moyen entraînement = 0.2863697111606598\n",
      "-------- > epoch 5:  coût moyen entraînement = 0.2668796181678772\n",
      "-------- > epoch 6:  coût moyen entraînement = 0.2510523796081543\n",
      "-------- > epoch 7:  coût moyen entraînement = 0.23606045544147491\n",
      "-------- > epoch 8:  coût moyen entraînement = 0.22344647347927094\n",
      "-------- > epoch 9:  coût moyen entraînement = 0.21195107698440552\n",
      "-------- > epoch 10:  coût moyen entraînement = 0.20151516795158386\n"
     ]
    }
   ],
   "source": [
    "# -*- coding: utf-8 -*-\n",
    "\"\"\"\n",
    "Exemple simple de MNIST avec PyTorch\n",
    "Exemple avec nn.Sequential, nn.LogSoftmax, nn.NLLLoss\n",
    "\"\"\"\n",
    "import torch\n",
    "torch.manual_seed(0) # Pour résultats reproductibles\n",
    "\n",
    "# Fonction J d'entropie croisée\n",
    "import torch.nn as nn\n",
    "fonction_cout = nn.NLLLoss()\n",
    "\n",
    "modele = nn.Sequential(\n",
    "    nn.Linear(784, 30),\n",
    "    nn.ReLU(),\n",
    "    nn.Linear(30, 10),\n",
    "    nn.LogSoftmax(dim=1)\n",
    ")\n",
    "    \n",
    "from torch import optim\n",
    "optimiseur = optim.SGD(modele.parameters(), lr=0.05)\n",
    "\n",
    "# Chargement des données de MNIST\n",
    "import pickle, gzip\n",
    "fichier_donnees = gzip.open(r\"mnist.pkl.gz\", 'rb')\n",
    "((donnees_ent_X, donnees_ent_Y),(donnees_valid_X, donnees_valid_Y),(donnees_test_X,donnees_test_Y)) = pickle.load(fichier_donnees, encoding=\"latin-1\")\n",
    "fichier_donnees.close()\n",
    "\n",
    "# Conversion des données en type toch.Tensor\n",
    "import torch\n",
    "donnees_ent_X, donnees_ent_Y, donnees_test_X,donnees_test_Y = map(torch.tensor, (donnees_ent_X, donnees_ent_Y, donnees_test_X,donnees_test_Y))\n",
    "\n",
    "# Création des objets DataLoader pour itérer par lot\n",
    "from torch.utils.data import TensorDataset\n",
    "from torch.utils.data import DataLoader\n",
    "ds_ent = TensorDataset(donnees_ent_X, donnees_ent_Y)\n",
    "dl_ent = DataLoader(ds_ent, batch_size=100, shuffle=True)\n",
    "\n",
    "nb_epochs = 10\n",
    "# Boucle d'apprentissage\n",
    "for epoch in range(nb_epochs):\n",
    "    cout_total_ent = 0 \n",
    "    \n",
    "    # Boucle d'apprentissage par mini-lot pour une epoch\n",
    "    for lot_X, lot_Y in dl_ent:\n",
    "        optimiseur.zero_grad() # Remettre les dérivées à zéro\n",
    "        lot_Y_predictions = modele(lot_X) # Appel de la méthode forward\n",
    "        cout = fonction_cout(lot_Y_predictions, lot_Y)\n",
    "        cout_total_ent +=cout\n",
    "        cout.backward() # Calcul des gradiants par rétropropagation\n",
    "        optimiseur.step() # Mise à jour des paramètres\n",
    "        \n",
    "    cout_moyen_ent = cout_total_ent/len(dl_ent)\n",
    "    print(f'-------- > epoch {epoch+1}:  coût moyen entraînement = {cout_moyen_ent}')"
   ]
  },
  {
   "cell_type": "code",
   "execution_count": 2,
   "metadata": {},
   "outputs": [
    {
     "name": "stdout",
     "output_type": "stream",
     "text": [
      "Type de couche: Linear   Forme de sortie: torch.Size([1, 30])\n",
      "Type de couche: ReLU   Forme de sortie: torch.Size([1, 30])\n",
      "Type de couche: Linear   Forme de sortie: torch.Size([1, 10])\n",
      "Type de couche: LogSoftmax   Forme de sortie: torch.Size([1, 10])\n"
     ]
    }
   ],
   "source": [
    "X = torch.randn(size=(1,784), dtype=torch.float32)\n",
    "for une_couche in modele:\n",
    "    X = une_couche(X)\n",
    "    print('Type de couche:',une_couche.__class__.__name__,'  Forme de sortie:',X.shape)"
   ]
  },
  {
   "cell_type": "code",
   "execution_count": 3,
   "metadata": {},
   "outputs": [
    {
     "name": "stdout",
     "output_type": "stream",
     "text": [
      "Sequential(\n",
      "  (0): Linear(in_features=784, out_features=30, bias=True)\n",
      "  (1): ReLU()\n",
      "  (2): Linear(in_features=30, out_features=10, bias=True)\n",
      "  (3): LogSoftmax()\n",
      ")\n"
     ]
    }
   ],
   "source": [
    "print(modele)"
   ]
  },
  {
   "cell_type": "code",
   "execution_count": null,
   "metadata": {},
   "outputs": [],
   "source": []
  }
 ],
 "metadata": {
  "kernelspec": {
   "display_name": "Python 3",
   "language": "python",
   "name": "python3"
  },
  "language_info": {
   "codemirror_mode": {
    "name": "ipython",
    "version": 3
   },
   "file_extension": ".py",
   "mimetype": "text/x-python",
   "name": "python",
   "nbconvert_exporter": "python",
   "pygments_lexer": "ipython3",
   "version": "3.7.6"
  }
 },
 "nbformat": 4,
 "nbformat_minor": 4
}
